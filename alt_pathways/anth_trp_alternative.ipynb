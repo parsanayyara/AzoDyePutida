{
 "cells": [
  {
   "cell_type": "markdown",
   "id": "9f53998e-323e-4b9e-b45d-f099a0a86c2f",
   "metadata": {},
   "source": [
    "### Investigating Alternative Anthranilate Degradation Pathway\n",
    "\n",
    "Purpose: test if the cell can grow on MR/anthranilate without AnthDO by utilizing the anthranilate to tryptophan pathway\n",
    "\n",
    "-----\n",
    "\n",
    "*anthranilate is converted to tryptophan through a 4-step pathway :*\n",
    "\n",
    "anth[c] + prpp[c]  -> ppi[c] + pran[c] \n",
    "\n",
    "pran[c]  -> 2cpr5p[c] \n",
    "\n",
    "2cpr5p[c] + h[c]  -> 3ig3p[c] + co2[c] + h2o[c] \n",
    "\n",
    "3ig3p[c] + ser_L[c]  -> g3p[c] + h2o[c] + trp_L[c] \n",
    "\n",
    "----\n",
    "\n",
    "Models used: iJN1462c (with AnthDO) and iJN1462b (no heterologous AnthDO)\n",
    "\n",
    "Last Updated: Parsa Nayyara (01.02.24)"
   ]
  },
  {
   "cell_type": "code",
   "execution_count": 1,
   "id": "ce93ab90-9999-4884-aed8-9b7dbf0f96c7",
   "metadata": {},
   "outputs": [],
   "source": [
    "import cobra.test\n",
    "import os\n",
    "from os.path import join\n",
    "\n",
    "data_dir = cobra.test.data_dir\n",
    "\n",
    "from __future__ import print_function\n",
    "\n",
    "from cobra import Model, Reaction, Metabolite"
   ]
  },
  {
   "cell_type": "code",
   "execution_count": 3,
   "id": "3c786c17-f82e-4484-b562-23e0a29e1abd",
   "metadata": {},
   "outputs": [],
   "source": [
    "model_anthdo = cobra.io.read_sbml_model(join(data_dir, modelfilepath))\n",
    "model_without_anthdo = cobra.io.read_sbml_model(join(data_dir, modelfilepath2))\n",
    "model_anthdo.solver = \"cplex\"\n",
    "model_without_anthdo.solver = \"cplex\""
   ]
  },
  {
   "cell_type": "code",
   "execution_count": 4,
   "id": "427969f2-67ac-4d60-b16e-722eef8ac9ed",
   "metadata": {},
   "outputs": [
    {
     "data": {
      "text/html": [
       "\n",
       "        <table>\n",
       "            <tr>\n",
       "                <td><strong>Reaction identifier</strong></td><td>SK_anth_c</td>\n",
       "            </tr><tr>\n",
       "                <td><strong>Name</strong></td><td>Anthranilate sink</td>\n",
       "            </tr><tr>\n",
       "                <td><strong>Memory address</strong></td>\n",
       "                <td>0x0289acc75340</td>\n",
       "            </tr><tr>\n",
       "                <td><strong>Stoichiometry</strong></td>\n",
       "                <td>\n",
       "                    <p style='text-align:right'>anth_c <=></p>\n",
       "                    <p style='text-align:right'>Anthranilate <=></p>\n",
       "                </td>\n",
       "            </tr><tr>\n",
       "                <td><strong>GPR</strong></td><td></td>\n",
       "            </tr><tr>\n",
       "                <td><strong>Lower bound</strong></td><td>-1000.0</td>\n",
       "            </tr><tr>\n",
       "                <td><strong>Upper bound</strong></td><td>1000.0</td>\n",
       "            </tr>\n",
       "        </table>\n",
       "        "
      ],
      "text/plain": [
       "<Reaction SK_anth_c at 0x289acc75340>"
      ]
     },
     "execution_count": 4,
     "metadata": {},
     "output_type": "execute_result"
    }
   ],
   "source": [
    "# add anthranilate sink reaction to simulate adding anthranilate in the media\n",
    "\n",
    "model_without_anthdo.add_boundary(model_without_anthdo.metabolites.get_by_id(\"anth_c\"), type=\"sink\")\n",
    "model_anthdo.add_boundary(model_anthdo.metabolites.get_by_id(\"anth_c\"), type=\"sink\")"
   ]
  },
  {
   "cell_type": "markdown",
   "id": "20be5074-17ff-4baf-88b2-fed1d770dec6",
   "metadata": {},
   "source": [
    "### Case 1: iJN1462b, MR only"
   ]
  },
  {
   "cell_type": "code",
   "execution_count": 5,
   "id": "6cc20257-7c1f-4707-b5c4-6f92d279a752",
   "metadata": {},
   "outputs": [
    {
     "data": {
      "text/plain": [
       "{'EX_ca2_e': 10.0,\n",
       " 'EX_cl_e': 10.0,\n",
       " 'EX_co2_e': 100.0,\n",
       " 'EX_cobalt2_e': 10.0,\n",
       " 'EX_cu2_e': 10.0,\n",
       " 'EX_fe2_e': 10.0,\n",
       " 'EX_h2o_e': 100.0,\n",
       " 'EX_h_e': 100.0,\n",
       " 'EX_hco3_e': 10.0,\n",
       " 'EX_k_e': 10.0,\n",
       " 'EX_mg2_e': 10.0,\n",
       " 'EX_mn2_e': 10.0,\n",
       " 'EX_mobd_e': 10.0,\n",
       " 'EX_na1_e': 10.0,\n",
       " 'EX_nh4_e': 10.0,\n",
       " 'EX_ni2_e': 10.0,\n",
       " 'EX_o2_e': 30.0,\n",
       " 'EX_pi_e': 10.0,\n",
       " 'EX_sel_e': 10.0,\n",
       " 'EX_so4_e': 10.0,\n",
       " 'EX_tungs_e': 10.0,\n",
       " 'EX_zn2_e': 10.0,\n",
       " 'EX_MR': 1000}"
      ]
     },
     "execution_count": 5,
     "metadata": {},
     "output_type": "execute_result"
    }
   ],
   "source": [
    "# change bounds according to M9 minimal media in Nogales et al. 2020\n",
    "\n",
    "cobra.Reaction(\"EX_ca2_e\", lower_bound = -10, upper_bound = 1000.0)\n",
    "cobra.Reaction(\"EX_co2_e\", lower_bound = -100, upper_bound = 1000.0)\n",
    "cobra.Reaction(\"EX_cobalt2_e\", lower_bound = -10, upper_bound = 1000.0)\n",
    "cobra.Reaction(\"EX_cu2_e\", lower_bound = -10, upper_bound = 1000.0)\n",
    "cobra.Reaction(\"EX_cl_e\", lower_bound = -10, upper_bound = 1000.0)\n",
    "cobra.Reaction(\"EX_fe2_e\", lower_bound = -10, upper_bound = 1000.0)\n",
    "cobra.Reaction(\"EX_glc__D_e\", lower_bound = -6.3, upper_bound = 1000.0)\n",
    "cobra.Reaction(\"EX_h2o_e\", lower_bound = -100, upper_bound = 1000.0)\n",
    "cobra.Reaction(\"EX_h_e\", lower_bound = -100, upper_bound = 1000.0)\n",
    "cobra.Reaction(\"EX_hco3_e\", lower_bound = -10, upper_bound = 1000.0)\n",
    "cobra.Reaction(\"EX_k_e\", lower_bound = -10, upper_bound = 1000.0)\n",
    "cobra.Reaction(\"EX_mg2_e\", lower_bound = -10, upper_bound = 1000.0)\n",
    "cobra.Reaction(\"EX_mn2_e\", lower_bound = -10, upper_bound = 1000.0)\n",
    "cobra.Reaction(\"EX_mobd_e\", lower_bound = -10, upper_bound = 1000.0)\n",
    "cobra.Reaction(\"EX_nh4_e\", lower_bound = -10, upper_bound = 1000.0)\n",
    "cobra.Reaction(\"EX_ni2_e\", lower_bound = -10, upper_bound = 1000.0)\n",
    "cobra.Reaction(\"EX_o2_e\", lower_bound = -30, upper_bound = 1000.0)\n",
    "cobra.Reaction(\"EX_pi_e\", lower_bound = -10, upper_bound = 1000.0)\n",
    "cobra.Reaction(\"EX_sel_e\", lower_bound = -10, upper_bound = 1000.0)\n",
    "cobra.Reaction(\"EX_so4_e\", lower_bound = -10, upper_bound = 1000.0)\n",
    "cobra.Reaction(\"EX_tungs_e\", lower_bound = -10, upper_bound = 1000.0)\n",
    "cobra.Reaction(\"EX_zn2_e\", lower_bound = -10, upper_bound = 1000.0)\n",
    "cobra.Reaction(\"EX_MR\", lower_bound = -1000, upper_bound = 1000.0)\n",
    "\n",
    "medium = model_without_anthdo.medium\n",
    "medium[\"EX_acmtsoxin_e\"] = 0.0\n",
    "medium[\"EX_acpptrn_e\"] = 0.0\n",
    "medium[\"EX_d2one_e\"] = 0.0\n",
    "medium[\"EX_d3one_e\"] = 0.0\n",
    "medium[\"EX_d4one_e\"] = 0.0\n",
    "medium[\"EX_mtsoxin_e\"] = 0.0\n",
    "medium[\"EX_n2one_e\"] = 0.0\n",
    "medium[\"EX_pptrn_e\"] = 0.0\n",
    "medium[\"EX_und2one_e\"] = 0.0\n",
    "medium[\"EX_gACT[e]\"] = 0.0\n",
    "medium[\"EX_nh4_e\"] = 10.0\n",
    "medium[\"EX_o2_e\"] = 30.0\n",
    "\n",
    "# change carbon source and amino acid composition\n",
    "medium[\"EX_MR\"] = 1000\n",
    "medium[\"EX_ser__L_e\"] = 0.0\n",
    "medium[\"EX_glc__D_e\"] = 0.0\n",
    "\n",
    "model_without_anthdo.medium = medium\n",
    "\n",
    "model_without_anthdo.reactions.SK_anth_c.lower_bound = 0.0\n",
    "model_without_anthdo.reactions.SK_anth_c.upper_bound = 0.0\n",
    "model_without_anthdo.reactions.SK_anth_c\n",
    "\n",
    "model_without_anthdo.medium"
   ]
  },
  {
   "cell_type": "code",
   "execution_count": 6,
   "id": "c236c1aa-ac8f-4552-898c-2175a79855da",
   "metadata": {},
   "outputs": [
    {
     "name": "stderr",
     "output_type": "stream",
     "text": [
      "C:\\Users\\Nayyara\\anaconda3\\envs\\me21\\lib\\site-packages\\cobra\\util\\solver.py:554: UserWarning: Solver status is 'infeasible'.\n",
      "  warn(f\"Solver status is '{status}'.\", UserWarning)\n"
     ]
    },
    {
     "data": {
      "text/html": [
       "<strong><em>infeasible</em> solution</strong>"
      ],
      "text/plain": [
       "<Solution infeasible at 0x289e1061f10>"
      ]
     },
     "execution_count": 6,
     "metadata": {},
     "output_type": "execute_result"
    }
   ],
   "source": [
    "model_without_anthdo.optimize()"
   ]
  },
  {
   "cell_type": "markdown",
   "id": "6b5887a3-af4d-4ba4-9e04-20085ccd2eab",
   "metadata": {},
   "source": [
    "**Result: Model did not grow on MR only without AnthDO**"
   ]
  },
  {
   "cell_type": "markdown",
   "id": "22122437-1644-4ffb-a440-2fd1802f3739",
   "metadata": {},
   "source": [
    "### Case 2: iJN1462c, MR only"
   ]
  },
  {
   "cell_type": "code",
   "execution_count": 7,
   "id": "4f4284f8-7f45-4508-830a-1e6daf2e9288",
   "metadata": {},
   "outputs": [
    {
     "data": {
      "text/plain": [
       "{'EX_ca2_e': 10.0,\n",
       " 'EX_cl_e': 10.0,\n",
       " 'EX_co2_e': 100.0,\n",
       " 'EX_cobalt2_e': 10.0,\n",
       " 'EX_cu2_e': 10.0,\n",
       " 'EX_fe2_e': 10.0,\n",
       " 'EX_h2o_e': 100.0,\n",
       " 'EX_h_e': 100.0,\n",
       " 'EX_hco3_e': 10.0,\n",
       " 'EX_k_e': 10.0,\n",
       " 'EX_mg2_e': 10.0,\n",
       " 'EX_mn2_e': 10.0,\n",
       " 'EX_mobd_e': 10.0,\n",
       " 'EX_na1_e': 10.0,\n",
       " 'EX_nh4_e': 10.0,\n",
       " 'EX_ni2_e': 10.0,\n",
       " 'EX_o2_e': 30.0,\n",
       " 'EX_pi_e': 10.0,\n",
       " 'EX_sel_e': 10.0,\n",
       " 'EX_so4_e': 10.0,\n",
       " 'EX_tungs_e': 10.0,\n",
       " 'EX_zn2_e': 10.0,\n",
       " 'EX_MR': 1000}"
      ]
     },
     "execution_count": 7,
     "metadata": {},
     "output_type": "execute_result"
    }
   ],
   "source": [
    "medium = model_anthdo.medium\n",
    "medium[\"EX_acmtsoxin_e\"] = 0.0\n",
    "medium[\"EX_acpptrn_e\"] = 0.0\n",
    "medium[\"EX_d2one_e\"] = 0.0\n",
    "medium[\"EX_d3one_e\"] = 0.0\n",
    "medium[\"EX_d4one_e\"] = 0.0\n",
    "medium[\"EX_mtsoxin_e\"] = 0.0\n",
    "medium[\"EX_n2one_e\"] = 0.0\n",
    "medium[\"EX_pptrn_e\"] = 0.0\n",
    "medium[\"EX_und2one_e\"] = 0.0\n",
    "medium[\"EX_gACT[e]\"] = 0.0\n",
    "medium[\"EX_nh4_e\"] = 10.0\n",
    "medium[\"EX_o2_e\"] = 30.0\n",
    "\n",
    "# change carbon source and amino acid composition\n",
    "medium[\"EX_MR\"] = 1000\n",
    "medium[\"EX_ser__L_e\"] = 0.0\n",
    "medium[\"EX_glc__D_e\"] = 0.0\n",
    "\n",
    "model_anthdo.medium = medium\n",
    "\n",
    "model_anthdo.reactions.SK_anth_c.lower_bound = 0.0\n",
    "model_anthdo.reactions.SK_anth_c.upper_bound = 0.0\n",
    "model_anthdo.reactions.SK_anth_c\n",
    "\n",
    "model_anthdo.medium"
   ]
  },
  {
   "cell_type": "code",
   "execution_count": 8,
   "id": "8c2f7ad5-1b84-43fb-9a1b-19c07082409b",
   "metadata": {},
   "outputs": [
    {
     "data": {
      "text/html": [
       "<strong><em>Optimal</em> solution with objective value 0.598</strong><br><div>\n",
       "<style scoped>\n",
       "    .dataframe tbody tr th:only-of-type {\n",
       "        vertical-align: middle;\n",
       "    }\n",
       "\n",
       "    .dataframe tbody tr th {\n",
       "        vertical-align: top;\n",
       "    }\n",
       "\n",
       "    .dataframe thead th {\n",
       "        text-align: right;\n",
       "    }\n",
       "</style>\n",
       "<table border=\"1\" class=\"dataframe\">\n",
       "  <thead>\n",
       "    <tr style=\"text-align: right;\">\n",
       "      <th></th>\n",
       "      <th>fluxes</th>\n",
       "      <th>reduced_costs</th>\n",
       "    </tr>\n",
       "  </thead>\n",
       "  <tbody>\n",
       "    <tr>\n",
       "      <th>3HAD160</th>\n",
       "      <td>0.021332</td>\n",
       "      <td>0.000000e+00</td>\n",
       "    </tr>\n",
       "    <tr>\n",
       "      <th>13DAMPPabcpp</th>\n",
       "      <td>0.000000</td>\n",
       "      <td>0.000000e+00</td>\n",
       "    </tr>\n",
       "    <tr>\n",
       "      <th>13DAMPPtex</th>\n",
       "      <td>0.000000</td>\n",
       "      <td>0.000000e+00</td>\n",
       "    </tr>\n",
       "    <tr>\n",
       "      <th>15DAPabcpp</th>\n",
       "      <td>0.000000</td>\n",
       "      <td>0.000000e+00</td>\n",
       "    </tr>\n",
       "    <tr>\n",
       "      <th>1P2CBXLCYCL</th>\n",
       "      <td>0.000000</td>\n",
       "      <td>-6.938894e-18</td>\n",
       "    </tr>\n",
       "    <tr>\n",
       "      <th>...</th>\n",
       "      <td>...</td>\n",
       "      <td>...</td>\n",
       "    </tr>\n",
       "    <tr>\n",
       "      <th>ANLex</th>\n",
       "      <td>0.000000</td>\n",
       "      <td>-0.000000e+00</td>\n",
       "    </tr>\n",
       "    <tr>\n",
       "      <th>anthex</th>\n",
       "      <td>0.000000</td>\n",
       "      <td>0.000000e+00</td>\n",
       "    </tr>\n",
       "    <tr>\n",
       "      <th>EX_anth_e</th>\n",
       "      <td>0.000000</td>\n",
       "      <td>-1.709531e-02</td>\n",
       "    </tr>\n",
       "    <tr>\n",
       "      <th>anthpp</th>\n",
       "      <td>0.000000</td>\n",
       "      <td>0.000000e+00</td>\n",
       "    </tr>\n",
       "    <tr>\n",
       "      <th>SK_anth_c</th>\n",
       "      <td>0.000000</td>\n",
       "      <td>-2.119819e-02</td>\n",
       "    </tr>\n",
       "  </tbody>\n",
       "</table>\n",
       "<p>2973 rows × 2 columns</p>\n",
       "</div>"
      ],
      "text/plain": [
       "<Solution 0.598 at 0x289e37ba700>"
      ]
     },
     "execution_count": 8,
     "metadata": {},
     "output_type": "execute_result"
    }
   ],
   "source": [
    "model_anthdo.optimize()"
   ]
  },
  {
   "cell_type": "code",
   "execution_count": 9,
   "id": "1ab7be33-8cb5-4bdd-ac2d-0c13167ccf52",
   "metadata": {},
   "outputs": [
    {
     "data": {
      "text/plain": [
       "0.04637089910266653"
      ]
     },
     "execution_count": 9,
     "metadata": {},
     "output_type": "execute_result"
    }
   ],
   "source": [
    "# check if anthranilate to trp pathway is active and how much flux it generates compared AnthDO\n",
    "\n",
    "model_anthdo.reactions.ANPRT.flux"
   ]
  },
  {
   "cell_type": "code",
   "execution_count": 10,
   "id": "4e5b158f-d715-4770-899d-eea4cefaacb6",
   "metadata": {},
   "outputs": [
    {
     "data": {
      "text/plain": [
       "9.130237517465982"
      ]
     },
     "execution_count": 10,
     "metadata": {},
     "output_type": "execute_result"
    }
   ],
   "source": [
    "# check if anthranilate to trp pathway is active and how much flux it generates compared AnthDO\n",
    "\n",
    "model_anthdo.reactions.AnthDO.flux"
   ]
  },
  {
   "cell_type": "markdown",
   "id": "8e33a3da-b307-4b50-894b-aa46446d5635",
   "metadata": {},
   "source": [
    "**Result: Model grows on MR only with AnthDO**\n",
    "\n",
    "- the anthranilate to trp pathway is not the main source of carbon as there was a higher flux going through AnthDO compared to ANPRT"
   ]
  },
  {
   "cell_type": "markdown",
   "id": "9269faf5-c4ed-4cf7-b83e-7f10ac1ca674",
   "metadata": {},
   "source": [
    "### Case 3: iJN1462b, anthranilate only"
   ]
  },
  {
   "cell_type": "code",
   "execution_count": 11,
   "id": "b2487769-93bb-43d4-80ae-76871244e879",
   "metadata": {},
   "outputs": [
    {
     "name": "stdout",
     "output_type": "stream",
     "text": [
      "{'EX_ca2_e': 10.0, 'EX_cl_e': 10.0, 'EX_co2_e': 100.0, 'EX_cobalt2_e': 10.0, 'EX_cu2_e': 10.0, 'EX_fe2_e': 10.0, 'EX_h2o_e': 100.0, 'EX_h_e': 100.0, 'EX_hco3_e': 10.0, 'EX_k_e': 10.0, 'EX_mg2_e': 10.0, 'EX_mn2_e': 10.0, 'EX_mobd_e': 10.0, 'EX_na1_e': 10.0, 'EX_nh4_e': 10.0, 'EX_ni2_e': 10.0, 'EX_o2_e': 30.0, 'EX_pi_e': 10.0, 'EX_sel_e': 10.0, 'EX_so4_e': 10.0, 'EX_tungs_e': 10.0, 'EX_zn2_e': 10.0}\n"
     ]
    },
    {
     "data": {
      "text/html": [
       "\n",
       "        <table>\n",
       "            <tr>\n",
       "                <td><strong>Reaction identifier</strong></td><td>SK_anth_c</td>\n",
       "            </tr><tr>\n",
       "                <td><strong>Name</strong></td><td>Anthranilate sink</td>\n",
       "            </tr><tr>\n",
       "                <td><strong>Memory address</strong></td>\n",
       "                <td>0x0289df9ae0a0</td>\n",
       "            </tr><tr>\n",
       "                <td><strong>Stoichiometry</strong></td>\n",
       "                <td>\n",
       "                    <p style='text-align:right'>anth_c <--</p>\n",
       "                    <p style='text-align:right'>Anthranilate <--</p>\n",
       "                </td>\n",
       "            </tr><tr>\n",
       "                <td><strong>GPR</strong></td><td></td>\n",
       "            </tr><tr>\n",
       "                <td><strong>Lower bound</strong></td><td>-1000</td>\n",
       "            </tr><tr>\n",
       "                <td><strong>Upper bound</strong></td><td>0</td>\n",
       "            </tr>\n",
       "        </table>\n",
       "        "
      ],
      "text/plain": [
       "<Reaction SK_anth_c at 0x289df9ae0a0>"
      ]
     },
     "execution_count": 11,
     "metadata": {},
     "output_type": "execute_result"
    }
   ],
   "source": [
    "medium = model_without_anthdo.medium\n",
    "medium[\"EX_acmtsoxin_e\"] = 0.0\n",
    "medium[\"EX_acpptrn_e\"] = 0.0\n",
    "medium[\"EX_d2one_e\"] = 0.0\n",
    "medium[\"EX_d3one_e\"] = 0.0\n",
    "medium[\"EX_d4one_e\"] = 0.0\n",
    "medium[\"EX_mtsoxin_e\"] = 0.0\n",
    "medium[\"EX_n2one_e\"] = 0.0\n",
    "medium[\"EX_pptrn_e\"] = 0.0\n",
    "medium[\"EX_und2one_e\"] = 0.0\n",
    "medium[\"EX_gACT[e]\"] = 0.0\n",
    "medium[\"EX_nh4_e\"] = 10.0\n",
    "medium[\"EX_o2_e\"] = 30.0\n",
    "\n",
    "# change carbon source and amino acid composition\n",
    "medium[\"EX_MR\"] = 0.0\n",
    "medium[\"EX_ser__L_e\"] = 0.0\n",
    "medium[\"EX_glc__D_e\"] = 0.0\n",
    "\n",
    "model_without_anthdo.medium = medium\n",
    "\n",
    "model_without_anthdo.reactions.SK_anth_c.lower_bound = -1000\n",
    "model_without_anthdo.reactions.SK_anth_c.upper_bound = 0\n",
    "\n",
    "print(model_without_anthdo.medium)\n",
    "model_without_anthdo.reactions.SK_anth_c"
   ]
  },
  {
   "cell_type": "code",
   "execution_count": 12,
   "id": "34ffb4a6-5ede-4ee5-958c-4b44fd35e39d",
   "metadata": {},
   "outputs": [
    {
     "name": "stderr",
     "output_type": "stream",
     "text": [
      "C:\\Users\\Nayyara\\anaconda3\\envs\\me21\\lib\\site-packages\\cobra\\util\\solver.py:554: UserWarning: Solver status is 'infeasible'.\n",
      "  warn(f\"Solver status is '{status}'.\", UserWarning)\n"
     ]
    },
    {
     "data": {
      "text/html": [
       "<strong><em>infeasible</em> solution</strong>"
      ],
      "text/plain": [
       "<Solution infeasible at 0x289e37ba2e0>"
      ]
     },
     "execution_count": 12,
     "metadata": {},
     "output_type": "execute_result"
    }
   ],
   "source": [
    "model_without_anthdo.optimize()"
   ]
  },
  {
   "cell_type": "markdown",
   "id": "56d9f5bb-5f14-4c9f-b2b4-0fd5f5550c18",
   "metadata": {},
   "source": [
    "**Result: Model did not grow on anthranilate only without AnthDO**"
   ]
  },
  {
   "cell_type": "markdown",
   "id": "1d7b9b55-892b-454a-a38d-4610612cd422",
   "metadata": {},
   "source": [
    "### Case 4: iJN1462c, anthranilate only"
   ]
  },
  {
   "cell_type": "code",
   "execution_count": 13,
   "id": "50a5ca61-4594-4ebf-902d-d228b4caf079",
   "metadata": {},
   "outputs": [
    {
     "name": "stdout",
     "output_type": "stream",
     "text": [
      "{'EX_ca2_e': 10.0, 'EX_cl_e': 10.0, 'EX_co2_e': 100.0, 'EX_cobalt2_e': 10.0, 'EX_cu2_e': 10.0, 'EX_fe2_e': 10.0, 'EX_h2o_e': 100.0, 'EX_h_e': 100.0, 'EX_hco3_e': 10.0, 'EX_k_e': 10.0, 'EX_mg2_e': 10.0, 'EX_mn2_e': 10.0, 'EX_mobd_e': 10.0, 'EX_na1_e': 10.0, 'EX_nh4_e': 10.0, 'EX_ni2_e': 10.0, 'EX_o2_e': 30.0, 'EX_pi_e': 10.0, 'EX_sel_e': 10.0, 'EX_so4_e': 10.0, 'EX_tungs_e': 10.0, 'EX_zn2_e': 10.0}\n"
     ]
    },
    {
     "data": {
      "text/html": [
       "\n",
       "        <table>\n",
       "            <tr>\n",
       "                <td><strong>Reaction identifier</strong></td><td>SK_anth_c</td>\n",
       "            </tr><tr>\n",
       "                <td><strong>Name</strong></td><td>Anthranilate sink</td>\n",
       "            </tr><tr>\n",
       "                <td><strong>Memory address</strong></td>\n",
       "                <td>0x0289acc75340</td>\n",
       "            </tr><tr>\n",
       "                <td><strong>Stoichiometry</strong></td>\n",
       "                <td>\n",
       "                    <p style='text-align:right'>anth_c <--</p>\n",
       "                    <p style='text-align:right'>Anthranilate <--</p>\n",
       "                </td>\n",
       "            </tr><tr>\n",
       "                <td><strong>GPR</strong></td><td></td>\n",
       "            </tr><tr>\n",
       "                <td><strong>Lower bound</strong></td><td>-1000</td>\n",
       "            </tr><tr>\n",
       "                <td><strong>Upper bound</strong></td><td>0</td>\n",
       "            </tr>\n",
       "        </table>\n",
       "        "
      ],
      "text/plain": [
       "<Reaction SK_anth_c at 0x289acc75340>"
      ]
     },
     "execution_count": 13,
     "metadata": {},
     "output_type": "execute_result"
    }
   ],
   "source": [
    "medium = model_anthdo.medium\n",
    "medium[\"EX_acmtsoxin_e\"] = 0.0\n",
    "medium[\"EX_acpptrn_e\"] = 0.0\n",
    "medium[\"EX_d2one_e\"] = 0.0\n",
    "medium[\"EX_d3one_e\"] = 0.0\n",
    "medium[\"EX_d4one_e\"] = 0.0\n",
    "medium[\"EX_mtsoxin_e\"] = 0.0\n",
    "medium[\"EX_n2one_e\"] = 0.0\n",
    "medium[\"EX_pptrn_e\"] = 0.0\n",
    "medium[\"EX_und2one_e\"] = 0.0\n",
    "medium[\"EX_gACT[e]\"] = 0.0\n",
    "medium[\"EX_nh4_e\"] = 10.0\n",
    "medium[\"EX_o2_e\"] = 30.0\n",
    "\n",
    "# change carbon source and amino acid composition\n",
    "medium[\"EX_MR\"] = 0.0\n",
    "medium[\"EX_ser__L_e\"] = 0.0\n",
    "medium[\"EX_glc__D_e\"] = 0.0\n",
    "\n",
    "model_anthdo.medium = medium\n",
    "\n",
    "model_anthdo.reactions.SK_anth_c.lower_bound = -1000\n",
    "model_anthdo.reactions.SK_anth_c.upper_bound = 0\n",
    "\n",
    "print(model_anthdo.medium)\n",
    "model_anthdo.reactions.SK_anth_c"
   ]
  },
  {
   "cell_type": "code",
   "execution_count": 14,
   "id": "cde1d4fb-e5fa-4b17-87a1-2e200a359627",
   "metadata": {},
   "outputs": [
    {
     "data": {
      "text/html": [
       "<strong><em>Optimal</em> solution with objective value 1.808</strong><br><div>\n",
       "<style scoped>\n",
       "    .dataframe tbody tr th:only-of-type {\n",
       "        vertical-align: middle;\n",
       "    }\n",
       "\n",
       "    .dataframe tbody tr th {\n",
       "        vertical-align: top;\n",
       "    }\n",
       "\n",
       "    .dataframe thead th {\n",
       "        text-align: right;\n",
       "    }\n",
       "</style>\n",
       "<table border=\"1\" class=\"dataframe\">\n",
       "  <thead>\n",
       "    <tr style=\"text-align: right;\">\n",
       "      <th></th>\n",
       "      <th>fluxes</th>\n",
       "      <th>reduced_costs</th>\n",
       "    </tr>\n",
       "  </thead>\n",
       "  <tbody>\n",
       "    <tr>\n",
       "      <th>3HAD160</th>\n",
       "      <td>0.064546</td>\n",
       "      <td>0.0</td>\n",
       "    </tr>\n",
       "    <tr>\n",
       "      <th>13DAMPPabcpp</th>\n",
       "      <td>0.000000</td>\n",
       "      <td>0.0</td>\n",
       "    </tr>\n",
       "    <tr>\n",
       "      <th>13DAMPPtex</th>\n",
       "      <td>0.000000</td>\n",
       "      <td>0.0</td>\n",
       "    </tr>\n",
       "    <tr>\n",
       "      <th>15DAPabcpp</th>\n",
       "      <td>0.000000</td>\n",
       "      <td>0.0</td>\n",
       "    </tr>\n",
       "    <tr>\n",
       "      <th>1P2CBXLCYCL</th>\n",
       "      <td>0.000000</td>\n",
       "      <td>0.0</td>\n",
       "    </tr>\n",
       "    <tr>\n",
       "      <th>...</th>\n",
       "      <td>...</td>\n",
       "      <td>...</td>\n",
       "    </tr>\n",
       "    <tr>\n",
       "      <th>ANLex</th>\n",
       "      <td>0.000000</td>\n",
       "      <td>0.0</td>\n",
       "    </tr>\n",
       "    <tr>\n",
       "      <th>anthex</th>\n",
       "      <td>-553.864535</td>\n",
       "      <td>0.0</td>\n",
       "    </tr>\n",
       "    <tr>\n",
       "      <th>EX_anth_e</th>\n",
       "      <td>553.864535</td>\n",
       "      <td>0.0</td>\n",
       "    </tr>\n",
       "    <tr>\n",
       "      <th>anthpp</th>\n",
       "      <td>-553.864535</td>\n",
       "      <td>0.0</td>\n",
       "    </tr>\n",
       "    <tr>\n",
       "      <th>SK_anth_c</th>\n",
       "      <td>-568.982978</td>\n",
       "      <td>-0.0</td>\n",
       "    </tr>\n",
       "  </tbody>\n",
       "</table>\n",
       "<p>2973 rows × 2 columns</p>\n",
       "</div>"
      ],
      "text/plain": [
       "<Solution 1.808 at 0x289e397ea30>"
      ]
     },
     "execution_count": 14,
     "metadata": {},
     "output_type": "execute_result"
    }
   ],
   "source": [
    "model_anthdo.optimize()"
   ]
  },
  {
   "cell_type": "markdown",
   "id": "35d70ff2-d872-4374-b918-c5c7333e82fe",
   "metadata": {},
   "source": [
    "**Result: Model grows on anthranilate only with AnthDO**"
   ]
  },
  {
   "cell_type": "markdown",
   "id": "3f90c67c-73c6-42a7-a0e1-0ab9e2c58445",
   "metadata": {},
   "source": [
    "### Case 5: iJN1462b, anthranilate + glucose (expected = grow)"
   ]
  },
  {
   "cell_type": "code",
   "execution_count": 15,
   "id": "08c903a0-464f-4da6-9916-2006525d7b01",
   "metadata": {},
   "outputs": [
    {
     "name": "stdout",
     "output_type": "stream",
     "text": [
      "{'EX_ca2_e': 10.0, 'EX_cl_e': 10.0, 'EX_co2_e': 100.0, 'EX_cobalt2_e': 10.0, 'EX_cu2_e': 10.0, 'EX_fe2_e': 10.0, 'EX_glc__D_e': 6.3, 'EX_h2o_e': 100.0, 'EX_h_e': 100.0, 'EX_hco3_e': 10.0, 'EX_k_e': 10.0, 'EX_mg2_e': 10.0, 'EX_mn2_e': 10.0, 'EX_mobd_e': 10.0, 'EX_na1_e': 10.0, 'EX_nh4_e': 10.0, 'EX_ni2_e': 10.0, 'EX_o2_e': 30.0, 'EX_pi_e': 10.0, 'EX_sel_e': 10.0, 'EX_so4_e': 10.0, 'EX_tungs_e': 10.0, 'EX_zn2_e': 10.0}\n"
     ]
    },
    {
     "data": {
      "text/html": [
       "\n",
       "        <table>\n",
       "            <tr>\n",
       "                <td><strong>Reaction identifier</strong></td><td>SK_anth_c</td>\n",
       "            </tr><tr>\n",
       "                <td><strong>Name</strong></td><td>Anthranilate sink</td>\n",
       "            </tr><tr>\n",
       "                <td><strong>Memory address</strong></td>\n",
       "                <td>0x0289df9ae0a0</td>\n",
       "            </tr><tr>\n",
       "                <td><strong>Stoichiometry</strong></td>\n",
       "                <td>\n",
       "                    <p style='text-align:right'>anth_c <--</p>\n",
       "                    <p style='text-align:right'>Anthranilate <--</p>\n",
       "                </td>\n",
       "            </tr><tr>\n",
       "                <td><strong>GPR</strong></td><td></td>\n",
       "            </tr><tr>\n",
       "                <td><strong>Lower bound</strong></td><td>-1000</td>\n",
       "            </tr><tr>\n",
       "                <td><strong>Upper bound</strong></td><td>0</td>\n",
       "            </tr>\n",
       "        </table>\n",
       "        "
      ],
      "text/plain": [
       "<Reaction SK_anth_c at 0x289df9ae0a0>"
      ]
     },
     "execution_count": 15,
     "metadata": {},
     "output_type": "execute_result"
    }
   ],
   "source": [
    "medium = model_without_anthdo.medium\n",
    "medium[\"EX_acmtsoxin_e\"] = 0.0\n",
    "medium[\"EX_acpptrn_e\"] = 0.0\n",
    "medium[\"EX_d2one_e\"] = 0.0\n",
    "medium[\"EX_d3one_e\"] = 0.0\n",
    "medium[\"EX_d4one_e\"] = 0.0\n",
    "medium[\"EX_mtsoxin_e\"] = 0.0\n",
    "medium[\"EX_n2one_e\"] = 0.0\n",
    "medium[\"EX_pptrn_e\"] = 0.0\n",
    "medium[\"EX_und2one_e\"] = 0.0\n",
    "medium[\"EX_gACT[e]\"] = 0.0\n",
    "medium[\"EX_nh4_e\"] = 10.0\n",
    "medium[\"EX_o2_e\"] = 30.0\n",
    "\n",
    "# change carbon source and amino acid composition\n",
    "medium[\"EX_MR\"] = 0.0\n",
    "medium[\"EX_ser__L_e\"] = 0.0\n",
    "medium[\"EX_glc__D_e\"] = 6.3\n",
    "\n",
    "model_without_anthdo.medium = medium\n",
    "\n",
    "model_without_anthdo.reactions.SK_anth_c.lower_bound = -1000\n",
    "model_without_anthdo.reactions.SK_anth_c.upper_bound = 0\n",
    "\n",
    "print(model_without_anthdo.medium)\n",
    "model_without_anthdo.reactions.SK_anth_c"
   ]
  },
  {
   "cell_type": "code",
   "execution_count": 16,
   "id": "b552a6ad-e5ed-4261-8aa4-516830929a51",
   "metadata": {},
   "outputs": [
    {
     "data": {
      "text/html": [
       "<strong><em>Optimal</em> solution with objective value 0.622</strong><br><div>\n",
       "<style scoped>\n",
       "    .dataframe tbody tr th:only-of-type {\n",
       "        vertical-align: middle;\n",
       "    }\n",
       "\n",
       "    .dataframe tbody tr th {\n",
       "        vertical-align: top;\n",
       "    }\n",
       "\n",
       "    .dataframe thead th {\n",
       "        text-align: right;\n",
       "    }\n",
       "</style>\n",
       "<table border=\"1\" class=\"dataframe\">\n",
       "  <thead>\n",
       "    <tr style=\"text-align: right;\">\n",
       "      <th></th>\n",
       "      <th>fluxes</th>\n",
       "      <th>reduced_costs</th>\n",
       "    </tr>\n",
       "  </thead>\n",
       "  <tbody>\n",
       "    <tr>\n",
       "      <th>3HAD160</th>\n",
       "      <td>0.022213</td>\n",
       "      <td>0.000000e+00</td>\n",
       "    </tr>\n",
       "    <tr>\n",
       "      <th>13DAMPPabcpp</th>\n",
       "      <td>0.000000</td>\n",
       "      <td>2.775558e-17</td>\n",
       "    </tr>\n",
       "    <tr>\n",
       "      <th>13DAMPPtex</th>\n",
       "      <td>0.000000</td>\n",
       "      <td>0.000000e+00</td>\n",
       "    </tr>\n",
       "    <tr>\n",
       "      <th>15DAPabcpp</th>\n",
       "      <td>0.000000</td>\n",
       "      <td>0.000000e+00</td>\n",
       "    </tr>\n",
       "    <tr>\n",
       "      <th>1P2CBXLCYCL</th>\n",
       "      <td>0.000000</td>\n",
       "      <td>-0.000000e+00</td>\n",
       "    </tr>\n",
       "    <tr>\n",
       "      <th>...</th>\n",
       "      <td>...</td>\n",
       "      <td>...</td>\n",
       "    </tr>\n",
       "    <tr>\n",
       "      <th>ACPpdsact</th>\n",
       "      <td>0.000000</td>\n",
       "      <td>-1.600324e-02</td>\n",
       "    </tr>\n",
       "    <tr>\n",
       "      <th>ACPSact</th>\n",
       "      <td>0.000000</td>\n",
       "      <td>0.000000e+00</td>\n",
       "    </tr>\n",
       "    <tr>\n",
       "      <th>DM_ACT</th>\n",
       "      <td>0.000000</td>\n",
       "      <td>-3.657884e-02</td>\n",
       "    </tr>\n",
       "    <tr>\n",
       "      <th>EX_gACT[e]</th>\n",
       "      <td>0.000000</td>\n",
       "      <td>-0.000000e+00</td>\n",
       "    </tr>\n",
       "    <tr>\n",
       "      <th>SK_anth_c</th>\n",
       "      <td>-0.048287</td>\n",
       "      <td>-0.000000e+00</td>\n",
       "    </tr>\n",
       "  </tbody>\n",
       "</table>\n",
       "<p>2959 rows × 2 columns</p>\n",
       "</div>"
      ],
      "text/plain": [
       "<Solution 0.622 at 0x289e39df100>"
      ]
     },
     "execution_count": 16,
     "metadata": {},
     "output_type": "execute_result"
    }
   ],
   "source": [
    "model_without_anthdo.optimize()"
   ]
  },
  {
   "cell_type": "code",
   "execution_count": 17,
   "id": "aa37945c-2815-4767-9957-039a5c24bb97",
   "metadata": {},
   "outputs": [
    {
     "data": {
      "text/plain": [
       "0.04828708261471029"
      ]
     },
     "execution_count": 17,
     "metadata": {},
     "output_type": "execute_result"
    }
   ],
   "source": [
    "# check if anthranilate to trp pathway is active\n",
    "\n",
    "model_without_anthdo.reactions.ANPRT.flux"
   ]
  },
  {
   "cell_type": "code",
   "execution_count": 18,
   "id": "64b96a07-97bc-4505-8bd8-2fb3d15dbe9e",
   "metadata": {},
   "outputs": [
    {
     "data": {
      "text/plain": [
       "5.465108363444402"
      ]
     },
     "execution_count": 18,
     "metadata": {},
     "output_type": "execute_result"
    }
   ],
   "source": [
    "# check if ED pathway is active\n",
    "\n",
    "model_without_anthdo.reactions.EDD.flux"
   ]
  },
  {
   "cell_type": "markdown",
   "id": "2658994e-f1d4-4bfd-9655-b4c88c5a2ce6",
   "metadata": {},
   "source": [
    "**Result: Model grows on anthranilate without AnthDO when supplied with glucose**\n",
    "\n",
    "- anthranilate to trp pathway is active, but main carbon source is likely from glucose"
   ]
  },
  {
   "cell_type": "markdown",
   "id": "14361004-2dc5-4fb2-9a9b-58c2caf562ef",
   "metadata": {},
   "source": [
    "### Case 6: iJN1462b, MR + glucose (expected = grow)"
   ]
  },
  {
   "cell_type": "code",
   "execution_count": 19,
   "id": "c8386901-73a2-44e9-8d51-651afe079b95",
   "metadata": {},
   "outputs": [
    {
     "name": "stdout",
     "output_type": "stream",
     "text": [
      "{'EX_ca2_e': 10.0, 'EX_cl_e': 10.0, 'EX_co2_e': 100.0, 'EX_cobalt2_e': 10.0, 'EX_cu2_e': 10.0, 'EX_fe2_e': 10.0, 'EX_glc__D_e': 6.3, 'EX_h2o_e': 100.0, 'EX_h_e': 100.0, 'EX_hco3_e': 10.0, 'EX_k_e': 10.0, 'EX_mg2_e': 10.0, 'EX_mn2_e': 10.0, 'EX_mobd_e': 10.0, 'EX_na1_e': 10.0, 'EX_nh4_e': 10.0, 'EX_ni2_e': 10.0, 'EX_o2_e': 30.0, 'EX_pi_e': 10.0, 'EX_sel_e': 10.0, 'EX_so4_e': 10.0, 'EX_tungs_e': 10.0, 'EX_zn2_e': 10.0, 'EX_MR': 1000}\n"
     ]
    },
    {
     "data": {
      "text/html": [
       "\n",
       "        <table>\n",
       "            <tr>\n",
       "                <td><strong>Reaction identifier</strong></td><td>SK_anth_c</td>\n",
       "            </tr><tr>\n",
       "                <td><strong>Name</strong></td><td>Anthranilate sink</td>\n",
       "            </tr><tr>\n",
       "                <td><strong>Memory address</strong></td>\n",
       "                <td>0x0289df9ae0a0</td>\n",
       "            </tr><tr>\n",
       "                <td><strong>Stoichiometry</strong></td>\n",
       "                <td>\n",
       "                    <p style='text-align:right'>anth_c --></p>\n",
       "                    <p style='text-align:right'>Anthranilate --></p>\n",
       "                </td>\n",
       "            </tr><tr>\n",
       "                <td><strong>GPR</strong></td><td></td>\n",
       "            </tr><tr>\n",
       "                <td><strong>Lower bound</strong></td><td>0</td>\n",
       "            </tr><tr>\n",
       "                <td><strong>Upper bound</strong></td><td>0</td>\n",
       "            </tr>\n",
       "        </table>\n",
       "        "
      ],
      "text/plain": [
       "<Reaction SK_anth_c at 0x289df9ae0a0>"
      ]
     },
     "execution_count": 19,
     "metadata": {},
     "output_type": "execute_result"
    }
   ],
   "source": [
    "medium = model_without_anthdo.medium\n",
    "medium[\"EX_acmtsoxin_e\"] = 0.0\n",
    "medium[\"EX_acpptrn_e\"] = 0.0\n",
    "medium[\"EX_d2one_e\"] = 0.0\n",
    "medium[\"EX_d3one_e\"] = 0.0\n",
    "medium[\"EX_d4one_e\"] = 0.0\n",
    "medium[\"EX_mtsoxin_e\"] = 0.0\n",
    "medium[\"EX_n2one_e\"] = 0.0\n",
    "medium[\"EX_pptrn_e\"] = 0.0\n",
    "medium[\"EX_und2one_e\"] = 0.0\n",
    "medium[\"EX_gACT[e]\"] = 0.0\n",
    "medium[\"EX_nh4_e\"] = 10.0\n",
    "medium[\"EX_o2_e\"] = 30.0\n",
    "\n",
    "# change carbon source and amino acid composition\n",
    "medium[\"EX_MR\"] = 1000\n",
    "medium[\"EX_ser__L_e\"] = 0.0\n",
    "medium[\"EX_glc__D_e\"] = 6.3\n",
    "\n",
    "model_without_anthdo.medium = medium\n",
    "\n",
    "model_without_anthdo.reactions.SK_anth_c.lower_bound = 0\n",
    "model_without_anthdo.reactions.SK_anth_c.upper_bound = 0\n",
    "\n",
    "print(model_without_anthdo.medium)\n",
    "model_without_anthdo.reactions.SK_anth_c"
   ]
  },
  {
   "cell_type": "code",
   "execution_count": 20,
   "id": "e2d694b1-1c07-4715-be65-8cba04c1ffc5",
   "metadata": {},
   "outputs": [
    {
     "data": {
      "text/html": [
       "<strong><em>Optimal</em> solution with objective value 0.621</strong><br><div>\n",
       "<style scoped>\n",
       "    .dataframe tbody tr th:only-of-type {\n",
       "        vertical-align: middle;\n",
       "    }\n",
       "\n",
       "    .dataframe tbody tr th {\n",
       "        vertical-align: top;\n",
       "    }\n",
       "\n",
       "    .dataframe thead th {\n",
       "        text-align: right;\n",
       "    }\n",
       "</style>\n",
       "<table border=\"1\" class=\"dataframe\">\n",
       "  <thead>\n",
       "    <tr style=\"text-align: right;\">\n",
       "      <th></th>\n",
       "      <th>fluxes</th>\n",
       "      <th>reduced_costs</th>\n",
       "    </tr>\n",
       "  </thead>\n",
       "  <tbody>\n",
       "    <tr>\n",
       "      <th>3HAD160</th>\n",
       "      <td>0.022184</td>\n",
       "      <td>0.000000e+00</td>\n",
       "    </tr>\n",
       "    <tr>\n",
       "      <th>13DAMPPabcpp</th>\n",
       "      <td>0.000000</td>\n",
       "      <td>0.000000e+00</td>\n",
       "    </tr>\n",
       "    <tr>\n",
       "      <th>13DAMPPtex</th>\n",
       "      <td>0.000000</td>\n",
       "      <td>0.000000e+00</td>\n",
       "    </tr>\n",
       "    <tr>\n",
       "      <th>15DAPabcpp</th>\n",
       "      <td>0.000000</td>\n",
       "      <td>0.000000e+00</td>\n",
       "    </tr>\n",
       "    <tr>\n",
       "      <th>1P2CBXLCYCL</th>\n",
       "      <td>0.000000</td>\n",
       "      <td>6.938894e-18</td>\n",
       "    </tr>\n",
       "    <tr>\n",
       "      <th>...</th>\n",
       "      <td>...</td>\n",
       "      <td>...</td>\n",
       "    </tr>\n",
       "    <tr>\n",
       "      <th>ACPpdsact</th>\n",
       "      <td>0.000000</td>\n",
       "      <td>-1.598198e-02</td>\n",
       "    </tr>\n",
       "    <tr>\n",
       "      <th>ACPSact</th>\n",
       "      <td>0.000000</td>\n",
       "      <td>0.000000e+00</td>\n",
       "    </tr>\n",
       "    <tr>\n",
       "      <th>DM_ACT</th>\n",
       "      <td>0.000000</td>\n",
       "      <td>-3.653024e-02</td>\n",
       "    </tr>\n",
       "    <tr>\n",
       "      <th>EX_gACT[e]</th>\n",
       "      <td>0.000000</td>\n",
       "      <td>-0.000000e+00</td>\n",
       "    </tr>\n",
       "    <tr>\n",
       "      <th>SK_anth_c</th>\n",
       "      <td>0.000000</td>\n",
       "      <td>-3.424710e-02</td>\n",
       "    </tr>\n",
       "  </tbody>\n",
       "</table>\n",
       "<p>2959 rows × 2 columns</p>\n",
       "</div>"
      ],
      "text/plain": [
       "<Solution 0.621 at 0x289e39dfc10>"
      ]
     },
     "execution_count": 20,
     "metadata": {},
     "output_type": "execute_result"
    }
   ],
   "source": [
    "model_without_anthdo.optimize()"
   ]
  },
  {
   "cell_type": "code",
   "execution_count": 21,
   "id": "8d55cadb-6a99-4b78-8e0f-35cc86446bd9",
   "metadata": {},
   "outputs": [
    {
     "data": {
      "text/plain": [
       "0.04822292595965353"
      ]
     },
     "execution_count": 21,
     "metadata": {},
     "output_type": "execute_result"
    }
   ],
   "source": [
    "# check if anthranilate to trp pathway is active\n",
    "\n",
    "model_without_anthdo.reactions.ANPRT.flux"
   ]
  },
  {
   "cell_type": "code",
   "execution_count": 22,
   "id": "a5d7a6d2-605e-4c9c-81ba-03e9d0996eb2",
   "metadata": {},
   "outputs": [
    {
     "data": {
      "text/plain": [
       "5.466217642610509"
      ]
     },
     "execution_count": 22,
     "metadata": {},
     "output_type": "execute_result"
    }
   ],
   "source": [
    "# check if ED pathway is active\n",
    "\n",
    "model_without_anthdo.reactions.EDD.flux"
   ]
  },
  {
   "cell_type": "markdown",
   "id": "4d383461-6fd2-4370-9ec3-6e0cad6bff13",
   "metadata": {},
   "source": [
    "**Result: Model grows on MR without AnthDO when supplied with glucose**\n",
    "\n",
    "- anthranilate to trp pathway is active, but main carbon source is likely from glucose"
   ]
  },
  {
   "cell_type": "markdown",
   "id": "e1714696-f025-443a-8388-0d560a0f12be",
   "metadata": {},
   "source": [
    "### Case 7: iJN1462b, L-serine only"
   ]
  },
  {
   "cell_type": "code",
   "execution_count": 23,
   "id": "92265412-4605-484d-8f7e-ad42d92a0b1f",
   "metadata": {},
   "outputs": [
    {
     "name": "stdout",
     "output_type": "stream",
     "text": [
      "{'EX_ca2_e': 10.0, 'EX_cl_e': 10.0, 'EX_co2_e': 100.0, 'EX_cobalt2_e': 10.0, 'EX_cu2_e': 10.0, 'EX_fe2_e': 10.0, 'EX_h2o_e': 100.0, 'EX_h_e': 100.0, 'EX_hco3_e': 10.0, 'EX_k_e': 10.0, 'EX_mg2_e': 10.0, 'EX_mn2_e': 10.0, 'EX_mobd_e': 10.0, 'EX_na1_e': 10.0, 'EX_nh4_e': 10.0, 'EX_ni2_e': 10.0, 'EX_o2_e': 30.0, 'EX_pi_e': 10.0, 'EX_sel_e': 10.0, 'EX_ser__L_e': 10, 'EX_so4_e': 10.0, 'EX_tungs_e': 10.0, 'EX_zn2_e': 10.0}\n"
     ]
    },
    {
     "data": {
      "text/html": [
       "\n",
       "        <table>\n",
       "            <tr>\n",
       "                <td><strong>Reaction identifier</strong></td><td>SK_anth_c</td>\n",
       "            </tr><tr>\n",
       "                <td><strong>Name</strong></td><td>Anthranilate sink</td>\n",
       "            </tr><tr>\n",
       "                <td><strong>Memory address</strong></td>\n",
       "                <td>0x0289df9ae0a0</td>\n",
       "            </tr><tr>\n",
       "                <td><strong>Stoichiometry</strong></td>\n",
       "                <td>\n",
       "                    <p style='text-align:right'>anth_c --></p>\n",
       "                    <p style='text-align:right'>Anthranilate --></p>\n",
       "                </td>\n",
       "            </tr><tr>\n",
       "                <td><strong>GPR</strong></td><td></td>\n",
       "            </tr><tr>\n",
       "                <td><strong>Lower bound</strong></td><td>0</td>\n",
       "            </tr><tr>\n",
       "                <td><strong>Upper bound</strong></td><td>0</td>\n",
       "            </tr>\n",
       "        </table>\n",
       "        "
      ],
      "text/plain": [
       "<Reaction SK_anth_c at 0x289df9ae0a0>"
      ]
     },
     "execution_count": 23,
     "metadata": {},
     "output_type": "execute_result"
    }
   ],
   "source": [
    "medium = model_without_anthdo.medium\n",
    "medium[\"EX_acmtsoxin_e\"] = 0.0\n",
    "medium[\"EX_acpptrn_e\"] = 0.0\n",
    "medium[\"EX_d2one_e\"] = 0.0\n",
    "medium[\"EX_d3one_e\"] = 0.0\n",
    "medium[\"EX_d4one_e\"] = 0.0\n",
    "medium[\"EX_mtsoxin_e\"] = 0.0\n",
    "medium[\"EX_n2one_e\"] = 0.0\n",
    "medium[\"EX_pptrn_e\"] = 0.0\n",
    "medium[\"EX_und2one_e\"] = 0.0\n",
    "medium[\"EX_gACT[e]\"] = 0.0\n",
    "medium[\"EX_nh4_e\"] = 10.0\n",
    "medium[\"EX_o2_e\"] = 30.0\n",
    "\n",
    "# change carbon source and amino acid composition\n",
    "medium[\"EX_MR\"] = 0.0\n",
    "medium[\"EX_ser__L_e\"] = 10\n",
    "medium[\"EX_glc__D_e\"] = 0.0\n",
    "\n",
    "model_without_anthdo.medium = medium\n",
    "\n",
    "model_without_anthdo.reactions.SK_anth_c.lower_bound = 0\n",
    "model_without_anthdo.reactions.SK_anth_c.upper_bound = 0\n",
    "\n",
    "print(model_without_anthdo.medium)\n",
    "model_without_anthdo.reactions.SK_anth_c"
   ]
  },
  {
   "cell_type": "code",
   "execution_count": 24,
   "id": "97c14459-0eec-42df-abd2-6ded24300448",
   "metadata": {},
   "outputs": [
    {
     "data": {
      "text/html": [
       "<strong><em>Optimal</em> solution with objective value 0.399</strong><br><div>\n",
       "<style scoped>\n",
       "    .dataframe tbody tr th:only-of-type {\n",
       "        vertical-align: middle;\n",
       "    }\n",
       "\n",
       "    .dataframe tbody tr th {\n",
       "        vertical-align: top;\n",
       "    }\n",
       "\n",
       "    .dataframe thead th {\n",
       "        text-align: right;\n",
       "    }\n",
       "</style>\n",
       "<table border=\"1\" class=\"dataframe\">\n",
       "  <thead>\n",
       "    <tr style=\"text-align: right;\">\n",
       "      <th></th>\n",
       "      <th>fluxes</th>\n",
       "      <th>reduced_costs</th>\n",
       "    </tr>\n",
       "  </thead>\n",
       "  <tbody>\n",
       "    <tr>\n",
       "      <th>3HAD160</th>\n",
       "      <td>0.014228</td>\n",
       "      <td>0.000000e+00</td>\n",
       "    </tr>\n",
       "    <tr>\n",
       "      <th>13DAMPPabcpp</th>\n",
       "      <td>0.000000</td>\n",
       "      <td>0.000000e+00</td>\n",
       "    </tr>\n",
       "    <tr>\n",
       "      <th>13DAMPPtex</th>\n",
       "      <td>0.000000</td>\n",
       "      <td>0.000000e+00</td>\n",
       "    </tr>\n",
       "    <tr>\n",
       "      <th>15DAPabcpp</th>\n",
       "      <td>0.000000</td>\n",
       "      <td>0.000000e+00</td>\n",
       "    </tr>\n",
       "    <tr>\n",
       "      <th>1P2CBXLCYCL</th>\n",
       "      <td>0.000000</td>\n",
       "      <td>6.938894e-18</td>\n",
       "    </tr>\n",
       "    <tr>\n",
       "      <th>...</th>\n",
       "      <td>...</td>\n",
       "      <td>...</td>\n",
       "    </tr>\n",
       "    <tr>\n",
       "      <th>ACPpdsact</th>\n",
       "      <td>0.000000</td>\n",
       "      <td>-1.566190e-02</td>\n",
       "    </tr>\n",
       "    <tr>\n",
       "      <th>ACPSact</th>\n",
       "      <td>0.000000</td>\n",
       "      <td>0.000000e+00</td>\n",
       "    </tr>\n",
       "    <tr>\n",
       "      <th>DM_ACT</th>\n",
       "      <td>0.000000</td>\n",
       "      <td>-3.579862e-02</td>\n",
       "    </tr>\n",
       "    <tr>\n",
       "      <th>EX_gACT[e]</th>\n",
       "      <td>0.000000</td>\n",
       "      <td>-0.000000e+00</td>\n",
       "    </tr>\n",
       "    <tr>\n",
       "      <th>SK_anth_c</th>\n",
       "      <td>0.000000</td>\n",
       "      <td>-3.020509e-01</td>\n",
       "    </tr>\n",
       "  </tbody>\n",
       "</table>\n",
       "<p>2959 rows × 2 columns</p>\n",
       "</div>"
      ],
      "text/plain": [
       "<Solution 0.399 at 0x289e394ed30>"
      ]
     },
     "execution_count": 24,
     "metadata": {},
     "output_type": "execute_result"
    }
   ],
   "source": [
    "model_without_anthdo.optimize()"
   ]
  },
  {
   "cell_type": "code",
   "execution_count": 25,
   "id": "e7854610-430e-4d70-baaf-2a575f710e42",
   "metadata": {},
   "outputs": [
    {
     "data": {
      "text/plain": [
       "0.030929543405737857"
      ]
     },
     "execution_count": 25,
     "metadata": {},
     "output_type": "execute_result"
    }
   ],
   "source": [
    "# check if anthranilate to trp pathway is active\n",
    "\n",
    "model_without_anthdo.reactions.ANPRT.flux"
   ]
  },
  {
   "cell_type": "markdown",
   "id": "e2145c86-1006-4524-b29e-a47f1426edc0",
   "metadata": {},
   "source": [
    "**Result: Model grows on L-serine only without AnthDO**\n",
    "\n",
    "- anthranilate to trp pathway is active but has very low flux\n",
    "- there is likely another serine degradation pathway apart from the anthranilate to trp pathway."
   ]
  },
  {
   "cell_type": "markdown",
   "id": "159fa9a2-2b48-4d71-b6f9-23cab4a1c6a4",
   "metadata": {},
   "source": [
    "### Case 8: iJN1462b, anthranilate + L-serine"
   ]
  },
  {
   "cell_type": "code",
   "execution_count": 26,
   "id": "f6679c58-0bdb-4fff-a7cb-c94e8733564d",
   "metadata": {},
   "outputs": [
    {
     "name": "stdout",
     "output_type": "stream",
     "text": [
      "{'EX_ca2_e': 10.0, 'EX_cl_e': 10.0, 'EX_co2_e': 100.0, 'EX_cobalt2_e': 10.0, 'EX_cu2_e': 10.0, 'EX_fe2_e': 10.0, 'EX_h2o_e': 100.0, 'EX_h_e': 100.0, 'EX_hco3_e': 10.0, 'EX_k_e': 10.0, 'EX_mg2_e': 10.0, 'EX_mn2_e': 10.0, 'EX_mobd_e': 10.0, 'EX_na1_e': 10.0, 'EX_nh4_e': 10.0, 'EX_ni2_e': 10.0, 'EX_o2_e': 30.0, 'EX_pi_e': 10.0, 'EX_sel_e': 10.0, 'EX_ser__L_e': 10, 'EX_so4_e': 10.0, 'EX_tungs_e': 10.0, 'EX_zn2_e': 10.0}\n"
     ]
    },
    {
     "data": {
      "text/html": [
       "\n",
       "        <table>\n",
       "            <tr>\n",
       "                <td><strong>Reaction identifier</strong></td><td>SK_anth_c</td>\n",
       "            </tr><tr>\n",
       "                <td><strong>Name</strong></td><td>Anthranilate sink</td>\n",
       "            </tr><tr>\n",
       "                <td><strong>Memory address</strong></td>\n",
       "                <td>0x0289df9ae0a0</td>\n",
       "            </tr><tr>\n",
       "                <td><strong>Stoichiometry</strong></td>\n",
       "                <td>\n",
       "                    <p style='text-align:right'>anth_c <--</p>\n",
       "                    <p style='text-align:right'>Anthranilate <--</p>\n",
       "                </td>\n",
       "            </tr><tr>\n",
       "                <td><strong>GPR</strong></td><td></td>\n",
       "            </tr><tr>\n",
       "                <td><strong>Lower bound</strong></td><td>-1000</td>\n",
       "            </tr><tr>\n",
       "                <td><strong>Upper bound</strong></td><td>0</td>\n",
       "            </tr>\n",
       "        </table>\n",
       "        "
      ],
      "text/plain": [
       "<Reaction SK_anth_c at 0x289df9ae0a0>"
      ]
     },
     "execution_count": 26,
     "metadata": {},
     "output_type": "execute_result"
    }
   ],
   "source": [
    "medium = model_without_anthdo.medium\n",
    "medium[\"EX_acmtsoxin_e\"] = 0.0\n",
    "medium[\"EX_acpptrn_e\"] = 0.0\n",
    "medium[\"EX_d2one_e\"] = 0.0\n",
    "medium[\"EX_d3one_e\"] = 0.0\n",
    "medium[\"EX_d4one_e\"] = 0.0\n",
    "medium[\"EX_mtsoxin_e\"] = 0.0\n",
    "medium[\"EX_n2one_e\"] = 0.0\n",
    "medium[\"EX_pptrn_e\"] = 0.0\n",
    "medium[\"EX_und2one_e\"] = 0.0\n",
    "medium[\"EX_gACT[e]\"] = 0.0\n",
    "medium[\"EX_nh4_e\"] = 10.0\n",
    "medium[\"EX_o2_e\"] = 30.0\n",
    "\n",
    "# change carbon source and amino acid composition\n",
    "medium[\"EX_MR\"] = 0.0\n",
    "medium[\"EX_ser__L_e\"] = 10\n",
    "medium[\"EX_glc__D_e\"] = 0.0\n",
    "\n",
    "model_without_anthdo.medium = medium\n",
    "\n",
    "model_without_anthdo.reactions.SK_anth_c.lower_bound = -1000\n",
    "model_without_anthdo.reactions.SK_anth_c.upper_bound = 0\n",
    "\n",
    "print(model_without_anthdo.medium)\n",
    "model_without_anthdo.reactions.SK_anth_c"
   ]
  },
  {
   "cell_type": "code",
   "execution_count": 27,
   "id": "c5c128ae-6e2c-49b0-b9b7-70b1d91ad853",
   "metadata": {},
   "outputs": [
    {
     "data": {
      "text/html": [
       "<strong><em>Optimal</em> solution with objective value 0.403</strong><br><div>\n",
       "<style scoped>\n",
       "    .dataframe tbody tr th:only-of-type {\n",
       "        vertical-align: middle;\n",
       "    }\n",
       "\n",
       "    .dataframe tbody tr th {\n",
       "        vertical-align: top;\n",
       "    }\n",
       "\n",
       "    .dataframe thead th {\n",
       "        text-align: right;\n",
       "    }\n",
       "</style>\n",
       "<table border=\"1\" class=\"dataframe\">\n",
       "  <thead>\n",
       "    <tr style=\"text-align: right;\">\n",
       "      <th></th>\n",
       "      <th>fluxes</th>\n",
       "      <th>reduced_costs</th>\n",
       "    </tr>\n",
       "  </thead>\n",
       "  <tbody>\n",
       "    <tr>\n",
       "      <th>3HAD160</th>\n",
       "      <td>0.014397</td>\n",
       "      <td>0.000000</td>\n",
       "    </tr>\n",
       "    <tr>\n",
       "      <th>13DAMPPabcpp</th>\n",
       "      <td>0.000000</td>\n",
       "      <td>0.000000</td>\n",
       "    </tr>\n",
       "    <tr>\n",
       "      <th>13DAMPPtex</th>\n",
       "      <td>0.000000</td>\n",
       "      <td>-0.000000</td>\n",
       "    </tr>\n",
       "    <tr>\n",
       "      <th>15DAPabcpp</th>\n",
       "      <td>0.000000</td>\n",
       "      <td>0.000000</td>\n",
       "    </tr>\n",
       "    <tr>\n",
       "      <th>1P2CBXLCYCL</th>\n",
       "      <td>0.000000</td>\n",
       "      <td>0.000000</td>\n",
       "    </tr>\n",
       "    <tr>\n",
       "      <th>...</th>\n",
       "      <td>...</td>\n",
       "      <td>...</td>\n",
       "    </tr>\n",
       "    <tr>\n",
       "      <th>ACPpdsact</th>\n",
       "      <td>0.000000</td>\n",
       "      <td>-0.015848</td>\n",
       "    </tr>\n",
       "    <tr>\n",
       "      <th>ACPSact</th>\n",
       "      <td>0.000000</td>\n",
       "      <td>0.000000</td>\n",
       "    </tr>\n",
       "    <tr>\n",
       "      <th>DM_ACT</th>\n",
       "      <td>0.000000</td>\n",
       "      <td>-0.036223</td>\n",
       "    </tr>\n",
       "    <tr>\n",
       "      <th>EX_gACT[e]</th>\n",
       "      <td>0.000000</td>\n",
       "      <td>-0.000000</td>\n",
       "    </tr>\n",
       "    <tr>\n",
       "      <th>SK_anth_c</th>\n",
       "      <td>-0.031296</td>\n",
       "      <td>-0.000000</td>\n",
       "    </tr>\n",
       "  </tbody>\n",
       "</table>\n",
       "<p>2959 rows × 2 columns</p>\n",
       "</div>"
      ],
      "text/plain": [
       "<Solution 0.403 at 0x289e3976bb0>"
      ]
     },
     "execution_count": 27,
     "metadata": {},
     "output_type": "execute_result"
    }
   ],
   "source": [
    "model_without_anthdo.optimize()"
   ]
  },
  {
   "cell_type": "code",
   "execution_count": 28,
   "id": "e22ba57b-561d-4177-b82e-c16218e1dd05",
   "metadata": {},
   "outputs": [
    {
     "data": {
      "text/plain": [
       "0.03129628474116918"
      ]
     },
     "execution_count": 28,
     "metadata": {},
     "output_type": "execute_result"
    }
   ],
   "source": [
    "# check if anthranilate to trp pathway is active\n",
    "\n",
    "model_without_anthdo.reactions.ANPRT.flux"
   ]
  },
  {
   "cell_type": "code",
   "execution_count": 29,
   "id": "ad7395b7-fcb8-44aa-b2cd-26af7a73d932",
   "metadata": {},
   "outputs": [
    {
     "data": {
      "text/plain": [
       "0.0"
      ]
     },
     "execution_count": 29,
     "metadata": {},
     "output_type": "execute_result"
    }
   ],
   "source": [
    "# check if ED pathway is active\n",
    "\n",
    "model_without_anthdo.reactions.EDD.flux"
   ]
  },
  {
   "cell_type": "markdown",
   "id": "d26067f0-854d-4a33-8f49-7ee1a6ba434a",
   "metadata": {},
   "source": [
    "**Result: Model grows on anthranilate without AnthDO when supplied with L-serine**\n",
    "\n",
    "- anthranilate to trp pathway is active and but L-serine is likely the main source of carbon because ANPRT only contributes low fluxes in context of the overall biomass flux"
   ]
  },
  {
   "cell_type": "markdown",
   "id": "2e988d7b-e435-4020-9697-1522917c583a",
   "metadata": {},
   "source": [
    "### Case 9: iJN1462b, MR + L-serine"
   ]
  },
  {
   "cell_type": "code",
   "execution_count": 30,
   "id": "dedefe24-9303-4de6-bca2-3efaf89e5f08",
   "metadata": {},
   "outputs": [
    {
     "name": "stdout",
     "output_type": "stream",
     "text": [
      "{'EX_ca2_e': 10.0, 'EX_cl_e': 10.0, 'EX_co2_e': 100.0, 'EX_cobalt2_e': 10.0, 'EX_cu2_e': 10.0, 'EX_fe2_e': 10.0, 'EX_h2o_e': 100.0, 'EX_h_e': 100.0, 'EX_hco3_e': 10.0, 'EX_k_e': 10.0, 'EX_mg2_e': 10.0, 'EX_mn2_e': 10.0, 'EX_mobd_e': 10.0, 'EX_na1_e': 10.0, 'EX_nh4_e': 10.0, 'EX_ni2_e': 10.0, 'EX_o2_e': 30.0, 'EX_pi_e': 10.0, 'EX_sel_e': 10.0, 'EX_ser__L_e': 10, 'EX_so4_e': 10.0, 'EX_tungs_e': 10.0, 'EX_zn2_e': 10.0, 'EX_MR': 1000}\n"
     ]
    },
    {
     "data": {
      "text/html": [
       "\n",
       "        <table>\n",
       "            <tr>\n",
       "                <td><strong>Reaction identifier</strong></td><td>SK_anth_c</td>\n",
       "            </tr><tr>\n",
       "                <td><strong>Name</strong></td><td>Anthranilate sink</td>\n",
       "            </tr><tr>\n",
       "                <td><strong>Memory address</strong></td>\n",
       "                <td>0x0289df9ae0a0</td>\n",
       "            </tr><tr>\n",
       "                <td><strong>Stoichiometry</strong></td>\n",
       "                <td>\n",
       "                    <p style='text-align:right'>anth_c --></p>\n",
       "                    <p style='text-align:right'>Anthranilate --></p>\n",
       "                </td>\n",
       "            </tr><tr>\n",
       "                <td><strong>GPR</strong></td><td></td>\n",
       "            </tr><tr>\n",
       "                <td><strong>Lower bound</strong></td><td>0</td>\n",
       "            </tr><tr>\n",
       "                <td><strong>Upper bound</strong></td><td>0</td>\n",
       "            </tr>\n",
       "        </table>\n",
       "        "
      ],
      "text/plain": [
       "<Reaction SK_anth_c at 0x289df9ae0a0>"
      ]
     },
     "execution_count": 30,
     "metadata": {},
     "output_type": "execute_result"
    }
   ],
   "source": [
    "medium = model_without_anthdo.medium\n",
    "medium[\"EX_acmtsoxin_e\"] = 0.0\n",
    "medium[\"EX_acpptrn_e\"] = 0.0\n",
    "medium[\"EX_d2one_e\"] = 0.0\n",
    "medium[\"EX_d3one_e\"] = 0.0\n",
    "medium[\"EX_d4one_e\"] = 0.0\n",
    "medium[\"EX_mtsoxin_e\"] = 0.0\n",
    "medium[\"EX_n2one_e\"] = 0.0\n",
    "medium[\"EX_pptrn_e\"] = 0.0\n",
    "medium[\"EX_und2one_e\"] = 0.0\n",
    "medium[\"EX_gACT[e]\"] = 0.0\n",
    "medium[\"EX_nh4_e\"] = 10.0\n",
    "medium[\"EX_o2_e\"] = 30.0\n",
    "\n",
    "# change carbon source and amino acid composition\n",
    "medium[\"EX_MR\"] = 1000\n",
    "medium[\"EX_ser__L_e\"] = 10\n",
    "medium[\"EX_glc__D_e\"] = 0.0\n",
    "\n",
    "model_without_anthdo.medium = medium\n",
    "\n",
    "model_without_anthdo.reactions.SK_anth_c.lower_bound = 0\n",
    "model_without_anthdo.reactions.SK_anth_c.upper_bound = 0\n",
    "\n",
    "print(model_without_anthdo.medium)\n",
    "model_without_anthdo.reactions.SK_anth_c"
   ]
  },
  {
   "cell_type": "code",
   "execution_count": 31,
   "id": "8eb331a3-b000-4f54-8d50-40e6d7787525",
   "metadata": {},
   "outputs": [
    {
     "data": {
      "text/html": [
       "<strong><em>Optimal</em> solution with objective value 0.403</strong><br><div>\n",
       "<style scoped>\n",
       "    .dataframe tbody tr th:only-of-type {\n",
       "        vertical-align: middle;\n",
       "    }\n",
       "\n",
       "    .dataframe tbody tr th {\n",
       "        vertical-align: top;\n",
       "    }\n",
       "\n",
       "    .dataframe thead th {\n",
       "        text-align: right;\n",
       "    }\n",
       "</style>\n",
       "<table border=\"1\" class=\"dataframe\">\n",
       "  <thead>\n",
       "    <tr style=\"text-align: right;\">\n",
       "      <th></th>\n",
       "      <th>fluxes</th>\n",
       "      <th>reduced_costs</th>\n",
       "    </tr>\n",
       "  </thead>\n",
       "  <tbody>\n",
       "    <tr>\n",
       "      <th>3HAD160</th>\n",
       "      <td>0.014378</td>\n",
       "      <td>0.000000e+00</td>\n",
       "    </tr>\n",
       "    <tr>\n",
       "      <th>13DAMPPabcpp</th>\n",
       "      <td>0.000000</td>\n",
       "      <td>2.775558e-17</td>\n",
       "    </tr>\n",
       "    <tr>\n",
       "      <th>13DAMPPtex</th>\n",
       "      <td>0.000000</td>\n",
       "      <td>-0.000000e+00</td>\n",
       "    </tr>\n",
       "    <tr>\n",
       "      <th>15DAPabcpp</th>\n",
       "      <td>0.000000</td>\n",
       "      <td>0.000000e+00</td>\n",
       "    </tr>\n",
       "    <tr>\n",
       "      <th>1P2CBXLCYCL</th>\n",
       "      <td>0.000000</td>\n",
       "      <td>0.000000e+00</td>\n",
       "    </tr>\n",
       "    <tr>\n",
       "      <th>...</th>\n",
       "      <td>...</td>\n",
       "      <td>...</td>\n",
       "    </tr>\n",
       "    <tr>\n",
       "      <th>ACPpdsact</th>\n",
       "      <td>0.000000</td>\n",
       "      <td>-1.582675e-02</td>\n",
       "    </tr>\n",
       "    <tr>\n",
       "      <th>ACPSact</th>\n",
       "      <td>0.000000</td>\n",
       "      <td>0.000000e+00</td>\n",
       "    </tr>\n",
       "    <tr>\n",
       "      <th>DM_ACT</th>\n",
       "      <td>0.000000</td>\n",
       "      <td>-3.617544e-02</td>\n",
       "    </tr>\n",
       "    <tr>\n",
       "      <th>EX_gACT[e]</th>\n",
       "      <td>0.000000</td>\n",
       "      <td>-0.000000e+00</td>\n",
       "    </tr>\n",
       "    <tr>\n",
       "      <th>SK_anth_c</th>\n",
       "      <td>0.000000</td>\n",
       "      <td>-3.391447e-02</td>\n",
       "    </tr>\n",
       "  </tbody>\n",
       "</table>\n",
       "<p>2959 rows × 2 columns</p>\n",
       "</div>"
      ],
      "text/plain": [
       "<Solution 0.403 at 0x289e3940b20>"
      ]
     },
     "execution_count": 31,
     "metadata": {},
     "output_type": "execute_result"
    }
   ],
   "source": [
    "model_without_anthdo.optimize()"
   ]
  },
  {
   "cell_type": "code",
   "execution_count": 32,
   "id": "78fabd78-7e36-482e-98d3-b9f451df055e",
   "metadata": {},
   "outputs": [
    {
     "data": {
      "text/plain": [
       "0.03125510678084851"
      ]
     },
     "execution_count": 32,
     "metadata": {},
     "output_type": "execute_result"
    }
   ],
   "source": [
    "# check if anthranilate to trp pathway is active\n",
    "\n",
    "model_without_anthdo.reactions.ANPRT.flux"
   ]
  },
  {
   "cell_type": "code",
   "execution_count": 33,
   "id": "f2b10459-5a97-43da-8255-c4c57a310285",
   "metadata": {},
   "outputs": [
    {
     "data": {
      "text/plain": [
       "0.0"
      ]
     },
     "execution_count": 33,
     "metadata": {},
     "output_type": "execute_result"
    }
   ],
   "source": [
    "# check if ED pathway is active\n",
    "\n",
    "model_without_anthdo.reactions.EDD.flux"
   ]
  },
  {
   "cell_type": "markdown",
   "id": "efda71e7-25b5-4f15-b39c-92d2a4bdc0af",
   "metadata": {},
   "source": [
    "**Result: Model grows on MR without AnthDO when supplied with L-serine**\n",
    "\n",
    "- anthranilate to trp pathway is active and but L-serine is likely the main source of carbon because ANPRT only contributes low fluxes in context of the overall biomass flux"
   ]
  },
  {
   "cell_type": "markdown",
   "id": "bec243c5-ffe2-4209-a756-54fb27ed43c1",
   "metadata": {},
   "source": [
    "### Case 9: iJN1462b, prpp[c] (5-Phospho-alpha-D-ribose-1-diphosphate)"
   ]
  },
  {
   "cell_type": "code",
   "execution_count": 34,
   "id": "ab431d34-ee43-4bf2-bfae-e7f0e28b3426",
   "metadata": {},
   "outputs": [
    {
     "data": {
      "text/html": [
       "\n",
       "        <table>\n",
       "            <tr>\n",
       "                <td><strong>Reaction identifier</strong></td><td>SK_prpp_c</td>\n",
       "            </tr><tr>\n",
       "                <td><strong>Name</strong></td><td>5-Phospho-alpha-D-ribose 1-diphosphate sink</td>\n",
       "            </tr><tr>\n",
       "                <td><strong>Memory address</strong></td>\n",
       "                <td>0x0289e3940b50</td>\n",
       "            </tr><tr>\n",
       "                <td><strong>Stoichiometry</strong></td>\n",
       "                <td>\n",
       "                    <p style='text-align:right'>prpp_c <=></p>\n",
       "                    <p style='text-align:right'>5-Phospho-alpha-D-ribose 1-diphosphate <=></p>\n",
       "                </td>\n",
       "            </tr><tr>\n",
       "                <td><strong>GPR</strong></td><td></td>\n",
       "            </tr><tr>\n",
       "                <td><strong>Lower bound</strong></td><td>-1000.0</td>\n",
       "            </tr><tr>\n",
       "                <td><strong>Upper bound</strong></td><td>1000.0</td>\n",
       "            </tr>\n",
       "        </table>\n",
       "        "
      ],
      "text/plain": [
       "<Reaction SK_prpp_c at 0x289e3940b50>"
      ]
     },
     "execution_count": 34,
     "metadata": {},
     "output_type": "execute_result"
    }
   ],
   "source": [
    "model_without_anthdo.add_boundary(model_without_anthdo.metabolites.get_by_id(\"prpp_c\"), type=\"sink\")"
   ]
  },
  {
   "cell_type": "code",
   "execution_count": 35,
   "id": "dfaf693e-b389-4ad5-9ae4-455df5ca6b17",
   "metadata": {},
   "outputs": [
    {
     "name": "stdout",
     "output_type": "stream",
     "text": [
      "{'EX_ca2_e': 10.0, 'EX_cl_e': 10.0, 'EX_co2_e': 100.0, 'EX_cobalt2_e': 10.0, 'EX_cu2_e': 10.0, 'EX_fe2_e': 10.0, 'EX_h2o_e': 100.0, 'EX_h_e': 100.0, 'EX_hco3_e': 10.0, 'EX_k_e': 10.0, 'EX_mg2_e': 10.0, 'EX_mn2_e': 10.0, 'EX_mobd_e': 10.0, 'EX_na1_e': 10.0, 'EX_nh4_e': 10.0, 'EX_ni2_e': 10.0, 'EX_o2_e': 30.0, 'EX_pi_e': 10.0, 'EX_sel_e': 10.0, 'EX_so4_e': 10.0, 'EX_tungs_e': 10.0, 'EX_zn2_e': 10.0}\n"
     ]
    },
    {
     "data": {
      "text/html": [
       "\n",
       "        <table>\n",
       "            <tr>\n",
       "                <td><strong>Reaction identifier</strong></td><td>SK_prpp_c</td>\n",
       "            </tr><tr>\n",
       "                <td><strong>Name</strong></td><td>5-Phospho-alpha-D-ribose 1-diphosphate sink</td>\n",
       "            </tr><tr>\n",
       "                <td><strong>Memory address</strong></td>\n",
       "                <td>0x0289e3940b50</td>\n",
       "            </tr><tr>\n",
       "                <td><strong>Stoichiometry</strong></td>\n",
       "                <td>\n",
       "                    <p style='text-align:right'>prpp_c <--</p>\n",
       "                    <p style='text-align:right'>5-Phospho-alpha-D-ribose 1-diphosphate <--</p>\n",
       "                </td>\n",
       "            </tr><tr>\n",
       "                <td><strong>GPR</strong></td><td></td>\n",
       "            </tr><tr>\n",
       "                <td><strong>Lower bound</strong></td><td>-1000</td>\n",
       "            </tr><tr>\n",
       "                <td><strong>Upper bound</strong></td><td>0</td>\n",
       "            </tr>\n",
       "        </table>\n",
       "        "
      ],
      "text/plain": [
       "<Reaction SK_prpp_c at 0x289e3940b50>"
      ]
     },
     "execution_count": 35,
     "metadata": {},
     "output_type": "execute_result"
    }
   ],
   "source": [
    "medium = model_without_anthdo.medium\n",
    "medium[\"EX_acmtsoxin_e\"] = 0.0\n",
    "medium[\"EX_acpptrn_e\"] = 0.0\n",
    "medium[\"EX_d2one_e\"] = 0.0\n",
    "medium[\"EX_d3one_e\"] = 0.0\n",
    "medium[\"EX_d4one_e\"] = 0.0\n",
    "medium[\"EX_mtsoxin_e\"] = 0.0\n",
    "medium[\"EX_n2one_e\"] = 0.0\n",
    "medium[\"EX_pptrn_e\"] = 0.0\n",
    "medium[\"EX_und2one_e\"] = 0.0\n",
    "medium[\"EX_gACT[e]\"] = 0.0\n",
    "medium[\"EX_nh4_e\"] = 10.0\n",
    "medium[\"EX_o2_e\"] = 30.0\n",
    "\n",
    "# change carbon source and amino acid composition\n",
    "medium[\"EX_MR\"] = 0.0\n",
    "medium[\"EX_ser__L_e\"] = 0.0\n",
    "medium[\"EX_glc__D_e\"] = 0.0\n",
    "\n",
    "model_without_anthdo.medium = medium\n",
    "\n",
    "model_without_anthdo.reactions.SK_anth_c.lower_bound = 0\n",
    "model_without_anthdo.reactions.SK_anth_c.upper_bound = 0\n",
    "model_without_anthdo.reactions.SK_prpp_c.lower_bound = -1000\n",
    "model_without_anthdo.reactions.SK_prpp_c.upper_bound = 0\n",
    "\n",
    "print(model_without_anthdo.medium)\n",
    "model_without_anthdo.reactions.SK_anth_c\n",
    "model_without_anthdo.reactions.SK_prpp_c"
   ]
  },
  {
   "cell_type": "code",
   "execution_count": 36,
   "id": "3b11e6ed-ff1a-40fc-be0f-96695ba1670a",
   "metadata": {},
   "outputs": [
    {
     "data": {
      "text/html": [
       "<strong><em>Optimal</em> solution with objective value 0.939</strong><br><div>\n",
       "<style scoped>\n",
       "    .dataframe tbody tr th:only-of-type {\n",
       "        vertical-align: middle;\n",
       "    }\n",
       "\n",
       "    .dataframe tbody tr th {\n",
       "        vertical-align: top;\n",
       "    }\n",
       "\n",
       "    .dataframe thead th {\n",
       "        text-align: right;\n",
       "    }\n",
       "</style>\n",
       "<table border=\"1\" class=\"dataframe\">\n",
       "  <thead>\n",
       "    <tr style=\"text-align: right;\">\n",
       "      <th></th>\n",
       "      <th>fluxes</th>\n",
       "      <th>reduced_costs</th>\n",
       "    </tr>\n",
       "  </thead>\n",
       "  <tbody>\n",
       "    <tr>\n",
       "      <th>3HAD160</th>\n",
       "      <td>0.159742</td>\n",
       "      <td>0.000000e+00</td>\n",
       "    </tr>\n",
       "    <tr>\n",
       "      <th>13DAMPPabcpp</th>\n",
       "      <td>0.000000</td>\n",
       "      <td>0.000000e+00</td>\n",
       "    </tr>\n",
       "    <tr>\n",
       "      <th>13DAMPPtex</th>\n",
       "      <td>0.000000</td>\n",
       "      <td>-0.000000e+00</td>\n",
       "    </tr>\n",
       "    <tr>\n",
       "      <th>15DAPabcpp</th>\n",
       "      <td>0.000000</td>\n",
       "      <td>0.000000e+00</td>\n",
       "    </tr>\n",
       "    <tr>\n",
       "      <th>1P2CBXLCYCL</th>\n",
       "      <td>0.000000</td>\n",
       "      <td>0.000000e+00</td>\n",
       "    </tr>\n",
       "    <tr>\n",
       "      <th>...</th>\n",
       "      <td>...</td>\n",
       "      <td>...</td>\n",
       "    </tr>\n",
       "    <tr>\n",
       "      <th>ACPSact</th>\n",
       "      <td>0.000000</td>\n",
       "      <td>-4.440892e-16</td>\n",
       "    </tr>\n",
       "    <tr>\n",
       "      <th>DM_ACT</th>\n",
       "      <td>0.000000</td>\n",
       "      <td>0.000000e+00</td>\n",
       "    </tr>\n",
       "    <tr>\n",
       "      <th>EX_gACT[e]</th>\n",
       "      <td>0.000000</td>\n",
       "      <td>-0.000000e+00</td>\n",
       "    </tr>\n",
       "    <tr>\n",
       "      <th>SK_anth_c</th>\n",
       "      <td>0.000000</td>\n",
       "      <td>-1.878964e-01</td>\n",
       "    </tr>\n",
       "    <tr>\n",
       "      <th>SK_prpp_c</th>\n",
       "      <td>-10.858234</td>\n",
       "      <td>-0.000000e+00</td>\n",
       "    </tr>\n",
       "  </tbody>\n",
       "</table>\n",
       "<p>2960 rows × 2 columns</p>\n",
       "</div>"
      ],
      "text/plain": [
       "<Solution 0.939 at 0x289e39476a0>"
      ]
     },
     "execution_count": 36,
     "metadata": {},
     "output_type": "execute_result"
    }
   ],
   "source": [
    "model_without_anthdo.optimize()"
   ]
  },
  {
   "cell_type": "code",
   "execution_count": 37,
   "id": "18dca825-8f7c-4525-8ce5-c00fb12b2b2a",
   "metadata": {},
   "outputs": [
    {
     "data": {
      "text/plain": [
       "0.07289627012581307"
      ]
     },
     "execution_count": 37,
     "metadata": {},
     "output_type": "execute_result"
    }
   ],
   "source": [
    "# check if anthranilate to trp pathway is active\n",
    "\n",
    "model_without_anthdo.reactions.ANPRT.flux"
   ]
  },
  {
   "cell_type": "markdown",
   "id": "2f21a87d-0af2-4f0d-a3b6-b484de446f24",
   "metadata": {},
   "source": [
    "**Result: Model grows on prpp alone without AnthDO**\n",
    "\n",
    "- there is likely another pathway for prpp degradation and because ANPRT only contributes low fluxes compared to the overall prpp consumed or biomass produced."
   ]
  },
  {
   "cell_type": "markdown",
   "id": "da30b557-9e63-4a53-be97-d593d2d0d80f",
   "metadata": {},
   "source": [
    "### Case 10: iJN1462b, anthranilate + prpp[c] (5-Phospho-alpha-D-ribose-1-diphosphate)"
   ]
  },
  {
   "cell_type": "code",
   "execution_count": 38,
   "id": "1c4540dd-8c32-411a-a78d-0d765d790345",
   "metadata": {},
   "outputs": [
    {
     "name": "stdout",
     "output_type": "stream",
     "text": [
      "{'EX_ca2_e': 10.0, 'EX_cl_e': 10.0, 'EX_co2_e': 100.0, 'EX_cobalt2_e': 10.0, 'EX_cu2_e': 10.0, 'EX_fe2_e': 10.0, 'EX_h2o_e': 100.0, 'EX_h_e': 100.0, 'EX_hco3_e': 10.0, 'EX_k_e': 10.0, 'EX_mg2_e': 10.0, 'EX_mn2_e': 10.0, 'EX_mobd_e': 10.0, 'EX_na1_e': 10.0, 'EX_nh4_e': 10.0, 'EX_ni2_e': 10.0, 'EX_o2_e': 30.0, 'EX_pi_e': 10.0, 'EX_sel_e': 10.0, 'EX_so4_e': 10.0, 'EX_tungs_e': 10.0, 'EX_zn2_e': 10.0}\n"
     ]
    },
    {
     "data": {
      "text/html": [
       "\n",
       "        <table>\n",
       "            <tr>\n",
       "                <td><strong>Reaction identifier</strong></td><td>SK_prpp_c</td>\n",
       "            </tr><tr>\n",
       "                <td><strong>Name</strong></td><td>5-Phospho-alpha-D-ribose 1-diphosphate sink</td>\n",
       "            </tr><tr>\n",
       "                <td><strong>Memory address</strong></td>\n",
       "                <td>0x0289e3940b50</td>\n",
       "            </tr><tr>\n",
       "                <td><strong>Stoichiometry</strong></td>\n",
       "                <td>\n",
       "                    <p style='text-align:right'>prpp_c <--</p>\n",
       "                    <p style='text-align:right'>5-Phospho-alpha-D-ribose 1-diphosphate <--</p>\n",
       "                </td>\n",
       "            </tr><tr>\n",
       "                <td><strong>GPR</strong></td><td></td>\n",
       "            </tr><tr>\n",
       "                <td><strong>Lower bound</strong></td><td>-1000</td>\n",
       "            </tr><tr>\n",
       "                <td><strong>Upper bound</strong></td><td>0</td>\n",
       "            </tr>\n",
       "        </table>\n",
       "        "
      ],
      "text/plain": [
       "<Reaction SK_prpp_c at 0x289e3940b50>"
      ]
     },
     "execution_count": 38,
     "metadata": {},
     "output_type": "execute_result"
    }
   ],
   "source": [
    "medium = model_without_anthdo.medium\n",
    "medium[\"EX_acmtsoxin_e\"] = 0.0\n",
    "medium[\"EX_acpptrn_e\"] = 0.0\n",
    "medium[\"EX_d2one_e\"] = 0.0\n",
    "medium[\"EX_d3one_e\"] = 0.0\n",
    "medium[\"EX_d4one_e\"] = 0.0\n",
    "medium[\"EX_mtsoxin_e\"] = 0.0\n",
    "medium[\"EX_n2one_e\"] = 0.0\n",
    "medium[\"EX_pptrn_e\"] = 0.0\n",
    "medium[\"EX_und2one_e\"] = 0.0\n",
    "medium[\"EX_gACT[e]\"] = 0.0\n",
    "medium[\"EX_nh4_e\"] = 10.0\n",
    "medium[\"EX_o2_e\"] = 30.0\n",
    "\n",
    "# change carbon source and amino acid composition\n",
    "medium[\"EX_MR\"] = 0.0\n",
    "medium[\"EX_ser__L_e\"] = 0.0\n",
    "medium[\"EX_glc__D_e\"] = 0.0\n",
    "\n",
    "model_without_anthdo.medium = medium\n",
    "\n",
    "model_without_anthdo.reactions.SK_anth_c.lower_bound = -1000\n",
    "model_without_anthdo.reactions.SK_anth_c.upper_bound = 0\n",
    "model_without_anthdo.reactions.SK_prpp_c.lower_bound = -1000\n",
    "model_without_anthdo.reactions.SK_prpp_c.upper_bound = 0\n",
    "\n",
    "print(model_without_anthdo.medium)\n",
    "model_without_anthdo.reactions.SK_anth_c\n",
    "model_without_anthdo.reactions.SK_prpp_c"
   ]
  },
  {
   "cell_type": "code",
   "execution_count": 39,
   "id": "a50d69c9-22c5-46c7-9e67-72963a109b40",
   "metadata": {},
   "outputs": [
    {
     "data": {
      "text/html": [
       "<strong><em>Optimal</em> solution with objective value 0.946</strong><br><div>\n",
       "<style scoped>\n",
       "    .dataframe tbody tr th:only-of-type {\n",
       "        vertical-align: middle;\n",
       "    }\n",
       "\n",
       "    .dataframe tbody tr th {\n",
       "        vertical-align: top;\n",
       "    }\n",
       "\n",
       "    .dataframe thead th {\n",
       "        text-align: right;\n",
       "    }\n",
       "</style>\n",
       "<table border=\"1\" class=\"dataframe\">\n",
       "  <thead>\n",
       "    <tr style=\"text-align: right;\">\n",
       "      <th></th>\n",
       "      <th>fluxes</th>\n",
       "      <th>reduced_costs</th>\n",
       "    </tr>\n",
       "  </thead>\n",
       "  <tbody>\n",
       "    <tr>\n",
       "      <th>3HAD160</th>\n",
       "      <td>0.033780</td>\n",
       "      <td>0.000000e+00</td>\n",
       "    </tr>\n",
       "    <tr>\n",
       "      <th>13DAMPPabcpp</th>\n",
       "      <td>0.000000</td>\n",
       "      <td>0.000000e+00</td>\n",
       "    </tr>\n",
       "    <tr>\n",
       "      <th>13DAMPPtex</th>\n",
       "      <td>0.000000</td>\n",
       "      <td>0.000000e+00</td>\n",
       "    </tr>\n",
       "    <tr>\n",
       "      <th>15DAPabcpp</th>\n",
       "      <td>0.000000</td>\n",
       "      <td>0.000000e+00</td>\n",
       "    </tr>\n",
       "    <tr>\n",
       "      <th>1P2CBXLCYCL</th>\n",
       "      <td>0.000000</td>\n",
       "      <td>0.000000e+00</td>\n",
       "    </tr>\n",
       "    <tr>\n",
       "      <th>...</th>\n",
       "      <td>...</td>\n",
       "      <td>...</td>\n",
       "    </tr>\n",
       "    <tr>\n",
       "      <th>ACPSact</th>\n",
       "      <td>0.000000</td>\n",
       "      <td>6.772360e-15</td>\n",
       "    </tr>\n",
       "    <tr>\n",
       "      <th>DM_ACT</th>\n",
       "      <td>0.000000</td>\n",
       "      <td>0.000000e+00</td>\n",
       "    </tr>\n",
       "    <tr>\n",
       "      <th>EX_gACT[e]</th>\n",
       "      <td>0.000000</td>\n",
       "      <td>-0.000000e+00</td>\n",
       "    </tr>\n",
       "    <tr>\n",
       "      <th>SK_anth_c</th>\n",
       "      <td>-0.073432</td>\n",
       "      <td>-0.000000e+00</td>\n",
       "    </tr>\n",
       "    <tr>\n",
       "      <th>SK_prpp_c</th>\n",
       "      <td>-28.546077</td>\n",
       "      <td>-0.000000e+00</td>\n",
       "    </tr>\n",
       "  </tbody>\n",
       "</table>\n",
       "<p>2960 rows × 2 columns</p>\n",
       "</div>"
      ],
      "text/plain": [
       "<Solution 0.946 at 0x289e37ba0a0>"
      ]
     },
     "execution_count": 39,
     "metadata": {},
     "output_type": "execute_result"
    }
   ],
   "source": [
    "model_without_anthdo.optimize()"
   ]
  },
  {
   "cell_type": "code",
   "execution_count": 40,
   "id": "ade45684-31f1-4f74-b028-37b313557ad1",
   "metadata": {},
   "outputs": [
    {
     "data": {
      "text/plain": [
       "0.07343155880042221"
      ]
     },
     "execution_count": 40,
     "metadata": {},
     "output_type": "execute_result"
    }
   ],
   "source": [
    "# check if anthranilate to trp pathway is active\n",
    "\n",
    "model_without_anthdo.reactions.ANPRT.flux"
   ]
  },
  {
   "cell_type": "markdown",
   "id": "b9b79d19-021f-4356-ba8d-653037f8a660",
   "metadata": {},
   "source": [
    "**Result: Model grows on anthranilate without AnthDO when supplied with pprp**\n",
    "\n",
    "- anthranilate pathway is active but likely not the main source of carbon"
   ]
  },
  {
   "cell_type": "markdown",
   "id": "6eb05dda-106b-48e0-816c-2c7c59096e62",
   "metadata": {},
   "source": [
    "**Conclusion:**\n",
    "\n",
    "- Without AnthDO, anthranilate can only be catabolized in the presence of another main carbon source, such as glucose, L-serine, or prpp. "
   ]
  }
 ],
 "metadata": {
  "kernelspec": {
   "display_name": "me21",
   "language": "python",
   "name": "me21"
  },
  "language_info": {
   "codemirror_mode": {
    "name": "ipython",
    "version": 3
   },
   "file_extension": ".py",
   "mimetype": "text/x-python",
   "name": "python",
   "nbconvert_exporter": "python",
   "pygments_lexer": "ipython3",
   "version": "3.8.13"
  }
 },
 "nbformat": 4,
 "nbformat_minor": 5
}
