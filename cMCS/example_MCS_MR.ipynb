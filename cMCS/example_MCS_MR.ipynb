{
 "cells": [
  {
   "cell_type": "markdown",
   "id": "aa72c7b9-4593-4850-b378-734c8cf0b795",
   "metadata": {},
   "source": [
    "### cMCS Computation\n",
    "\n",
    "Purpose: find knockout sets for generating growth-coupled strain designs via MCS\n",
    "\n",
    "*NOTE:*\n",
    "\n",
    "- *cMCS is computed for each carbon source and threshold using the same steps as shown in this notebook. Below is an example for MR at 1% biomass and 1% act*\n",
    "\n",
    "- *steps below are modified from the tutorials for StrainDesign provided at https://github.com/klamt-lab/straindesign*\n",
    "\n",
    "\n",
    "\n",
    "Last Updated: Parsa Nayyara (01.02.24)"
   ]
  },
  {
   "cell_type": "code",
   "execution_count": 1,
   "id": "f174ed66-f932-415c-9f8b-185db00752b7",
   "metadata": {},
   "outputs": [],
   "source": [
    "import cobra\n",
    "import straindesign as sd\n",
    "\n",
    "import cobra.test\n",
    "import os\n",
    "from os.path import join\n",
    "\n",
    "data_dir = cobra.test.data_dir\n",
    "\n",
    "from __future__ import print_function\n",
    "\n",
    "from cobra import Model, Reaction, Metabolite"
   ]
  },
  {
   "cell_type": "code",
   "execution_count": 3,
   "id": "3356bc5a-b1d7-4839-ab91-050e045aff49",
   "metadata": {},
   "outputs": [],
   "source": [
    "model = cobra.io.read_sbml_model(join(data_dir, modelfilepath))\n",
    "model.solver = \"cplex\""
   ]
  },
  {
   "cell_type": "code",
   "execution_count": 4,
   "id": "6acaa864-156d-4694-9829-3f898f191513",
   "metadata": {},
   "outputs": [
    {
     "data": {
      "text/plain": [
       "{'EX_ca2_e': 10.0,\n",
       " 'EX_cl_e': 10.0,\n",
       " 'EX_co2_e': 100.0,\n",
       " 'EX_cobalt2_e': 10.0,\n",
       " 'EX_cu2_e': 10.0,\n",
       " 'EX_fe2_e': 10.0,\n",
       " 'EX_h2o_e': 100.0,\n",
       " 'EX_h_e': 100.0,\n",
       " 'EX_hco3_e': 10.0,\n",
       " 'EX_k_e': 10.0,\n",
       " 'EX_mg2_e': 10.0,\n",
       " 'EX_mn2_e': 10.0,\n",
       " 'EX_mobd_e': 10.0,\n",
       " 'EX_na1_e': 10.0,\n",
       " 'EX_nh4_e': 10.0,\n",
       " 'EX_ni2_e': 10.0,\n",
       " 'EX_o2_e': 30.0,\n",
       " 'EX_pi_e': 10.0,\n",
       " 'EX_sel_e': 10.0,\n",
       " 'EX_so4_e': 10.0,\n",
       " 'EX_tungs_e': 10.0,\n",
       " 'EX_zn2_e': 10.0,\n",
       " 'EX_MR': 1000}"
      ]
     },
     "execution_count": 4,
     "metadata": {},
     "output_type": "execute_result"
    }
   ],
   "source": [
    "# change bounds according to M9 minimal media in Nogales et al. 2020\n",
    "\n",
    "cobra.Reaction(\"EX_ca2_e\", lower_bound = -10, upper_bound = 1000.0)\n",
    "cobra.Reaction(\"EX_co2_e\", lower_bound = -100, upper_bound = 1000.0)\n",
    "cobra.Reaction(\"EX_cobalt2_e\", lower_bound = -10, upper_bound = 1000.0)\n",
    "cobra.Reaction(\"EX_cu2_e\", lower_bound = -10, upper_bound = 1000.0)\n",
    "cobra.Reaction(\"EX_cl_e\", lower_bound = -10, upper_bound = 1000.0)\n",
    "cobra.Reaction(\"EX_fe2_e\", lower_bound = -10, upper_bound = 1000.0)\n",
    "cobra.Reaction(\"EX_glc__D_e\", lower_bound = -6.3, upper_bound = 1000.0)\n",
    "cobra.Reaction(\"EX_h2o_e\", lower_bound = -100, upper_bound = 1000.0)\n",
    "cobra.Reaction(\"EX_h_e\", lower_bound = -100, upper_bound = 1000.0)\n",
    "cobra.Reaction(\"EX_hco3_e\", lower_bound = -10, upper_bound = 1000.0)\n",
    "cobra.Reaction(\"EX_k_e\", lower_bound = -10, upper_bound = 1000.0)\n",
    "cobra.Reaction(\"EX_mg2_e\", lower_bound = -10, upper_bound = 1000.0)\n",
    "cobra.Reaction(\"EX_mn2_e\", lower_bound = -10, upper_bound = 1000.0)\n",
    "cobra.Reaction(\"EX_mobd_e\", lower_bound = -10, upper_bound = 1000.0)\n",
    "cobra.Reaction(\"EX_nh4_e\", lower_bound = -10, upper_bound = 1000.0)\n",
    "cobra.Reaction(\"EX_ni2_e\", lower_bound = -10, upper_bound = 1000.0)\n",
    "cobra.Reaction(\"EX_o2_e\", lower_bound = -30, upper_bound = 1000.0)\n",
    "cobra.Reaction(\"EX_pi_e\", lower_bound = -10, upper_bound = 1000.0)\n",
    "cobra.Reaction(\"EX_sel_e\", lower_bound = -10, upper_bound = 1000.0)\n",
    "cobra.Reaction(\"EX_so4_e\", lower_bound = -10, upper_bound = 1000.0)\n",
    "cobra.Reaction(\"EX_tungs_e\", lower_bound = -10, upper_bound = 1000.0)\n",
    "cobra.Reaction(\"EX_zn2_e\", lower_bound = -10, upper_bound = 1000.0)\n",
    "cobra.Reaction(\"EX_MR\", lower_bound = -1000, upper_bound = 1000.0)\n",
    "\n",
    "medium = model.medium\n",
    "medium[\"EX_acmtsoxin_e\"] = 0.0\n",
    "medium[\"EX_acpptrn_e\"] = 0.0\n",
    "medium[\"EX_d2one_e\"] = 0.0\n",
    "medium[\"EX_d3one_e\"] = 0.0\n",
    "medium[\"EX_d4one_e\"] = 0.0\n",
    "medium[\"EX_mtsoxin_e\"] = 0.0\n",
    "medium[\"EX_n2one_e\"] = 0.0\n",
    "medium[\"EX_pptrn_e\"] = 0.0\n",
    "medium[\"EX_und2one_e\"] = 0.0\n",
    "medium[\"EX_gACT[e]\"] = 0.0\n",
    "medium[\"EX_nh4_e\"] = 10.0\n",
    "medium[\"EX_o2_e\"] = 30.0\n",
    "\n",
    "# change carbon source\n",
    "medium[\"EX_MR\"] = 1000\n",
    "medium[\"EX_glc__D_e\"] = 0.0\n",
    "\n",
    "model.medium = medium\n",
    "\n",
    "model.medium"
   ]
  },
  {
   "cell_type": "code",
   "execution_count": 5,
   "id": "cfeaf7dd-3e70-4c26-b977-79ceae3b0eb1",
   "metadata": {},
   "outputs": [
    {
     "data": {
      "image/png": "[encoded data removed]",
      "text/plain": [
       "<Figure size 432x288 with 1 Axes>"
      ]
     },
     "metadata": {
      "needs_background": "light"
     },
     "output_type": "display_data"
    }
   ],
   "source": [
    "# plot initial flux space \n",
    "\n",
    "sd.plot_flux_space(model, ('BIOMASS_KT2440_WT3',('ACTt')));"
   ]
  },
  {
   "cell_type": "code",
   "execution_count": 6,
   "id": "5abdebd4-20fb-490e-a7dc-01d0c2e5422a",
   "metadata": {},
   "outputs": [],
   "source": [
    "# set desired and target regions based on the thresholds we want to investigate\n",
    "\n",
    "min_objective = 0.01142058151 # target region (min ACTt) ex. 1% max\n",
    "min_growth = 0.00597624744 # desired region (min biomass) ex. 1% max\n",
    "\n",
    "module_suppress = sd.SDModule(model,sd.names.SUPPRESS,constraints=f'ACTt <= {min_objective}')\n",
    "module_protect  = sd.SDModule(model,sd.names.PROTECT, constraints=f'BIOMASS_KT2440_WT3>={min_growth}')"
   ]
  },
  {
   "cell_type": "code",
   "execution_count": 7,
   "id": "a581022f-931b-4618-a1f5-9a7e44a5895c",
   "metadata": {},
   "outputs": [
    {
     "data": {
      "image/png": "[encoded data removed]",
      "text/plain": [
       "<Figure size 432x288 with 1 Axes>"
      ]
     },
     "metadata": {
      "needs_background": "light"
     },
     "output_type": "display_data"
    }
   ],
   "source": [
    "# make plots\n",
    "\n",
    "import matplotlib.pyplot as plt\n",
    "\n",
    "# Wild-type plot\n",
    "datapoints, triang, plot1 = sd.plot_flux_space(model,\n",
    "                                               ('BIOMASS_KT2440_WT3',('ACTt')),\n",
    "                                               show=False);\n",
    "_,          _,      plot2 = sd.plot_flux_space(model,\n",
    "                                               (f'BIOMASS_KT2440_WT3',('ACTt')),\n",
    "                                               constraints=f'BIOMASS_KT2440_WT3 >= {min_growth}',\n",
    "                                               show=False);\n",
    "plot2.set_facecolor('#70AD47')\n",
    "plot2.set_edgecolor('#70AD47')\n",
    "\n",
    "# growth-coupled design plot\n",
    "_,          _,      plot3 = sd.plot_flux_space(model,\n",
    "                                               ('BIOMASS_KT2440_WT3',('ACTt')),\n",
    "                                               constraints=f'ACTt <= {min_objective}',\n",
    "                                               show=False);\n",
    "plot3.set_facecolor('#ED7D31')\n",
    "plot3.set_edgecolor('#ED7D31')\n",
    "# adjust axes limits and show plot\n",
    "plot3.axes.set_xlim(0, 1.05*max([a[0] for a in datapoints]))\n",
    "plot3.axes.set_ylim(0, 1.05*max([a[1] for a in datapoints]))\n",
    "plt.show()"
   ]
  },
  {
   "cell_type": "code",
   "execution_count": 8,
   "id": "0822303c-7e9b-4545-a861-e5a5a5388e69",
   "metadata": {},
   "outputs": [
    {
     "name": "stderr",
     "output_type": "stream",
     "text": [
      "ERROR:cobra.io.sbml:No objective coefficients in model. Unclear what should be optimized\n"
     ]
    }
   ],
   "source": [
    "import logging\n",
    "logging.basicConfig(level=logging.INFO)\n",
    "\n",
    "# define reactions that are allowed to be knocked out (only reactions in the ko_cost/gko_cost dict are considered knockout candidates)\n",
    "reducedmodel = cobra.io.read_sbml_model(join(data_dir, reducedmodelpath)) \n",
    "#an error would be raised because the reduced model does not have an objective function\n",
    "#but reduced model is only used to provide a list of knockout candidates, not for optimization,\n",
    "#hence the error should not affect cMCS computations.\n",
    "\n",
    "ko_cost = {r.id:1 for r in reducedmodel.reactions}\n",
    "ko_cost[\"EX_o2_e\"] = 1 # allow knockout of O2 uptake\n",
    "gko_cost = {g.id:1 for g in reducedmodel.genes}"
   ]
  },
  {
   "cell_type": "code",
   "execution_count": 9,
   "id": "75d00968-3605-4d4c-95dd-4d308836a01f",
   "metadata": {},
   "outputs": [
    {
     "name": "stderr",
     "output_type": "stream",
     "text": [
      "INFO:root:Preparing strain design computation.\n",
      "INFO:root:  Using cplex for solving LPs during preprocessing.\n",
      "WARNING:root:  Removing reaction bounds when larger than the cobra-threshold of 1000.\n",
      "INFO:root:  FVA to identify blocked reactions and irreversibilities.\n",
      "INFO:root:  FVA(s) to identify essential reactions.\n",
      "INFO:root:Preprocessing GPR rules (1490 genes, 2126 gpr rules).\n",
      "INFO:root:  Simplifyied to 1125 genes and 1604 gpr rules.\n",
      "INFO:root:  Extending metabolic network with gpr associations.\n",
      "INFO:root:Compressing Network (5178 reactions).\n",
      "INFO:root:  Removing blocked reactions.\n",
      "INFO:root:  Translating stoichiometric coefficients to rationals.\n",
      "INFO:root:  Removing conservation relations.\n",
      "INFO:root:  Compression 1: Applying compression from EFM-tool module.\n",
      "INFO:root:  Reduced to 2563 reactions.\n",
      "INFO:root:  Compression 2: Lumping parallel reactions.\n",
      "INFO:root:  Reduced to 2424 reactions.\n",
      "INFO:root:  Compression 3: Applying compression from EFM-tool module.\n",
      "INFO:root:  Reduced to 2302 reactions.\n",
      "INFO:root:  Compression 4: Lumping parallel reactions.\n",
      "INFO:root:  Reduced to 2297 reactions.\n",
      "INFO:root:  Compression 5: Applying compression from EFM-tool module.\n",
      "INFO:root:  Reduced to 2275 reactions.\n",
      "INFO:root:  Compression 6: Lumping parallel reactions.\n",
      "INFO:root:  Last step could not reduce size further (2275 reactions).\n",
      "INFO:root:  Network compression completed. (5 compression iterations)\n",
      "INFO:root:  Translating stoichiometric coefficients back to float.\n",
      "INFO:root:  FVA(s) in compressed model to identify essential reactions.\n",
      "INFO:root:Finished preprocessing:\n",
      "INFO:root:  Model size: 2275 reactions, 1110 metabolites\n",
      "INFO:root:  778 targetable reactions\n",
      "WARNING:root:  Removing reaction bounds when larger than the cobra-threshold of 1000.\n",
      "INFO:root:Constructing strain design MILP for solver: cplex.\n",
      "INFO:root:  Bounding MILP.\n",
      "INFO:root:Finding (also non-optimal) strain designs ...\n",
      "INFO:root:Searching in full search space.\n",
      "INFO:root:Minimizing number of interventions in subspace with 112 possible targets.\n",
      "INFO:root:Strain design with cost 11.0: {'ACONTa': -1, 'CAT*katE*R0_g_PP_0115_or_g_PP_3668*katG*R1_g_PP_0115_or_g_PP_3668': -1, 'FDH*fdoG*fdoH*fdoI*fdhE*R_g_PP_0489_and_g_PP_0490_and_g_PP_0491_and_g_PP_0492*R0_g_PP_0489_and_g_PP_0490_and_g_PP_0491_and_g_PP_0492_or_g_PP_2183_and_g_PP_2184_and_g_PP_2185_and_g_PP_2186...': -1, 'MDH': -1, 'MDH2': -1, 'ME2*maeB': -1, 'NACODA*argE': -1, 'TALA': -1, 'citN*R0_g_PP_0147_or_g_PP_2057_or_g_PP_2703*yraO*R1_g_PP_0147_or_g_PP_2057_or_g_PP_2703*PP_2703*R2_g_PP_0147_or_g_PP_2057_or_g_PP_2703': -1, 'etfA*etfB*PP_4203*R_g_PP_4201_and_g_PP_4202_and_g_PP_4203': -1, 'pWW0_093': -1}\n",
      "INFO:root:Strain design with cost 12.0: {'ACONTa': -1, 'CAT*katE*R0_g_PP_0115_or_g_PP_3668*katG*R1_g_PP_0115_or_g_PP_3668': -1, 'CELLS*bcsA*bcsB*PP_2638*R_g_PP_2635_and_g_PP_2636_and_g_PP_2638': -1, 'FDH*fdoG*fdoH*fdoI*fdhE*R_g_PP_0489_and_g_PP_0490_and_g_PP_0491_and_g_PP_0492*R0_g_PP_0489_and_g_PP_0490_and_g_PP_0491_and_g_PP_0492_or_g_PP_2183_and_g_PP_2184_and_g_PP_2185_and_g_PP_2186...': -1, 'MDH': -1, 'MDH2': -1, 'ME2*maeB': -1, 'NACODA*argE': -1, 'PGL*pgl*zwfA*R0_g_PP_1022_or_g_PP_4042_or_g_PP_5351*zwfB*R1_g_PP_1022_or_g_PP_4042_or_g_PP_5351*zwf*R2_g_PP_1022_or_g_PP_4042_or_g_PP_5351': -1, 'citN*R0_g_PP_0147_or_g_PP_2057_or_g_PP_2703*yraO*R1_g_PP_0147_or_g_PP_2057_or_g_PP_2703*PP_2703*R2_g_PP_0147_or_g_PP_2057_or_g_PP_2703': -1, 'etfA*etfB*PP_4203*R_g_PP_4201_and_g_PP_4202_and_g_PP_4203': -1, 'pWW0_093': -1}\n",
      "INFO:root:Strain design with cost 12.0: {'ACONTa': -1, 'CAT*katE*R0_g_PP_0115_or_g_PP_3668*katG*R1_g_PP_0115_or_g_PP_3668': -1, 'FDH*fdoG*fdoH*fdoI*fdhE*R_g_PP_0489_and_g_PP_0490_and_g_PP_0491_and_g_PP_0492*R0_g_PP_0489_and_g_PP_0490_and_g_PP_0491_and_g_PP_0492_or_g_PP_2183_and_g_PP_2184_and_g_PP_2185_and_g_PP_2186...': -1, 'MDH': -1, 'MDH2': -1, 'ME2*maeB': -1, 'NACODA*argE': -1, 'PGL*pgl*zwfA*R0_g_PP_1022_or_g_PP_4042_or_g_PP_5351*zwfB*R1_g_PP_1022_or_g_PP_4042_or_g_PP_5351*zwf*R2_g_PP_1022_or_g_PP_4042_or_g_PP_5351': -1, 'PP_0652*R0_g_PP_0652_or_g_PP_3417*gntT*R1_g_PP_0652_or_g_PP_3417': -1, 'citN*R0_g_PP_0147_or_g_PP_2057_or_g_PP_2703*yraO*R1_g_PP_0147_or_g_PP_2057_or_g_PP_2703*PP_2703*R2_g_PP_0147_or_g_PP_2057_or_g_PP_2703': -1, 'etfA*etfB*PP_4203*R_g_PP_4201_and_g_PP_4202_and_g_PP_4203': -1, 'pWW0_093': -1}\n",
      "INFO:root:Strain design with cost 13.0: {'ACONTa': -1, 'CAT*katE*R0_g_PP_0115_or_g_PP_3668*katG*R1_g_PP_0115_or_g_PP_3668': -1, 'FDH*fdoG*fdoH*fdoI*fdhE*R_g_PP_0489_and_g_PP_0490_and_g_PP_0491_and_g_PP_0492*R0_g_PP_0489_and_g_PP_0490_and_g_PP_0491_and_g_PP_0492_or_g_PP_2183_and_g_PP_2184_and_g_PP_2185_and_g_PP_2186...': -1, 'MDH': -1, 'MDH2': -1, 'ME2*maeB': -1, 'NACODA*argE': -1, 'OIVD1r': -1, 'TALA': -1, 'DMALRED': -1, 'ACOAD1f': -1, 'citN*R0_g_PP_0147_or_g_PP_2057_or_g_PP_2703*yraO*R1_g_PP_0147_or_g_PP_2057_or_g_PP_2703*PP_2703*R2_g_PP_0147_or_g_PP_2057_or_g_PP_2703': -1, 'pWW0_093': -1}\n",
      "INFO:root:Strain design with cost 14.0: {'ACONTa': -1, 'CAT*katE*R0_g_PP_0115_or_g_PP_3668*katG*R1_g_PP_0115_or_g_PP_3668': -1, 'FDH*fdoG*fdoH*fdoI*fdhE*R_g_PP_0489_and_g_PP_0490_and_g_PP_0491_and_g_PP_0492*R0_g_PP_0489_and_g_PP_0490_and_g_PP_0491_and_g_PP_0492_or_g_PP_2183_and_g_PP_2184_and_g_PP_2185_and_g_PP_2186...': -1, 'MDH': -1, 'MDH2': -1, 'ME2*maeB': -1, 'NACODA*argE': -1, 'OIVD1r': -1, 'PGL*pgl*zwfA*R0_g_PP_1022_or_g_PP_4042_or_g_PP_5351*zwfB*R1_g_PP_1022_or_g_PP_4042_or_g_PP_5351*zwf*R2_g_PP_1022_or_g_PP_4042_or_g_PP_5351': -1, 'DMALRED': -1, 'ACOAD1f': -1, 'PP_0652*R0_g_PP_0652_or_g_PP_3417*gntT*R1_g_PP_0652_or_g_PP_3417': -1, 'citN*R0_g_PP_0147_or_g_PP_2057_or_g_PP_2703*yraO*R1_g_PP_0147_or_g_PP_2057_or_g_PP_2703*PP_2703*R2_g_PP_0147_or_g_PP_2057_or_g_PP_2703': -1, 'pWW0_093': -1}\n",
      "INFO:root:Strain design with cost 14.0: {'ACONTa': -1, 'CAT*katE*R0_g_PP_0115_or_g_PP_3668*katG*R1_g_PP_0115_or_g_PP_3668': -1, 'FDH*fdoG*fdoH*fdoI*fdhE*R_g_PP_0489_and_g_PP_0490_and_g_PP_0491_and_g_PP_0492*R0_g_PP_0489_and_g_PP_0490_and_g_PP_0491_and_g_PP_0492_or_g_PP_2183_and_g_PP_2184_and_g_PP_2185_and_g_PP_2186...': -1, 'MDH': -1, 'MDH2': -1, 'ME2*maeB': -1, 'NACODA*argE': -1, 'OIVD1r': -1, 'PHAPC40': -1, 'HBRCH': -1, 'TALA': -1, 'DMALRED': -1, 'citN*R0_g_PP_0147_or_g_PP_2057_or_g_PP_2703*yraO*R1_g_PP_0147_or_g_PP_2057_or_g_PP_2703*PP_2703*R2_g_PP_0147_or_g_PP_2057_or_g_PP_2703': -1, 'pWW0_093': -1}\n",
      "INFO:root:Strain design with cost 14.0: {'ACONTa': -1, 'CAT*katE*R0_g_PP_0115_or_g_PP_3668*katG*R1_g_PP_0115_or_g_PP_3668': -1, 'CELLS*bcsA*bcsB*PP_2638*R_g_PP_2635_and_g_PP_2636_and_g_PP_2638': -1, 'FDH*fdoG*fdoH*fdoI*fdhE*R_g_PP_0489_and_g_PP_0490_and_g_PP_0491_and_g_PP_0492*R0_g_PP_0489_and_g_PP_0490_and_g_PP_0491_and_g_PP_0492_or_g_PP_2183_and_g_PP_2184_and_g_PP_2185_and_g_PP_2186...': -1, 'MDH': -1, 'MDH2': -1, 'ME2*maeB': -1, 'NACODA*argE': -1, 'OIVD1r': -1, 'PGL*pgl*zwfA*R0_g_PP_1022_or_g_PP_4042_or_g_PP_5351*zwfB*R1_g_PP_1022_or_g_PP_4042_or_g_PP_5351*zwf*R2_g_PP_1022_or_g_PP_4042_or_g_PP_5351': -1, 'DMALRED': -1, 'ACOAD1f': -1, 'citN*R0_g_PP_0147_or_g_PP_2057_or_g_PP_2703*yraO*R1_g_PP_0147_or_g_PP_2057_or_g_PP_2703*PP_2703*R2_g_PP_0147_or_g_PP_2057_or_g_PP_2703': -1, 'pWW0_093': -1}\n",
      "INFO:root:Strain design with cost 14.0: {'ACONTa': -1, 'CAT*katE*R0_g_PP_0115_or_g_PP_3668*katG*R1_g_PP_0115_or_g_PP_3668': -1, 'FDH*fdoG*fdoH*fdoI*fdhE*R_g_PP_0489_and_g_PP_0490_and_g_PP_0491_and_g_PP_0492*R0_g_PP_0489_and_g_PP_0490_and_g_PP_0491_and_g_PP_0492_or_g_PP_2183_and_g_PP_2184_and_g_PP_2185_and_g_PP_2186...': -1, 'MDH': -1, 'MDH2': -1, 'ME2*maeB': -1, 'NACODA*argE': -1, 'OIVD1r': -1, 'PHADPC40': -1, 'HBRCH': -1, 'TALA': -1, 'DMALRED': -1, 'citN*R0_g_PP_0147_or_g_PP_2057_or_g_PP_2703*yraO*R1_g_PP_0147_or_g_PP_2057_or_g_PP_2703*PP_2703*R2_g_PP_0147_or_g_PP_2057_or_g_PP_2703': -1, 'pWW0_093': -1}\n",
      "INFO:root:Strain design with cost 15.0: {'ACONTa': -1, 'CAT*katE*R0_g_PP_0115_or_g_PP_3668*katG*R1_g_PP_0115_or_g_PP_3668': -1, 'FDH*fdoG*fdoH*fdoI*fdhE*R_g_PP_0489_and_g_PP_0490_and_g_PP_0491_and_g_PP_0492*R0_g_PP_0489_and_g_PP_0490_and_g_PP_0491_and_g_PP_0492_or_g_PP_2183_and_g_PP_2184_and_g_PP_2185_and_g_PP_2186...': -1, 'MDH': -1, 'MDH2': -1, 'ME2*maeB': -1, 'NACODA*argE': -1, 'OIVD1r': -1, 'PGL*pgl*zwfA*R0_g_PP_1022_or_g_PP_4042_or_g_PP_5351*zwfB*R1_g_PP_1022_or_g_PP_4042_or_g_PP_5351*zwf*R2_g_PP_1022_or_g_PP_4042_or_g_PP_5351': -1, 'PHADPC40': -1, 'HBRCH': -1, 'DMALRED': -1, 'PP_0652*R0_g_PP_0652_or_g_PP_3417*gntT*R1_g_PP_0652_or_g_PP_3417': -1, 'citN*R0_g_PP_0147_or_g_PP_2057_or_g_PP_2703*yraO*R1_g_PP_0147_or_g_PP_2057_or_g_PP_2703*PP_2703*R2_g_PP_0147_or_g_PP_2057_or_g_PP_2703': -1, 'pWW0_093': -1}\n",
      "INFO:root:Strain design with cost 15.0: {'ACONTa': -1, 'CAT*katE*R0_g_PP_0115_or_g_PP_3668*katG*R1_g_PP_0115_or_g_PP_3668': -1, 'CELLS*bcsA*bcsB*PP_2638*R_g_PP_2635_and_g_PP_2636_and_g_PP_2638': -1, 'FDH*fdoG*fdoH*fdoI*fdhE*R_g_PP_0489_and_g_PP_0490_and_g_PP_0491_and_g_PP_0492*R0_g_PP_0489_and_g_PP_0490_and_g_PP_0491_and_g_PP_0492_or_g_PP_2183_and_g_PP_2184_and_g_PP_2185_and_g_PP_2186...': -1, 'MDH': -1, 'MDH2': -1, 'ME2*maeB': -1, 'NACODA*argE': -1, 'OIVD1r': -1, 'PGL*pgl*zwfA*R0_g_PP_1022_or_g_PP_4042_or_g_PP_5351*zwfB*R1_g_PP_1022_or_g_PP_4042_or_g_PP_5351*zwf*R2_g_PP_1022_or_g_PP_4042_or_g_PP_5351': -1, 'PHAPC40': -1, 'HBRCH': -1, 'DMALRED': -1, 'citN*R0_g_PP_0147_or_g_PP_2057_or_g_PP_2703*yraO*R1_g_PP_0147_or_g_PP_2057_or_g_PP_2703*PP_2703*R2_g_PP_0147_or_g_PP_2057_or_g_PP_2703': -1, 'pWW0_093': -1}\n",
      "INFO:root:Strain design with cost 15.0: {'ACONTa': -1, 'CAT*katE*R0_g_PP_0115_or_g_PP_3668*katG*R1_g_PP_0115_or_g_PP_3668': -1, 'FDH*fdoG*fdoH*fdoI*fdhE*R_g_PP_0489_and_g_PP_0490_and_g_PP_0491_and_g_PP_0492*R0_g_PP_0489_and_g_PP_0490_and_g_PP_0491_and_g_PP_0492_or_g_PP_2183_and_g_PP_2184_and_g_PP_2185_and_g_PP_2186...': -1, 'MDH': -1, 'MDH2': -1, 'ME2*maeB': -1, 'NACODA*argE': -1, 'OIVD1r': -1, 'PGL*pgl*zwfA*R0_g_PP_1022_or_g_PP_4042_or_g_PP_5351*zwfB*R1_g_PP_1022_or_g_PP_4042_or_g_PP_5351*zwf*R2_g_PP_1022_or_g_PP_4042_or_g_PP_5351': -1, 'PHAPC40': -1, 'HBRCH': -1, 'DMALRED': -1, 'PP_0652*R0_g_PP_0652_or_g_PP_3417*gntT*R1_g_PP_0652_or_g_PP_3417': -1, 'citN*R0_g_PP_0147_or_g_PP_2057_or_g_PP_2703*yraO*R1_g_PP_0147_or_g_PP_2057_or_g_PP_2703*PP_2703*R2_g_PP_0147_or_g_PP_2057_or_g_PP_2703': -1, 'pWW0_093': -1}\n",
      "INFO:root:Strain design with cost 15.0: {'ACONTa': -1, 'CAT*katE*R0_g_PP_0115_or_g_PP_3668*katG*R1_g_PP_0115_or_g_PP_3668': -1, 'CELLS*bcsA*bcsB*PP_2638*R_g_PP_2635_and_g_PP_2636_and_g_PP_2638': -1, 'FDH*fdoG*fdoH*fdoI*fdhE*R_g_PP_0489_and_g_PP_0490_and_g_PP_0491_and_g_PP_0492*R0_g_PP_0489_and_g_PP_0490_and_g_PP_0491_and_g_PP_0492_or_g_PP_2183_and_g_PP_2184_and_g_PP_2185_and_g_PP_2186...': -1, 'MDH': -1, 'MDH2': -1, 'ME2*maeB': -1, 'NACODA*argE': -1, 'OIVD1r': -1, 'PGL*pgl*zwfA*R0_g_PP_1022_or_g_PP_4042_or_g_PP_5351*zwfB*R1_g_PP_1022_or_g_PP_4042_or_g_PP_5351*zwf*R2_g_PP_1022_or_g_PP_4042_or_g_PP_5351': -1, 'PHADPC40': -1, 'HBRCH': -1, 'DMALRED': -1, 'citN*R0_g_PP_0147_or_g_PP_2057_or_g_PP_2703*yraO*R1_g_PP_0147_or_g_PP_2057_or_g_PP_2703*PP_2703*R2_g_PP_0147_or_g_PP_2057_or_g_PP_2703': -1, 'pWW0_093': -1}\n",
      "INFO:root:Searching in full search space.\n",
      "INFO:root:Minimizing number of interventions in subspace with 99 possible targets.\n",
      "INFO:root:Strain design with cost 12.0: {'GLYOX*LGTHL*AACTOOR*gloB*gloA': -1, 'MDH': -1, 'MDH2': -1, 'ME2*maeB': -1, 'MTHFD': -1, 'P5CD': -1, 'PGL*pgl*zwfA*R0_g_PP_1022_or_g_PP_4042_or_g_PP_5351*zwfB*R1_g_PP_1022_or_g_PP_4042_or_g_PP_5351*zwf*R2_g_PP_1022_or_g_PP_4042_or_g_PP_5351': -1, 'PUTA3': -1, 'DMALRED': -1, 'ALDD2y': -1, 'ACOAD1f': -1, 'ALDD2x': -1}\n",
      "INFO:root:Strain design with cost 12.0: {'GLYOX*LGTHL*AACTOOR*gloB*gloA': -1, 'MDH': -1, 'MDH2': -1, 'ME2*maeB': -1, 'MTHFD': -1, 'P5CD': -1, 'PUTA3': -1, 'TALA': -1, 'DMALRED': -1, 'ALDD2y': -1, 'ACOAD1f': -1, 'ALDD2x': -1}\n",
      "INFO:root:Searching in full search space.\n",
      "INFO:root:Time limit reached.\n",
      "INFO:root:  Decompressing.\n",
      "INFO:root:  Preparing (reaction-)phenotype prediction of gene intervention strategies.\n",
      "INFO:root:64 solutions found.\n"
     ]
    },
    {
     "name": "stdout",
     "output_type": "stream",
     "text": [
      "One compressed solution with cost 11.0 found and expanded to 64 solutions in the uncompressed netork.\n",
      "Example intervention set: ['CAT', 'MDH2', 'NACODA', 'ACALD', 'ACONTa', 'SUCD4', 'ME2', 'TALA', 'FDH', 'MDH']\n"
     ]
    }
   ],
   "source": [
    "# Compute strain designs\n",
    "sols = sd.compute_strain_designs(model,\n",
    "                                 sd_modules = [module_suppress, module_protect],\n",
    "                                 max_solutions = 50,\n",
    "                                 ko_cost = ko_cost,\n",
    "                                 gko_cost = gko_cost,\n",
    "                                 time_limit = 300,\n",
    "                                 solution_approach = sd.names.ANY)\n",
    "# Print solutions\n",
    "print(f\"One compressed solution with cost {sols.sd_cost[0]} found and \"+\\\n",
    "      f\"expanded to {len(sols.reaction_sd)} solutions in the uncompressed netork.\")\n",
    "print(f\"Example intervention set: {['+'+s if v>0 else s for s,v in sols.reaction_sd[0].items() if v!=0]}\")"
   ]
  },
  {
   "cell_type": "code",
   "execution_count": 10,
   "id": "fd5e0965-c568-413b-98ff-ce6a45ef87d5",
   "metadata": {},
   "outputs": [
    {
     "data": {
      "image/png": "[encoded data removed]",
      "text/plain": [
       "<Figure size 432x288 with 1 Axes>"
      ]
     },
     "metadata": {
      "needs_background": "light"
     },
     "output_type": "display_data"
    }
   ],
   "source": [
    "# plot production envelope of suggested strain design\n",
    "\n",
    "import matplotlib.pyplot as plt\n",
    "# Wild-type plot\n",
    "datapoints, triang, plot1 = sd.plot_flux_space(model,\n",
    "                                               ('BIOMASS_KT2440_WT3',('ACTt')),\n",
    "                                               show=False);\n",
    "_,          _,      plot2 = sd.plot_flux_space(model,\n",
    "                                               (f'BIOMASS_KT2440_WT3',('ACTt')),\n",
    "                                               constraints=f'BIOMASS_KT2440_WT3 >= {min_growth}',\n",
    "                                               show=False);\n",
    "plot2.set_facecolor('#70AD47')\n",
    "plot2.set_edgecolor('#70AD47')\n",
    "# pGCP design plot\n",
    "_,          _,      plot3 = sd.plot_flux_space(model,\n",
    "                                               ('BIOMASS_KT2440_WT3',('ACTt')),\n",
    "                                               constraints=f'ACTt <= {min_objective}',\n",
    "                                               show=False);\n",
    "plot3.set_facecolor('#ED7D31')\n",
    "plot3.set_edgecolor('#ED7D31')\n",
    "# plotting designed strain\n",
    "interventions = [[{s:1.0},'=',0.0] for s,v in sols.reaction_sd[0].items() if v < 1]\n",
    "_,          _,      plot4 = sd.plot_flux_space(model,\n",
    "                                               ('BIOMASS_KT2440_WT3',('ACTt')),\n",
    "                                               constraints=interventions,\n",
    "                                               show=False);\n",
    "plot4.set_facecolor('#FFC000')\n",
    "plot4.set_edgecolor('#FFC000')\n",
    "# adjust axes limits and show plot\n",
    "plot4.axes.set_xlim(0, 1.05*max([a[0] for a in datapoints]))\n",
    "plot4.axes.set_ylim(0, 1.05*max([a[1] for a in datapoints]))\n",
    "plt.show()"
   ]
  }
 ],
 "metadata": {
  "kernelspec": {
   "display_name": "me21",
   "language": "python",
   "name": "me21"
  },
  "language_info": {
   "codemirror_mode": {
    "name": "ipython",
    "version": 3
   },
   "file_extension": ".py",
   "mimetype": "text/x-python",
   "name": "python",
   "nbconvert_exporter": "python",
   "pygments_lexer": "ipython3",
   "version": "3.8.13"
  }
 },
 "nbformat": 4,
 "nbformat_minor": 5
}
