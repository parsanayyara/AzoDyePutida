{
 "cells": [
  {
   "cell_type": "markdown",
   "id": "7ff255c9-b62a-450a-a219-e356dbb44c44",
   "metadata": {},
   "source": [
    "### Flux Variability Analysis (MR vs ACT)\n",
    "\n",
    "Purpose: generate MR vs ACT production envelope\n",
    "\n",
    "Last Updated: Parsa Nayyara (01.02.24)"
   ]
  },
  {
   "cell_type": "code",
   "execution_count": 1,
   "id": "07ad0d7c-3e66-4d11-b0a1-53a359b318ce",
   "metadata": {},
   "outputs": [],
   "source": [
    "import cobra.test\n",
    "import os\n",
    "from os.path import join\n",
    "\n",
    "data_dir = cobra.test.data_dir\n",
    "\n",
    "from __future__ import print_function\n",
    "\n",
    "from cobra import Model, Reaction, Metabolite"
   ]
  },
  {
   "cell_type": "code",
   "execution_count": 3,
   "id": "a676b6a3-3fd6-4a69-b47f-32655745e2a1",
   "metadata": {},
   "outputs": [],
   "source": [
    "model = cobra.io.read_sbml_model(join(data_dir, modelfilepath))\n",
    "\n",
    "model.solver = \"cplex\""
   ]
  },
  {
   "cell_type": "code",
   "execution_count": 4,
   "id": "76b44328-900c-4b9e-ac6b-b240a2afffe1",
   "metadata": {},
   "outputs": [
    {
     "data": {
      "text/plain": [
       "{'EX_ca2_e': 10.0,\n",
       " 'EX_cl_e': 10.0,\n",
       " 'EX_co2_e': 100.0,\n",
       " 'EX_cobalt2_e': 10.0,\n",
       " 'EX_cu2_e': 10.0,\n",
       " 'EX_fe2_e': 10.0,\n",
       " 'EX_h2o_e': 100.0,\n",
       " 'EX_h_e': 100.0,\n",
       " 'EX_hco3_e': 10.0,\n",
       " 'EX_k_e': 10.0,\n",
       " 'EX_mg2_e': 10.0,\n",
       " 'EX_mn2_e': 10.0,\n",
       " 'EX_mobd_e': 10.0,\n",
       " 'EX_na1_e': 10.0,\n",
       " 'EX_nh4_e': 10.0,\n",
       " 'EX_ni2_e': 10.0,\n",
       " 'EX_o2_e': 30.0,\n",
       " 'EX_pi_e': 10.0,\n",
       " 'EX_sel_e': 10.0,\n",
       " 'EX_so4_e': 10.0,\n",
       " 'EX_tungs_e': 10.0,\n",
       " 'EX_zn2_e': 10.0,\n",
       " 'EX_MR': 1000}"
      ]
     },
     "execution_count": 4,
     "metadata": {},
     "output_type": "execute_result"
    }
   ],
   "source": [
    "# change bounds according to M9 minimal media in Nogales et al. 2020\n",
    "\n",
    "cobra.Reaction(\"EX_ca2_e\", lower_bound = -10, upper_bound = 1000.0)\n",
    "cobra.Reaction(\"EX_co2_e\", lower_bound = -100, upper_bound = 1000.0)\n",
    "cobra.Reaction(\"EX_cobalt2_e\", lower_bound = -10, upper_bound = 1000.0)\n",
    "cobra.Reaction(\"EX_cu2_e\", lower_bound = -10, upper_bound = 1000.0)\n",
    "cobra.Reaction(\"EX_cl_e\", lower_bound = -10, upper_bound = 1000.0)\n",
    "cobra.Reaction(\"EX_fe2_e\", lower_bound = -10, upper_bound = 1000.0)\n",
    "cobra.Reaction(\"EX_glc__D_e\", lower_bound = -6.3, upper_bound = 1000.0)\n",
    "cobra.Reaction(\"EX_h2o_e\", lower_bound = -100, upper_bound = 1000.0)\n",
    "cobra.Reaction(\"EX_h_e\", lower_bound = -100, upper_bound = 1000.0)\n",
    "cobra.Reaction(\"EX_hco3_e\", lower_bound = -10, upper_bound = 1000.0)\n",
    "cobra.Reaction(\"EX_k_e\", lower_bound = -10, upper_bound = 1000.0)\n",
    "cobra.Reaction(\"EX_mg2_e\", lower_bound = -10, upper_bound = 1000.0)\n",
    "cobra.Reaction(\"EX_mn2_e\", lower_bound = -10, upper_bound = 1000.0)\n",
    "cobra.Reaction(\"EX_mobd_e\", lower_bound = -10, upper_bound = 1000.0)\n",
    "cobra.Reaction(\"EX_nh4_e\", lower_bound = -10, upper_bound = 1000.0)\n",
    "cobra.Reaction(\"EX_ni2_e\", lower_bound = -10, upper_bound = 1000.0)\n",
    "cobra.Reaction(\"EX_o2_e\", lower_bound = -30, upper_bound = 1000.0)\n",
    "cobra.Reaction(\"EX_pi_e\", lower_bound = -10, upper_bound = 1000.0)\n",
    "cobra.Reaction(\"EX_sel_e\", lower_bound = -10, upper_bound = 1000.0)\n",
    "cobra.Reaction(\"EX_so4_e\", lower_bound = -10, upper_bound = 1000.0)\n",
    "cobra.Reaction(\"EX_tungs_e\", lower_bound = -10, upper_bound = 1000.0)\n",
    "cobra.Reaction(\"EX_zn2_e\", lower_bound = -10, upper_bound = 1000.0)\n",
    "cobra.Reaction(\"EX_MR\", lower_bound = -1000, upper_bound = 1000.0)\n",
    "\n",
    "medium = model.medium\n",
    "medium[\"EX_acmtsoxin_e\"] = 0.0\n",
    "medium[\"EX_acpptrn_e\"] = 0.0\n",
    "medium[\"EX_d2one_e\"] = 0.0\n",
    "medium[\"EX_d3one_e\"] = 0.0\n",
    "medium[\"EX_d4one_e\"] = 0.0\n",
    "medium[\"EX_mtsoxin_e\"] = 0.0\n",
    "medium[\"EX_n2one_e\"] = 0.0\n",
    "medium[\"EX_pptrn_e\"] = 0.0\n",
    "medium[\"EX_und2one_e\"] = 0.0\n",
    "medium[\"EX_gACT[e]\"] = 0.0\n",
    "medium[\"EX_nh4_e\"] = 10.0\n",
    "medium[\"EX_o2_e\"] = 30.0\n",
    "\n",
    "# change carbon source\n",
    "medium[\"EX_MR\"] = 1000\n",
    "medium[\"EX_glc__D_e\"] = 0.0\n",
    "\n",
    "model.medium = medium\n",
    "\n",
    "model.medium"
   ]
  },
  {
   "cell_type": "code",
   "execution_count": 5,
   "id": "f054eded-eb51-4f99-b16d-2a9be6b4c0c6",
   "metadata": {},
   "outputs": [
    {
     "data": {
      "text/html": [
       "<div>\n",
       "<style scoped>\n",
       "    .dataframe tbody tr th:only-of-type {\n",
       "        vertical-align: middle;\n",
       "    }\n",
       "\n",
       "    .dataframe tbody tr th {\n",
       "        vertical-align: top;\n",
       "    }\n",
       "\n",
       "    .dataframe thead th {\n",
       "        text-align: right;\n",
       "    }\n",
       "</style>\n",
       "<table border=\"1\" class=\"dataframe\">\n",
       "  <thead>\n",
       "    <tr style=\"text-align: right;\">\n",
       "      <th></th>\n",
       "      <th>minimum</th>\n",
       "      <th>maximum</th>\n",
       "    </tr>\n",
       "  </thead>\n",
       "  <tbody>\n",
       "    <tr>\n",
       "      <th>MRt1</th>\n",
       "      <td>10.805462</td>\n",
       "      <td>10.805462</td>\n",
       "    </tr>\n",
       "  </tbody>\n",
       "</table>\n",
       "</div>"
      ],
      "text/plain": [
       "        minimum    maximum\n",
       "MRt1  10.805462  10.805462"
      ]
     },
     "execution_count": 5,
     "metadata": {},
     "output_type": "execute_result"
    }
   ],
   "source": [
    "#set objective\n",
    "\n",
    "model.objective = \"ACTt\"\n",
    "\n",
    "#Begin inspecting flux variability of MR uptake at 100% optimality\n",
    "\n",
    "cobra.flux_analysis.flux_variability_analysis(\n",
    "    model, model.reactions.MRt1, fraction_of_optimum=1)"
   ]
  },
  {
   "cell_type": "code",
   "execution_count": 6,
   "id": "c1033b0e-141b-4aea-ae66-503d069e70b7",
   "metadata": {},
   "outputs": [
    {
     "data": {
      "text/html": [
       "<div>\n",
       "<style scoped>\n",
       "    .dataframe tbody tr th:only-of-type {\n",
       "        vertical-align: middle;\n",
       "    }\n",
       "\n",
       "    .dataframe tbody tr th {\n",
       "        vertical-align: top;\n",
       "    }\n",
       "\n",
       "    .dataframe thead th {\n",
       "        text-align: right;\n",
       "    }\n",
       "</style>\n",
       "<table border=\"1\" class=\"dataframe\">\n",
       "  <thead>\n",
       "    <tr style=\"text-align: right;\">\n",
       "      <th></th>\n",
       "      <th>minimum</th>\n",
       "      <th>maximum</th>\n",
       "    </tr>\n",
       "  </thead>\n",
       "  <tbody>\n",
       "    <tr>\n",
       "      <th>MRt1</th>\n",
       "      <td>9.731153</td>\n",
       "      <td>18.28749</td>\n",
       "    </tr>\n",
       "  </tbody>\n",
       "</table>\n",
       "</div>"
      ],
      "text/plain": [
       "       minimum   maximum\n",
       "MRt1  9.731153  18.28749"
      ]
     },
     "execution_count": 6,
     "metadata": {},
     "output_type": "execute_result"
    }
   ],
   "source": [
    "#90% optimality\n",
    "cobra.flux_analysis.flux_variability_analysis(\n",
    "    model, model.reactions.MRt1, fraction_of_optimum=0.9)"
   ]
  },
  {
   "cell_type": "code",
   "execution_count": 7,
   "id": "1303d559-f03f-4c63-b55f-84b46ef03918",
   "metadata": {},
   "outputs": [
    {
     "data": {
      "text/html": [
       "<div>\n",
       "<style scoped>\n",
       "    .dataframe tbody tr th:only-of-type {\n",
       "        vertical-align: middle;\n",
       "    }\n",
       "\n",
       "    .dataframe tbody tr th {\n",
       "        vertical-align: top;\n",
       "    }\n",
       "\n",
       "    .dataframe thead th {\n",
       "        text-align: right;\n",
       "    }\n",
       "</style>\n",
       "<table border=\"1\" class=\"dataframe\">\n",
       "  <thead>\n",
       "    <tr style=\"text-align: right;\">\n",
       "      <th></th>\n",
       "      <th>minimum</th>\n",
       "      <th>maximum</th>\n",
       "    </tr>\n",
       "  </thead>\n",
       "  <tbody>\n",
       "    <tr>\n",
       "      <th>MRt1</th>\n",
       "      <td>8.656844</td>\n",
       "      <td>22.337459</td>\n",
       "    </tr>\n",
       "  </tbody>\n",
       "</table>\n",
       "</div>"
      ],
      "text/plain": [
       "       minimum    maximum\n",
       "MRt1  8.656844  22.337459"
      ]
     },
     "execution_count": 7,
     "metadata": {},
     "output_type": "execute_result"
    }
   ],
   "source": [
    "#80% optimality\n",
    "cobra.flux_analysis.flux_variability_analysis(\n",
    "    model, model.reactions.MRt1, fraction_of_optimum=0.8)"
   ]
  },
  {
   "cell_type": "code",
   "execution_count": 8,
   "id": "c1aa86cf-6502-4988-a33c-60283df9ae5b",
   "metadata": {},
   "outputs": [
    {
     "data": {
      "text/html": [
       "<div>\n",
       "<style scoped>\n",
       "    .dataframe tbody tr th:only-of-type {\n",
       "        vertical-align: middle;\n",
       "    }\n",
       "\n",
       "    .dataframe tbody tr th {\n",
       "        vertical-align: top;\n",
       "    }\n",
       "\n",
       "    .dataframe thead th {\n",
       "        text-align: right;\n",
       "    }\n",
       "</style>\n",
       "<table border=\"1\" class=\"dataframe\">\n",
       "  <thead>\n",
       "    <tr style=\"text-align: right;\">\n",
       "      <th></th>\n",
       "      <th>minimum</th>\n",
       "      <th>maximum</th>\n",
       "    </tr>\n",
       "  </thead>\n",
       "  <tbody>\n",
       "    <tr>\n",
       "      <th>MRt1</th>\n",
       "      <td>7.582535</td>\n",
       "      <td>26.387429</td>\n",
       "    </tr>\n",
       "  </tbody>\n",
       "</table>\n",
       "</div>"
      ],
      "text/plain": [
       "       minimum    maximum\n",
       "MRt1  7.582535  26.387429"
      ]
     },
     "execution_count": 8,
     "metadata": {},
     "output_type": "execute_result"
    }
   ],
   "source": [
    "#70% optimality\n",
    "cobra.flux_analysis.flux_variability_analysis(\n",
    "    model, model.reactions.MRt1, fraction_of_optimum=0.7)"
   ]
  },
  {
   "cell_type": "code",
   "execution_count": 9,
   "id": "e08bf95b-3f06-42e5-923f-ac9087630320",
   "metadata": {},
   "outputs": [
    {
     "data": {
      "text/html": [
       "<div>\n",
       "<style scoped>\n",
       "    .dataframe tbody tr th:only-of-type {\n",
       "        vertical-align: middle;\n",
       "    }\n",
       "\n",
       "    .dataframe tbody tr th {\n",
       "        vertical-align: top;\n",
       "    }\n",
       "\n",
       "    .dataframe thead th {\n",
       "        text-align: right;\n",
       "    }\n",
       "</style>\n",
       "<table border=\"1\" class=\"dataframe\">\n",
       "  <thead>\n",
       "    <tr style=\"text-align: right;\">\n",
       "      <th></th>\n",
       "      <th>minimum</th>\n",
       "      <th>maximum</th>\n",
       "    </tr>\n",
       "  </thead>\n",
       "  <tbody>\n",
       "    <tr>\n",
       "      <th>MRt1</th>\n",
       "      <td>6.508227</td>\n",
       "      <td>30.437398</td>\n",
       "    </tr>\n",
       "  </tbody>\n",
       "</table>\n",
       "</div>"
      ],
      "text/plain": [
       "       minimum    maximum\n",
       "MRt1  6.508227  30.437398"
      ]
     },
     "execution_count": 9,
     "metadata": {},
     "output_type": "execute_result"
    }
   ],
   "source": [
    "#60% optimality\n",
    "cobra.flux_analysis.flux_variability_analysis(\n",
    "    model, model.reactions.MRt1, fraction_of_optimum=0.6)"
   ]
  },
  {
   "cell_type": "code",
   "execution_count": 10,
   "id": "60ab27d7-6589-452b-b448-db0d9493fb24",
   "metadata": {},
   "outputs": [
    {
     "data": {
      "text/html": [
       "<div>\n",
       "<style scoped>\n",
       "    .dataframe tbody tr th:only-of-type {\n",
       "        vertical-align: middle;\n",
       "    }\n",
       "\n",
       "    .dataframe tbody tr th {\n",
       "        vertical-align: top;\n",
       "    }\n",
       "\n",
       "    .dataframe thead th {\n",
       "        text-align: right;\n",
       "    }\n",
       "</style>\n",
       "<table border=\"1\" class=\"dataframe\">\n",
       "  <thead>\n",
       "    <tr style=\"text-align: right;\">\n",
       "      <th></th>\n",
       "      <th>minimum</th>\n",
       "      <th>maximum</th>\n",
       "    </tr>\n",
       "  </thead>\n",
       "  <tbody>\n",
       "    <tr>\n",
       "      <th>MRt1</th>\n",
       "      <td>5.433918</td>\n",
       "      <td>34.487368</td>\n",
       "    </tr>\n",
       "  </tbody>\n",
       "</table>\n",
       "</div>"
      ],
      "text/plain": [
       "       minimum    maximum\n",
       "MRt1  5.433918  34.487368"
      ]
     },
     "execution_count": 10,
     "metadata": {},
     "output_type": "execute_result"
    }
   ],
   "source": [
    "#50% optimality\n",
    "cobra.flux_analysis.flux_variability_analysis(\n",
    "    model, model.reactions.MRt1, fraction_of_optimum=0.5)"
   ]
  },
  {
   "cell_type": "code",
   "execution_count": 11,
   "id": "86933920-a811-4547-97ba-144c0ae02d47",
   "metadata": {},
   "outputs": [
    {
     "data": {
      "text/html": [
       "<div>\n",
       "<style scoped>\n",
       "    .dataframe tbody tr th:only-of-type {\n",
       "        vertical-align: middle;\n",
       "    }\n",
       "\n",
       "    .dataframe tbody tr th {\n",
       "        vertical-align: top;\n",
       "    }\n",
       "\n",
       "    .dataframe thead th {\n",
       "        text-align: right;\n",
       "    }\n",
       "</style>\n",
       "<table border=\"1\" class=\"dataframe\">\n",
       "  <thead>\n",
       "    <tr style=\"text-align: right;\">\n",
       "      <th></th>\n",
       "      <th>minimum</th>\n",
       "      <th>maximum</th>\n",
       "    </tr>\n",
       "  </thead>\n",
       "  <tbody>\n",
       "    <tr>\n",
       "      <th>MRt1</th>\n",
       "      <td>4.359609</td>\n",
       "      <td>38.537337</td>\n",
       "    </tr>\n",
       "  </tbody>\n",
       "</table>\n",
       "</div>"
      ],
      "text/plain": [
       "       minimum    maximum\n",
       "MRt1  4.359609  38.537337"
      ]
     },
     "execution_count": 11,
     "metadata": {},
     "output_type": "execute_result"
    }
   ],
   "source": [
    "#40% optimality\n",
    "cobra.flux_analysis.flux_variability_analysis(\n",
    "    model, model.reactions.MRt1, fraction_of_optimum=0.4)"
   ]
  },
  {
   "cell_type": "code",
   "execution_count": 12,
   "id": "ca140fec-dae0-40fb-88eb-d360d062317e",
   "metadata": {},
   "outputs": [
    {
     "data": {
      "text/html": [
       "<div>\n",
       "<style scoped>\n",
       "    .dataframe tbody tr th:only-of-type {\n",
       "        vertical-align: middle;\n",
       "    }\n",
       "\n",
       "    .dataframe tbody tr th {\n",
       "        vertical-align: top;\n",
       "    }\n",
       "\n",
       "    .dataframe thead th {\n",
       "        text-align: right;\n",
       "    }\n",
       "</style>\n",
       "<table border=\"1\" class=\"dataframe\">\n",
       "  <thead>\n",
       "    <tr style=\"text-align: right;\">\n",
       "      <th></th>\n",
       "      <th>minimum</th>\n",
       "      <th>maximum</th>\n",
       "    </tr>\n",
       "  </thead>\n",
       "  <tbody>\n",
       "    <tr>\n",
       "      <th>MRt1</th>\n",
       "      <td>3.2853</td>\n",
       "      <td>42.587307</td>\n",
       "    </tr>\n",
       "  </tbody>\n",
       "</table>\n",
       "</div>"
      ],
      "text/plain": [
       "      minimum    maximum\n",
       "MRt1   3.2853  42.587307"
      ]
     },
     "execution_count": 12,
     "metadata": {},
     "output_type": "execute_result"
    }
   ],
   "source": [
    "#30% optimality\n",
    "cobra.flux_analysis.flux_variability_analysis(\n",
    "    model, model.reactions.MRt1, fraction_of_optimum=0.3)"
   ]
  },
  {
   "cell_type": "code",
   "execution_count": 13,
   "id": "bb26830d-0e40-488d-9700-32e100d0433e",
   "metadata": {},
   "outputs": [
    {
     "data": {
      "text/html": [
       "<div>\n",
       "<style scoped>\n",
       "    .dataframe tbody tr th:only-of-type {\n",
       "        vertical-align: middle;\n",
       "    }\n",
       "\n",
       "    .dataframe tbody tr th {\n",
       "        vertical-align: top;\n",
       "    }\n",
       "\n",
       "    .dataframe thead th {\n",
       "        text-align: right;\n",
       "    }\n",
       "</style>\n",
       "<table border=\"1\" class=\"dataframe\">\n",
       "  <thead>\n",
       "    <tr style=\"text-align: right;\">\n",
       "      <th></th>\n",
       "      <th>minimum</th>\n",
       "      <th>maximum</th>\n",
       "    </tr>\n",
       "  </thead>\n",
       "  <tbody>\n",
       "    <tr>\n",
       "      <th>MRt1</th>\n",
       "      <td>2.210991</td>\n",
       "      <td>46.637276</td>\n",
       "    </tr>\n",
       "  </tbody>\n",
       "</table>\n",
       "</div>"
      ],
      "text/plain": [
       "       minimum    maximum\n",
       "MRt1  2.210991  46.637276"
      ]
     },
     "execution_count": 13,
     "metadata": {},
     "output_type": "execute_result"
    }
   ],
   "source": [
    "#20% optimality\n",
    "cobra.flux_analysis.flux_variability_analysis(\n",
    "    model, model.reactions.MRt1, fraction_of_optimum=0.2)"
   ]
  },
  {
   "cell_type": "code",
   "execution_count": 14,
   "id": "3bb7609a-b90d-4b98-a74d-c4a17526b32c",
   "metadata": {},
   "outputs": [
    {
     "data": {
      "text/html": [
       "<div>\n",
       "<style scoped>\n",
       "    .dataframe tbody tr th:only-of-type {\n",
       "        vertical-align: middle;\n",
       "    }\n",
       "\n",
       "    .dataframe tbody tr th {\n",
       "        vertical-align: top;\n",
       "    }\n",
       "\n",
       "    .dataframe thead th {\n",
       "        text-align: right;\n",
       "    }\n",
       "</style>\n",
       "<table border=\"1\" class=\"dataframe\">\n",
       "  <thead>\n",
       "    <tr style=\"text-align: right;\">\n",
       "      <th></th>\n",
       "      <th>minimum</th>\n",
       "      <th>maximum</th>\n",
       "    </tr>\n",
       "  </thead>\n",
       "  <tbody>\n",
       "    <tr>\n",
       "      <th>MRt1</th>\n",
       "      <td>1.136682</td>\n",
       "      <td>50.687246</td>\n",
       "    </tr>\n",
       "  </tbody>\n",
       "</table>\n",
       "</div>"
      ],
      "text/plain": [
       "       minimum    maximum\n",
       "MRt1  1.136682  50.687246"
      ]
     },
     "execution_count": 14,
     "metadata": {},
     "output_type": "execute_result"
    }
   ],
   "source": [
    "#10% optimality\n",
    "cobra.flux_analysis.flux_variability_analysis(\n",
    "    model, model.reactions.MRt1, fraction_of_optimum=0.1)"
   ]
  },
  {
   "cell_type": "code",
   "execution_count": 15,
   "id": "65e4f4a4-5299-455a-82cf-2db9e2b65879",
   "metadata": {},
   "outputs": [
    {
     "data": {
      "text/html": [
       "<div>\n",
       "<style scoped>\n",
       "    .dataframe tbody tr th:only-of-type {\n",
       "        vertical-align: middle;\n",
       "    }\n",
       "\n",
       "    .dataframe tbody tr th {\n",
       "        vertical-align: top;\n",
       "    }\n",
       "\n",
       "    .dataframe thead th {\n",
       "        text-align: right;\n",
       "    }\n",
       "</style>\n",
       "<table border=\"1\" class=\"dataframe\">\n",
       "  <thead>\n",
       "    <tr style=\"text-align: right;\">\n",
       "      <th></th>\n",
       "      <th>minimum</th>\n",
       "      <th>maximum</th>\n",
       "    </tr>\n",
       "  </thead>\n",
       "  <tbody>\n",
       "    <tr>\n",
       "      <th>MRt1</th>\n",
       "      <td>0.062373</td>\n",
       "      <td>54.737215</td>\n",
       "    </tr>\n",
       "  </tbody>\n",
       "</table>\n",
       "</div>"
      ],
      "text/plain": [
       "       minimum    maximum\n",
       "MRt1  0.062373  54.737215"
      ]
     },
     "execution_count": 15,
     "metadata": {},
     "output_type": "execute_result"
    }
   ],
   "source": [
    "#0% optimality\n",
    "cobra.flux_analysis.flux_variability_analysis(\n",
    "    model, model.reactions.MRt1, fraction_of_optimum=0)"
   ]
  },
  {
   "cell_type": "code",
   "execution_count": 16,
   "id": "1166b5b7-3065-46a0-b4b8-3fa3d82a8214",
   "metadata": {},
   "outputs": [
    {
     "data": {
      "text/html": [
       "<div>\n",
       "<style scoped>\n",
       "    .dataframe tbody tr th:only-of-type {\n",
       "        vertical-align: middle;\n",
       "    }\n",
       "\n",
       "    .dataframe tbody tr th {\n",
       "        vertical-align: top;\n",
       "    }\n",
       "\n",
       "    .dataframe thead th {\n",
       "        text-align: right;\n",
       "    }\n",
       "</style>\n",
       "<table border=\"1\" class=\"dataframe\">\n",
       "  <thead>\n",
       "    <tr style=\"text-align: right;\">\n",
       "      <th></th>\n",
       "      <th>minimum</th>\n",
       "      <th>maximum</th>\n",
       "    </tr>\n",
       "  </thead>\n",
       "  <tbody>\n",
       "    <tr>\n",
       "      <th>ACTt</th>\n",
       "      <td>1.142058</td>\n",
       "      <td>1.142058</td>\n",
       "    </tr>\n",
       "  </tbody>\n",
       "</table>\n",
       "</div>"
      ],
      "text/plain": [
       "       minimum   maximum\n",
       "ACTt  1.142058  1.142058"
      ]
     },
     "execution_count": 16,
     "metadata": {},
     "output_type": "execute_result"
    }
   ],
   "source": [
    "#set objective\n",
    "\n",
    "model.objective = \"ACTt\"\n",
    "\n",
    "#Begin inspecting flux variability of ACTt at 100% optimality\n",
    "\n",
    "cobra.flux_analysis.flux_variability_analysis(\n",
    "    model, model.reactions.ACTt, fraction_of_optimum=1)"
   ]
  },
  {
   "cell_type": "code",
   "execution_count": 17,
   "id": "70e353be-237a-4ab0-bfeb-490cf1e1f3e2",
   "metadata": {},
   "outputs": [
    {
     "data": {
      "text/html": [
       "<div>\n",
       "<style scoped>\n",
       "    .dataframe tbody tr th:only-of-type {\n",
       "        vertical-align: middle;\n",
       "    }\n",
       "\n",
       "    .dataframe tbody tr th {\n",
       "        vertical-align: top;\n",
       "    }\n",
       "\n",
       "    .dataframe thead th {\n",
       "        text-align: right;\n",
       "    }\n",
       "</style>\n",
       "<table border=\"1\" class=\"dataframe\">\n",
       "  <thead>\n",
       "    <tr style=\"text-align: right;\">\n",
       "      <th></th>\n",
       "      <th>minimum</th>\n",
       "      <th>maximum</th>\n",
       "    </tr>\n",
       "  </thead>\n",
       "  <tbody>\n",
       "    <tr>\n",
       "      <th>ACTt</th>\n",
       "      <td>1.027852</td>\n",
       "      <td>1.142058</td>\n",
       "    </tr>\n",
       "  </tbody>\n",
       "</table>\n",
       "</div>"
      ],
      "text/plain": [
       "       minimum   maximum\n",
       "ACTt  1.027852  1.142058"
      ]
     },
     "execution_count": 17,
     "metadata": {},
     "output_type": "execute_result"
    }
   ],
   "source": [
    "#90% optimality\n",
    "cobra.flux_analysis.flux_variability_analysis(\n",
    "    model, model.reactions.ACTt, fraction_of_optimum=0.9)"
   ]
  },
  {
   "cell_type": "code",
   "execution_count": 18,
   "id": "692c329f-05b1-4706-86b6-748b6bba4a45",
   "metadata": {},
   "outputs": [
    {
     "data": {
      "text/html": [
       "<div>\n",
       "<style scoped>\n",
       "    .dataframe tbody tr th:only-of-type {\n",
       "        vertical-align: middle;\n",
       "    }\n",
       "\n",
       "    .dataframe tbody tr th {\n",
       "        vertical-align: top;\n",
       "    }\n",
       "\n",
       "    .dataframe thead th {\n",
       "        text-align: right;\n",
       "    }\n",
       "</style>\n",
       "<table border=\"1\" class=\"dataframe\">\n",
       "  <thead>\n",
       "    <tr style=\"text-align: right;\">\n",
       "      <th></th>\n",
       "      <th>minimum</th>\n",
       "      <th>maximum</th>\n",
       "    </tr>\n",
       "  </thead>\n",
       "  <tbody>\n",
       "    <tr>\n",
       "      <th>ACTt</th>\n",
       "      <td>0.913647</td>\n",
       "      <td>1.142058</td>\n",
       "    </tr>\n",
       "  </tbody>\n",
       "</table>\n",
       "</div>"
      ],
      "text/plain": [
       "       minimum   maximum\n",
       "ACTt  0.913647  1.142058"
      ]
     },
     "execution_count": 18,
     "metadata": {},
     "output_type": "execute_result"
    }
   ],
   "source": [
    "#80% optimality\n",
    "cobra.flux_analysis.flux_variability_analysis(\n",
    "    model, model.reactions.ACTt, fraction_of_optimum=0.8)"
   ]
  },
  {
   "cell_type": "code",
   "execution_count": 19,
   "id": "a27da45a-bd28-4f56-8ef4-ff2cdc2e4fb1",
   "metadata": {},
   "outputs": [
    {
     "data": {
      "text/html": [
       "<div>\n",
       "<style scoped>\n",
       "    .dataframe tbody tr th:only-of-type {\n",
       "        vertical-align: middle;\n",
       "    }\n",
       "\n",
       "    .dataframe tbody tr th {\n",
       "        vertical-align: top;\n",
       "    }\n",
       "\n",
       "    .dataframe thead th {\n",
       "        text-align: right;\n",
       "    }\n",
       "</style>\n",
       "<table border=\"1\" class=\"dataframe\">\n",
       "  <thead>\n",
       "    <tr style=\"text-align: right;\">\n",
       "      <th></th>\n",
       "      <th>minimum</th>\n",
       "      <th>maximum</th>\n",
       "    </tr>\n",
       "  </thead>\n",
       "  <tbody>\n",
       "    <tr>\n",
       "      <th>ACTt</th>\n",
       "      <td>0.799441</td>\n",
       "      <td>1.142058</td>\n",
       "    </tr>\n",
       "  </tbody>\n",
       "</table>\n",
       "</div>"
      ],
      "text/plain": [
       "       minimum   maximum\n",
       "ACTt  0.799441  1.142058"
      ]
     },
     "execution_count": 19,
     "metadata": {},
     "output_type": "execute_result"
    }
   ],
   "source": [
    "#70% optimality\n",
    "cobra.flux_analysis.flux_variability_analysis(\n",
    "    model, model.reactions.ACTt, fraction_of_optimum=0.7)"
   ]
  },
  {
   "cell_type": "code",
   "execution_count": 20,
   "id": "98909ec9-8783-4daa-bcc0-ddd98d6b9f39",
   "metadata": {},
   "outputs": [
    {
     "data": {
      "text/html": [
       "<div>\n",
       "<style scoped>\n",
       "    .dataframe tbody tr th:only-of-type {\n",
       "        vertical-align: middle;\n",
       "    }\n",
       "\n",
       "    .dataframe tbody tr th {\n",
       "        vertical-align: top;\n",
       "    }\n",
       "\n",
       "    .dataframe thead th {\n",
       "        text-align: right;\n",
       "    }\n",
       "</style>\n",
       "<table border=\"1\" class=\"dataframe\">\n",
       "  <thead>\n",
       "    <tr style=\"text-align: right;\">\n",
       "      <th></th>\n",
       "      <th>minimum</th>\n",
       "      <th>maximum</th>\n",
       "    </tr>\n",
       "  </thead>\n",
       "  <tbody>\n",
       "    <tr>\n",
       "      <th>ACTt</th>\n",
       "      <td>0.685235</td>\n",
       "      <td>1.142058</td>\n",
       "    </tr>\n",
       "  </tbody>\n",
       "</table>\n",
       "</div>"
      ],
      "text/plain": [
       "       minimum   maximum\n",
       "ACTt  0.685235  1.142058"
      ]
     },
     "execution_count": 20,
     "metadata": {},
     "output_type": "execute_result"
    }
   ],
   "source": [
    "#60% optimality\n",
    "cobra.flux_analysis.flux_variability_analysis(\n",
    "    model, model.reactions.ACTt, fraction_of_optimum=0.6)"
   ]
  },
  {
   "cell_type": "code",
   "execution_count": 21,
   "id": "2cc5b8a7-7524-4eb3-808e-2be9cc7a506e",
   "metadata": {},
   "outputs": [
    {
     "data": {
      "text/html": [
       "<div>\n",
       "<style scoped>\n",
       "    .dataframe tbody tr th:only-of-type {\n",
       "        vertical-align: middle;\n",
       "    }\n",
       "\n",
       "    .dataframe tbody tr th {\n",
       "        vertical-align: top;\n",
       "    }\n",
       "\n",
       "    .dataframe thead th {\n",
       "        text-align: right;\n",
       "    }\n",
       "</style>\n",
       "<table border=\"1\" class=\"dataframe\">\n",
       "  <thead>\n",
       "    <tr style=\"text-align: right;\">\n",
       "      <th></th>\n",
       "      <th>minimum</th>\n",
       "      <th>maximum</th>\n",
       "    </tr>\n",
       "  </thead>\n",
       "  <tbody>\n",
       "    <tr>\n",
       "      <th>ACTt</th>\n",
       "      <td>0.571029</td>\n",
       "      <td>1.142058</td>\n",
       "    </tr>\n",
       "  </tbody>\n",
       "</table>\n",
       "</div>"
      ],
      "text/plain": [
       "       minimum   maximum\n",
       "ACTt  0.571029  1.142058"
      ]
     },
     "execution_count": 21,
     "metadata": {},
     "output_type": "execute_result"
    }
   ],
   "source": [
    "#50% optimality\n",
    "cobra.flux_analysis.flux_variability_analysis(\n",
    "    model, model.reactions.ACTt, fraction_of_optimum=0.5)"
   ]
  },
  {
   "cell_type": "code",
   "execution_count": 22,
   "id": "803e1065-5fee-43f4-9fea-2c1072ff1a3f",
   "metadata": {},
   "outputs": [
    {
     "data": {
      "text/html": [
       "<div>\n",
       "<style scoped>\n",
       "    .dataframe tbody tr th:only-of-type {\n",
       "        vertical-align: middle;\n",
       "    }\n",
       "\n",
       "    .dataframe tbody tr th {\n",
       "        vertical-align: top;\n",
       "    }\n",
       "\n",
       "    .dataframe thead th {\n",
       "        text-align: right;\n",
       "    }\n",
       "</style>\n",
       "<table border=\"1\" class=\"dataframe\">\n",
       "  <thead>\n",
       "    <tr style=\"text-align: right;\">\n",
       "      <th></th>\n",
       "      <th>minimum</th>\n",
       "      <th>maximum</th>\n",
       "    </tr>\n",
       "  </thead>\n",
       "  <tbody>\n",
       "    <tr>\n",
       "      <th>ACTt</th>\n",
       "      <td>0.456823</td>\n",
       "      <td>1.142058</td>\n",
       "    </tr>\n",
       "  </tbody>\n",
       "</table>\n",
       "</div>"
      ],
      "text/plain": [
       "       minimum   maximum\n",
       "ACTt  0.456823  1.142058"
      ]
     },
     "execution_count": 22,
     "metadata": {},
     "output_type": "execute_result"
    }
   ],
   "source": [
    "#40% optimality\n",
    "cobra.flux_analysis.flux_variability_analysis(\n",
    "    model, model.reactions.ACTt, fraction_of_optimum=0.4)"
   ]
  },
  {
   "cell_type": "code",
   "execution_count": 23,
   "id": "78ca45d9-865f-45f8-be96-012925f3ef88",
   "metadata": {},
   "outputs": [
    {
     "data": {
      "text/html": [
       "<div>\n",
       "<style scoped>\n",
       "    .dataframe tbody tr th:only-of-type {\n",
       "        vertical-align: middle;\n",
       "    }\n",
       "\n",
       "    .dataframe tbody tr th {\n",
       "        vertical-align: top;\n",
       "    }\n",
       "\n",
       "    .dataframe thead th {\n",
       "        text-align: right;\n",
       "    }\n",
       "</style>\n",
       "<table border=\"1\" class=\"dataframe\">\n",
       "  <thead>\n",
       "    <tr style=\"text-align: right;\">\n",
       "      <th></th>\n",
       "      <th>minimum</th>\n",
       "      <th>maximum</th>\n",
       "    </tr>\n",
       "  </thead>\n",
       "  <tbody>\n",
       "    <tr>\n",
       "      <th>ACTt</th>\n",
       "      <td>0.342617</td>\n",
       "      <td>1.142058</td>\n",
       "    </tr>\n",
       "  </tbody>\n",
       "</table>\n",
       "</div>"
      ],
      "text/plain": [
       "       minimum   maximum\n",
       "ACTt  0.342617  1.142058"
      ]
     },
     "execution_count": 23,
     "metadata": {},
     "output_type": "execute_result"
    }
   ],
   "source": [
    "#30% optimality\n",
    "cobra.flux_analysis.flux_variability_analysis(\n",
    "    model, model.reactions.ACTt, fraction_of_optimum=0.3)"
   ]
  },
  {
   "cell_type": "code",
   "execution_count": 24,
   "id": "a7c3a0ba-802d-43f6-af51-9adb771c6b5e",
   "metadata": {},
   "outputs": [
    {
     "data": {
      "text/html": [
       "<div>\n",
       "<style scoped>\n",
       "    .dataframe tbody tr th:only-of-type {\n",
       "        vertical-align: middle;\n",
       "    }\n",
       "\n",
       "    .dataframe tbody tr th {\n",
       "        vertical-align: top;\n",
       "    }\n",
       "\n",
       "    .dataframe thead th {\n",
       "        text-align: right;\n",
       "    }\n",
       "</style>\n",
       "<table border=\"1\" class=\"dataframe\">\n",
       "  <thead>\n",
       "    <tr style=\"text-align: right;\">\n",
       "      <th></th>\n",
       "      <th>minimum</th>\n",
       "      <th>maximum</th>\n",
       "    </tr>\n",
       "  </thead>\n",
       "  <tbody>\n",
       "    <tr>\n",
       "      <th>ACTt</th>\n",
       "      <td>0.228412</td>\n",
       "      <td>1.142058</td>\n",
       "    </tr>\n",
       "  </tbody>\n",
       "</table>\n",
       "</div>"
      ],
      "text/plain": [
       "       minimum   maximum\n",
       "ACTt  0.228412  1.142058"
      ]
     },
     "execution_count": 24,
     "metadata": {},
     "output_type": "execute_result"
    }
   ],
   "source": [
    "#20% optimality\n",
    "cobra.flux_analysis.flux_variability_analysis(\n",
    "    model, model.reactions.ACTt, fraction_of_optimum=0.2)"
   ]
  },
  {
   "cell_type": "code",
   "execution_count": 25,
   "id": "64a236c0-b604-45c5-b81c-6c08a74dc886",
   "metadata": {},
   "outputs": [
    {
     "data": {
      "text/html": [
       "<div>\n",
       "<style scoped>\n",
       "    .dataframe tbody tr th:only-of-type {\n",
       "        vertical-align: middle;\n",
       "    }\n",
       "\n",
       "    .dataframe tbody tr th {\n",
       "        vertical-align: top;\n",
       "    }\n",
       "\n",
       "    .dataframe thead th {\n",
       "        text-align: right;\n",
       "    }\n",
       "</style>\n",
       "<table border=\"1\" class=\"dataframe\">\n",
       "  <thead>\n",
       "    <tr style=\"text-align: right;\">\n",
       "      <th></th>\n",
       "      <th>minimum</th>\n",
       "      <th>maximum</th>\n",
       "    </tr>\n",
       "  </thead>\n",
       "  <tbody>\n",
       "    <tr>\n",
       "      <th>ACTt</th>\n",
       "      <td>0.114206</td>\n",
       "      <td>1.142058</td>\n",
       "    </tr>\n",
       "  </tbody>\n",
       "</table>\n",
       "</div>"
      ],
      "text/plain": [
       "       minimum   maximum\n",
       "ACTt  0.114206  1.142058"
      ]
     },
     "execution_count": 25,
     "metadata": {},
     "output_type": "execute_result"
    }
   ],
   "source": [
    "#10% optimality\n",
    "cobra.flux_analysis.flux_variability_analysis(\n",
    "    model, model.reactions.ACTt, fraction_of_optimum=0.1)"
   ]
  },
  {
   "cell_type": "code",
   "execution_count": 26,
   "id": "8e477216-76cd-403a-b0bf-48401c8b61d7",
   "metadata": {},
   "outputs": [
    {
     "data": {
      "text/html": [
       "<div>\n",
       "<style scoped>\n",
       "    .dataframe tbody tr th:only-of-type {\n",
       "        vertical-align: middle;\n",
       "    }\n",
       "\n",
       "    .dataframe tbody tr th {\n",
       "        vertical-align: top;\n",
       "    }\n",
       "\n",
       "    .dataframe thead th {\n",
       "        text-align: right;\n",
       "    }\n",
       "</style>\n",
       "<table border=\"1\" class=\"dataframe\">\n",
       "  <thead>\n",
       "    <tr style=\"text-align: right;\">\n",
       "      <th></th>\n",
       "      <th>minimum</th>\n",
       "      <th>maximum</th>\n",
       "    </tr>\n",
       "  </thead>\n",
       "  <tbody>\n",
       "    <tr>\n",
       "      <th>ACTt</th>\n",
       "      <td>0.0</td>\n",
       "      <td>1.142058</td>\n",
       "    </tr>\n",
       "  </tbody>\n",
       "</table>\n",
       "</div>"
      ],
      "text/plain": [
       "      minimum   maximum\n",
       "ACTt      0.0  1.142058"
      ]
     },
     "execution_count": 26,
     "metadata": {},
     "output_type": "execute_result"
    }
   ],
   "source": [
    "#0% optimality\n",
    "cobra.flux_analysis.flux_variability_analysis(\n",
    "    model, model.reactions.ACTt, fraction_of_optimum=0.0)"
   ]
  }
 ],
 "metadata": {
  "kernelspec": {
   "display_name": "me21",
   "language": "python",
   "name": "me21"
  },
  "language_info": {
   "codemirror_mode": {
    "name": "ipython",
    "version": 3
   },
   "file_extension": ".py",
   "mimetype": "text/x-python",
   "name": "python",
   "nbconvert_exporter": "python",
   "pygments_lexer": "ipython3",
   "version": "3.8.13"
  }
 },
 "nbformat": 4,
 "nbformat_minor": 5
}
