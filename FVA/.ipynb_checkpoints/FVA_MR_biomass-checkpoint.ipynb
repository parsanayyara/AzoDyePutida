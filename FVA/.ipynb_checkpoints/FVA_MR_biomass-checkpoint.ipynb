{
 "cells": [
  {
   "cell_type": "markdown",
   "id": "2e8d1879-4ab4-49ec-8a5e-e8aa1a5d8fed",
   "metadata": {},
   "source": [
    "### Flux Variability Analysis (MR vs Biomass)\n",
    "\n",
    "Purpose: generate MR vs Biomass production envelope\n",
    "\n",
    "Last Updated: Parsa Nayyara (01.02.24)"
   ]
  },
  {
   "cell_type": "code",
   "execution_count": 1,
   "id": "01862f49-5683-42dc-a10a-7dc931a07dc1",
   "metadata": {},
   "outputs": [],
   "source": [
    "import cobra.test\n",
    "import os\n",
    "from os.path import join\n",
    "\n",
    "data_dir = cobra.test.data_dir\n",
    "\n",
    "from __future__ import print_function\n",
    "\n",
    "from cobra import Model, Reaction, Metabolite"
   ]
  },
  {
   "cell_type": "code",
   "execution_count": 3,
   "id": "f24e73d2-c7ed-4b9b-a935-df70e8727f74",
   "metadata": {
    "tags": []
   },
   "outputs": [],
   "source": [
    "model = cobra.io.read_sbml_model(join(data_dir, modelfilepath))\n",
    "model.solver = \"cplex\""
   ]
  },
  {
   "cell_type": "code",
   "execution_count": 4,
   "id": "3f589d86-ac0d-4a29-956c-928c1a6206d0",
   "metadata": {},
   "outputs": [
    {
     "data": {
      "text/plain": [
       "{'EX_ca2_e': 10.0,\n",
       " 'EX_cl_e': 10.0,\n",
       " 'EX_co2_e': 100.0,\n",
       " 'EX_cobalt2_e': 10.0,\n",
       " 'EX_cu2_e': 10.0,\n",
       " 'EX_fe2_e': 10.0,\n",
       " 'EX_h2o_e': 100.0,\n",
       " 'EX_h_e': 100.0,\n",
       " 'EX_hco3_e': 10.0,\n",
       " 'EX_k_e': 10.0,\n",
       " 'EX_mg2_e': 10.0,\n",
       " 'EX_mn2_e': 10.0,\n",
       " 'EX_mobd_e': 10.0,\n",
       " 'EX_na1_e': 10.0,\n",
       " 'EX_nh4_e': 10.0,\n",
       " 'EX_ni2_e': 10.0,\n",
       " 'EX_o2_e': 30.0,\n",
       " 'EX_pi_e': 10.0,\n",
       " 'EX_sel_e': 10.0,\n",
       " 'EX_so4_e': 10.0,\n",
       " 'EX_tungs_e': 10.0,\n",
       " 'EX_zn2_e': 10.0,\n",
       " 'EX_MR': 1000}"
      ]
     },
     "execution_count": 4,
     "metadata": {},
     "output_type": "execute_result"
    }
   ],
   "source": [
    "# change bounds according to M9 minimal media in Nogales et al. 2020\n",
    "\n",
    "cobra.Reaction(\"EX_ca2_e\", lower_bound = -10, upper_bound = 1000.0)\n",
    "cobra.Reaction(\"EX_co2_e\", lower_bound = -100, upper_bound = 1000.0)\n",
    "cobra.Reaction(\"EX_cobalt2_e\", lower_bound = -10, upper_bound = 1000.0)\n",
    "cobra.Reaction(\"EX_cu2_e\", lower_bound = -10, upper_bound = 1000.0)\n",
    "cobra.Reaction(\"EX_cl_e\", lower_bound = -10, upper_bound = 1000.0)\n",
    "cobra.Reaction(\"EX_fe2_e\", lower_bound = -10, upper_bound = 1000.0)\n",
    "cobra.Reaction(\"EX_glc__D_e\", lower_bound = -6.3, upper_bound = 1000.0)\n",
    "cobra.Reaction(\"EX_h2o_e\", lower_bound = -100, upper_bound = 1000.0)\n",
    "cobra.Reaction(\"EX_h_e\", lower_bound = -100, upper_bound = 1000.0)\n",
    "cobra.Reaction(\"EX_hco3_e\", lower_bound = -10, upper_bound = 1000.0)\n",
    "cobra.Reaction(\"EX_k_e\", lower_bound = -10, upper_bound = 1000.0)\n",
    "cobra.Reaction(\"EX_mg2_e\", lower_bound = -10, upper_bound = 1000.0)\n",
    "cobra.Reaction(\"EX_mn2_e\", lower_bound = -10, upper_bound = 1000.0)\n",
    "cobra.Reaction(\"EX_mobd_e\", lower_bound = -10, upper_bound = 1000.0)\n",
    "cobra.Reaction(\"EX_nh4_e\", lower_bound = -10, upper_bound = 1000.0)\n",
    "cobra.Reaction(\"EX_ni2_e\", lower_bound = -10, upper_bound = 1000.0)\n",
    "cobra.Reaction(\"EX_o2_e\", lower_bound = -30, upper_bound = 1000.0)\n",
    "cobra.Reaction(\"EX_pi_e\", lower_bound = -10, upper_bound = 1000.0)\n",
    "cobra.Reaction(\"EX_sel_e\", lower_bound = -10, upper_bound = 1000.0)\n",
    "cobra.Reaction(\"EX_so4_e\", lower_bound = -10, upper_bound = 1000.0)\n",
    "cobra.Reaction(\"EX_tungs_e\", lower_bound = -10, upper_bound = 1000.0)\n",
    "cobra.Reaction(\"EX_zn2_e\", lower_bound = -10, upper_bound = 1000.0)\n",
    "cobra.Reaction(\"EX_MR\", lower_bound = -1000, upper_bound = 1000.0)\n",
    "\n",
    "medium = model.medium\n",
    "medium[\"EX_acmtsoxin_e\"] = 0.0\n",
    "medium[\"EX_acpptrn_e\"] = 0.0\n",
    "medium[\"EX_d2one_e\"] = 0.0\n",
    "medium[\"EX_d3one_e\"] = 0.0\n",
    "medium[\"EX_d4one_e\"] = 0.0\n",
    "medium[\"EX_mtsoxin_e\"] = 0.0\n",
    "medium[\"EX_n2one_e\"] = 0.0\n",
    "medium[\"EX_pptrn_e\"] = 0.0\n",
    "medium[\"EX_und2one_e\"] = 0.0\n",
    "medium[\"EX_gACT[e]\"] = 0.0\n",
    "medium[\"EX_nh4_e\"] = 10.0\n",
    "medium[\"EX_o2_e\"] = 30.0\n",
    "\n",
    "# change carbon source\n",
    "medium[\"EX_MR\"] = 1000\n",
    "medium[\"EX_glc__D_e\"] = 0.0\n",
    "\n",
    "model.medium = medium\n",
    "\n",
    "model.medium"
   ]
  },
  {
   "cell_type": "code",
   "execution_count": 5,
   "id": "acd7f9f4-b099-486c-8d22-e61141e1e2e5",
   "metadata": {},
   "outputs": [
    {
     "data": {
      "text/html": [
       "<div>\n",
       "<style scoped>\n",
       "    .dataframe tbody tr th:only-of-type {\n",
       "        vertical-align: middle;\n",
       "    }\n",
       "\n",
       "    .dataframe tbody tr th {\n",
       "        vertical-align: top;\n",
       "    }\n",
       "\n",
       "    .dataframe thead th {\n",
       "        text-align: right;\n",
       "    }\n",
       "</style>\n",
       "<table border=\"1\" class=\"dataframe\">\n",
       "  <thead>\n",
       "    <tr style=\"text-align: right;\">\n",
       "      <th></th>\n",
       "      <th>minimum</th>\n",
       "      <th>maximum</th>\n",
       "    </tr>\n",
       "  </thead>\n",
       "  <tbody>\n",
       "    <tr>\n",
       "      <th>MRt1</th>\n",
       "      <td>54.737215</td>\n",
       "      <td>54.737215</td>\n",
       "    </tr>\n",
       "  </tbody>\n",
       "</table>\n",
       "</div>"
      ],
      "text/plain": [
       "        minimum    maximum\n",
       "MRt1  54.737215  54.737215"
      ]
     },
     "execution_count": 5,
     "metadata": {},
     "output_type": "execute_result"
    }
   ],
   "source": [
    "#set objective\n",
    "\n",
    "model.objective = \"MRt1\"\n",
    "\n",
    "#Begin inspecting flux variability of MR uptake at 100% optimality\n",
    "\n",
    "cobra.flux_analysis.flux_variability_analysis(\n",
    "    model, model.reactions.MRt1, fraction_of_optimum=1)"
   ]
  },
  {
   "cell_type": "code",
   "execution_count": 6,
   "id": "1f1527d1-77d5-4b5a-bfe6-361c61176e12",
   "metadata": {},
   "outputs": [
    {
     "data": {
      "text/html": [
       "<div>\n",
       "<style scoped>\n",
       "    .dataframe tbody tr th:only-of-type {\n",
       "        vertical-align: middle;\n",
       "    }\n",
       "\n",
       "    .dataframe tbody tr th {\n",
       "        vertical-align: top;\n",
       "    }\n",
       "\n",
       "    .dataframe thead th {\n",
       "        text-align: right;\n",
       "    }\n",
       "</style>\n",
       "<table border=\"1\" class=\"dataframe\">\n",
       "  <thead>\n",
       "    <tr style=\"text-align: right;\">\n",
       "      <th></th>\n",
       "      <th>minimum</th>\n",
       "      <th>maximum</th>\n",
       "    </tr>\n",
       "  </thead>\n",
       "  <tbody>\n",
       "    <tr>\n",
       "      <th>MRt1</th>\n",
       "      <td>49.263494</td>\n",
       "      <td>54.737215</td>\n",
       "    </tr>\n",
       "  </tbody>\n",
       "</table>\n",
       "</div>"
      ],
      "text/plain": [
       "        minimum    maximum\n",
       "MRt1  49.263494  54.737215"
      ]
     },
     "execution_count": 6,
     "metadata": {},
     "output_type": "execute_result"
    }
   ],
   "source": [
    "#90% optimality\n",
    "cobra.flux_analysis.flux_variability_analysis(\n",
    "    model, model.reactions.MRt1, fraction_of_optimum=0.9)"
   ]
  },
  {
   "cell_type": "code",
   "execution_count": 7,
   "id": "3015935d-85ba-4d64-9f3c-73295bfd4e15",
   "metadata": {},
   "outputs": [
    {
     "data": {
      "text/html": [
       "<div>\n",
       "<style scoped>\n",
       "    .dataframe tbody tr th:only-of-type {\n",
       "        vertical-align: middle;\n",
       "    }\n",
       "\n",
       "    .dataframe tbody tr th {\n",
       "        vertical-align: top;\n",
       "    }\n",
       "\n",
       "    .dataframe thead th {\n",
       "        text-align: right;\n",
       "    }\n",
       "</style>\n",
       "<table border=\"1\" class=\"dataframe\">\n",
       "  <thead>\n",
       "    <tr style=\"text-align: right;\">\n",
       "      <th></th>\n",
       "      <th>minimum</th>\n",
       "      <th>maximum</th>\n",
       "    </tr>\n",
       "  </thead>\n",
       "  <tbody>\n",
       "    <tr>\n",
       "      <th>MRt1</th>\n",
       "      <td>43.789772</td>\n",
       "      <td>54.737215</td>\n",
       "    </tr>\n",
       "  </tbody>\n",
       "</table>\n",
       "</div>"
      ],
      "text/plain": [
       "        minimum    maximum\n",
       "MRt1  43.789772  54.737215"
      ]
     },
     "execution_count": 7,
     "metadata": {},
     "output_type": "execute_result"
    }
   ],
   "source": [
    "#80% optimality\n",
    "cobra.flux_analysis.flux_variability_analysis(\n",
    "    model, model.reactions.MRt1, fraction_of_optimum=0.8)"
   ]
  },
  {
   "cell_type": "code",
   "execution_count": 8,
   "id": "192e4ec5-6e9b-46f0-b1b7-5cb81a446a6d",
   "metadata": {},
   "outputs": [
    {
     "data": {
      "text/html": [
       "<div>\n",
       "<style scoped>\n",
       "    .dataframe tbody tr th:only-of-type {\n",
       "        vertical-align: middle;\n",
       "    }\n",
       "\n",
       "    .dataframe tbody tr th {\n",
       "        vertical-align: top;\n",
       "    }\n",
       "\n",
       "    .dataframe thead th {\n",
       "        text-align: right;\n",
       "    }\n",
       "</style>\n",
       "<table border=\"1\" class=\"dataframe\">\n",
       "  <thead>\n",
       "    <tr style=\"text-align: right;\">\n",
       "      <th></th>\n",
       "      <th>minimum</th>\n",
       "      <th>maximum</th>\n",
       "    </tr>\n",
       "  </thead>\n",
       "  <tbody>\n",
       "    <tr>\n",
       "      <th>MRt1</th>\n",
       "      <td>38.316051</td>\n",
       "      <td>54.737215</td>\n",
       "    </tr>\n",
       "  </tbody>\n",
       "</table>\n",
       "</div>"
      ],
      "text/plain": [
       "        minimum    maximum\n",
       "MRt1  38.316051  54.737215"
      ]
     },
     "execution_count": 8,
     "metadata": {},
     "output_type": "execute_result"
    }
   ],
   "source": [
    "#70% optimality\n",
    "cobra.flux_analysis.flux_variability_analysis(\n",
    "    model, model.reactions.MRt1, fraction_of_optimum=0.7)"
   ]
  },
  {
   "cell_type": "code",
   "execution_count": 9,
   "id": "fce13216-3dc7-45a2-a313-a52e240b67cf",
   "metadata": {},
   "outputs": [
    {
     "data": {
      "text/html": [
       "<div>\n",
       "<style scoped>\n",
       "    .dataframe tbody tr th:only-of-type {\n",
       "        vertical-align: middle;\n",
       "    }\n",
       "\n",
       "    .dataframe tbody tr th {\n",
       "        vertical-align: top;\n",
       "    }\n",
       "\n",
       "    .dataframe thead th {\n",
       "        text-align: right;\n",
       "    }\n",
       "</style>\n",
       "<table border=\"1\" class=\"dataframe\">\n",
       "  <thead>\n",
       "    <tr style=\"text-align: right;\">\n",
       "      <th></th>\n",
       "      <th>minimum</th>\n",
       "      <th>maximum</th>\n",
       "    </tr>\n",
       "  </thead>\n",
       "  <tbody>\n",
       "    <tr>\n",
       "      <th>MRt1</th>\n",
       "      <td>32.842329</td>\n",
       "      <td>54.737215</td>\n",
       "    </tr>\n",
       "  </tbody>\n",
       "</table>\n",
       "</div>"
      ],
      "text/plain": [
       "        minimum    maximum\n",
       "MRt1  32.842329  54.737215"
      ]
     },
     "execution_count": 9,
     "metadata": {},
     "output_type": "execute_result"
    }
   ],
   "source": [
    "#60% optimality\n",
    "cobra.flux_analysis.flux_variability_analysis(\n",
    "    model, model.reactions.MRt1, fraction_of_optimum=0.6)"
   ]
  },
  {
   "cell_type": "code",
   "execution_count": 10,
   "id": "f8669a3f-ffcd-46f3-ab1a-b1f13ccaa893",
   "metadata": {},
   "outputs": [
    {
     "data": {
      "text/html": [
       "<div>\n",
       "<style scoped>\n",
       "    .dataframe tbody tr th:only-of-type {\n",
       "        vertical-align: middle;\n",
       "    }\n",
       "\n",
       "    .dataframe tbody tr th {\n",
       "        vertical-align: top;\n",
       "    }\n",
       "\n",
       "    .dataframe thead th {\n",
       "        text-align: right;\n",
       "    }\n",
       "</style>\n",
       "<table border=\"1\" class=\"dataframe\">\n",
       "  <thead>\n",
       "    <tr style=\"text-align: right;\">\n",
       "      <th></th>\n",
       "      <th>minimum</th>\n",
       "      <th>maximum</th>\n",
       "    </tr>\n",
       "  </thead>\n",
       "  <tbody>\n",
       "    <tr>\n",
       "      <th>MRt1</th>\n",
       "      <td>27.368608</td>\n",
       "      <td>54.737215</td>\n",
       "    </tr>\n",
       "  </tbody>\n",
       "</table>\n",
       "</div>"
      ],
      "text/plain": [
       "        minimum    maximum\n",
       "MRt1  27.368608  54.737215"
      ]
     },
     "execution_count": 10,
     "metadata": {},
     "output_type": "execute_result"
    }
   ],
   "source": [
    "#50% optimality\n",
    "cobra.flux_analysis.flux_variability_analysis(\n",
    "    model, model.reactions.MRt1, fraction_of_optimum=0.5)"
   ]
  },
  {
   "cell_type": "code",
   "execution_count": 11,
   "id": "aa45ffa7-b1e2-46ef-bdc1-fc429e68e41a",
   "metadata": {},
   "outputs": [
    {
     "data": {
      "text/html": [
       "<div>\n",
       "<style scoped>\n",
       "    .dataframe tbody tr th:only-of-type {\n",
       "        vertical-align: middle;\n",
       "    }\n",
       "\n",
       "    .dataframe tbody tr th {\n",
       "        vertical-align: top;\n",
       "    }\n",
       "\n",
       "    .dataframe thead th {\n",
       "        text-align: right;\n",
       "    }\n",
       "</style>\n",
       "<table border=\"1\" class=\"dataframe\">\n",
       "  <thead>\n",
       "    <tr style=\"text-align: right;\">\n",
       "      <th></th>\n",
       "      <th>minimum</th>\n",
       "      <th>maximum</th>\n",
       "    </tr>\n",
       "  </thead>\n",
       "  <tbody>\n",
       "    <tr>\n",
       "      <th>MRt1</th>\n",
       "      <td>21.894886</td>\n",
       "      <td>54.737215</td>\n",
       "    </tr>\n",
       "  </tbody>\n",
       "</table>\n",
       "</div>"
      ],
      "text/plain": [
       "        minimum    maximum\n",
       "MRt1  21.894886  54.737215"
      ]
     },
     "execution_count": 11,
     "metadata": {},
     "output_type": "execute_result"
    }
   ],
   "source": [
    "#40% optimality\n",
    "cobra.flux_analysis.flux_variability_analysis(\n",
    "    model, model.reactions.MRt1, fraction_of_optimum=0.4)"
   ]
  },
  {
   "cell_type": "code",
   "execution_count": 12,
   "id": "390907df-8cf5-447b-b1d8-756912db2e9b",
   "metadata": {},
   "outputs": [
    {
     "data": {
      "text/html": [
       "<div>\n",
       "<style scoped>\n",
       "    .dataframe tbody tr th:only-of-type {\n",
       "        vertical-align: middle;\n",
       "    }\n",
       "\n",
       "    .dataframe tbody tr th {\n",
       "        vertical-align: top;\n",
       "    }\n",
       "\n",
       "    .dataframe thead th {\n",
       "        text-align: right;\n",
       "    }\n",
       "</style>\n",
       "<table border=\"1\" class=\"dataframe\">\n",
       "  <thead>\n",
       "    <tr style=\"text-align: right;\">\n",
       "      <th></th>\n",
       "      <th>minimum</th>\n",
       "      <th>maximum</th>\n",
       "    </tr>\n",
       "  </thead>\n",
       "  <tbody>\n",
       "    <tr>\n",
       "      <th>MRt1</th>\n",
       "      <td>16.421165</td>\n",
       "      <td>54.737215</td>\n",
       "    </tr>\n",
       "  </tbody>\n",
       "</table>\n",
       "</div>"
      ],
      "text/plain": [
       "        minimum    maximum\n",
       "MRt1  16.421165  54.737215"
      ]
     },
     "execution_count": 12,
     "metadata": {},
     "output_type": "execute_result"
    }
   ],
   "source": [
    "#30% optimality\n",
    "cobra.flux_analysis.flux_variability_analysis(\n",
    "    model, model.reactions.MRt1, fraction_of_optimum=0.3)"
   ]
  },
  {
   "cell_type": "code",
   "execution_count": 13,
   "id": "cf3e09e9-44c9-4f62-a2d8-4eef1fc8fa39",
   "metadata": {},
   "outputs": [
    {
     "data": {
      "text/html": [
       "<div>\n",
       "<style scoped>\n",
       "    .dataframe tbody tr th:only-of-type {\n",
       "        vertical-align: middle;\n",
       "    }\n",
       "\n",
       "    .dataframe tbody tr th {\n",
       "        vertical-align: top;\n",
       "    }\n",
       "\n",
       "    .dataframe thead th {\n",
       "        text-align: right;\n",
       "    }\n",
       "</style>\n",
       "<table border=\"1\" class=\"dataframe\">\n",
       "  <thead>\n",
       "    <tr style=\"text-align: right;\">\n",
       "      <th></th>\n",
       "      <th>minimum</th>\n",
       "      <th>maximum</th>\n",
       "    </tr>\n",
       "  </thead>\n",
       "  <tbody>\n",
       "    <tr>\n",
       "      <th>MRt1</th>\n",
       "      <td>10.947443</td>\n",
       "      <td>54.737215</td>\n",
       "    </tr>\n",
       "  </tbody>\n",
       "</table>\n",
       "</div>"
      ],
      "text/plain": [
       "        minimum    maximum\n",
       "MRt1  10.947443  54.737215"
      ]
     },
     "execution_count": 13,
     "metadata": {},
     "output_type": "execute_result"
    }
   ],
   "source": [
    "#20% optimality\n",
    "cobra.flux_analysis.flux_variability_analysis(\n",
    "    model, model.reactions.MRt1, fraction_of_optimum=0.2)"
   ]
  },
  {
   "cell_type": "code",
   "execution_count": 14,
   "id": "8c770070-27eb-4f79-b9f3-eb5c0562873e",
   "metadata": {},
   "outputs": [
    {
     "data": {
      "text/html": [
       "<div>\n",
       "<style scoped>\n",
       "    .dataframe tbody tr th:only-of-type {\n",
       "        vertical-align: middle;\n",
       "    }\n",
       "\n",
       "    .dataframe tbody tr th {\n",
       "        vertical-align: top;\n",
       "    }\n",
       "\n",
       "    .dataframe thead th {\n",
       "        text-align: right;\n",
       "    }\n",
       "</style>\n",
       "<table border=\"1\" class=\"dataframe\">\n",
       "  <thead>\n",
       "    <tr style=\"text-align: right;\">\n",
       "      <th></th>\n",
       "      <th>minimum</th>\n",
       "      <th>maximum</th>\n",
       "    </tr>\n",
       "  </thead>\n",
       "  <tbody>\n",
       "    <tr>\n",
       "      <th>MRt1</th>\n",
       "      <td>5.473722</td>\n",
       "      <td>54.737215</td>\n",
       "    </tr>\n",
       "  </tbody>\n",
       "</table>\n",
       "</div>"
      ],
      "text/plain": [
       "       minimum    maximum\n",
       "MRt1  5.473722  54.737215"
      ]
     },
     "execution_count": 14,
     "metadata": {},
     "output_type": "execute_result"
    }
   ],
   "source": [
    "#10% optimality\n",
    "cobra.flux_analysis.flux_variability_analysis(\n",
    "    model, model.reactions.MRt1, fraction_of_optimum=0.1)"
   ]
  },
  {
   "cell_type": "code",
   "execution_count": 15,
   "id": "1c9c1818-a8cd-43b8-ae23-cb9edecf9495",
   "metadata": {},
   "outputs": [
    {
     "data": {
      "text/html": [
       "<div>\n",
       "<style scoped>\n",
       "    .dataframe tbody tr th:only-of-type {\n",
       "        vertical-align: middle;\n",
       "    }\n",
       "\n",
       "    .dataframe tbody tr th {\n",
       "        vertical-align: top;\n",
       "    }\n",
       "\n",
       "    .dataframe thead th {\n",
       "        text-align: right;\n",
       "    }\n",
       "</style>\n",
       "<table border=\"1\" class=\"dataframe\">\n",
       "  <thead>\n",
       "    <tr style=\"text-align: right;\">\n",
       "      <th></th>\n",
       "      <th>minimum</th>\n",
       "      <th>maximum</th>\n",
       "    </tr>\n",
       "  </thead>\n",
       "  <tbody>\n",
       "    <tr>\n",
       "      <th>MRt1</th>\n",
       "      <td>0.062373</td>\n",
       "      <td>54.737215</td>\n",
       "    </tr>\n",
       "  </tbody>\n",
       "</table>\n",
       "</div>"
      ],
      "text/plain": [
       "       minimum    maximum\n",
       "MRt1  0.062373  54.737215"
      ]
     },
     "execution_count": 15,
     "metadata": {},
     "output_type": "execute_result"
    }
   ],
   "source": [
    "#0% optimality\n",
    "cobra.flux_analysis.flux_variability_analysis(\n",
    "    model, model.reactions.MRt1, fraction_of_optimum=0.0)"
   ]
  },
  {
   "cell_type": "code",
   "execution_count": 16,
   "id": "0d27664d-15a6-402a-8336-ab1956c367b1",
   "metadata": {},
   "outputs": [
    {
     "data": {
      "text/html": [
       "<div>\n",
       "<style scoped>\n",
       "    .dataframe tbody tr th:only-of-type {\n",
       "        vertical-align: middle;\n",
       "    }\n",
       "\n",
       "    .dataframe tbody tr th {\n",
       "        vertical-align: top;\n",
       "    }\n",
       "\n",
       "    .dataframe thead th {\n",
       "        text-align: right;\n",
       "    }\n",
       "</style>\n",
       "<table border=\"1\" class=\"dataframe\">\n",
       "  <thead>\n",
       "    <tr style=\"text-align: right;\">\n",
       "      <th></th>\n",
       "      <th>minimum</th>\n",
       "      <th>maximum</th>\n",
       "    </tr>\n",
       "  </thead>\n",
       "  <tbody>\n",
       "    <tr>\n",
       "      <th>BIOMASS_KT2440_WT3</th>\n",
       "      <td>0.0</td>\n",
       "      <td>0.0</td>\n",
       "    </tr>\n",
       "  </tbody>\n",
       "</table>\n",
       "</div>"
      ],
      "text/plain": [
       "                    minimum  maximum\n",
       "BIOMASS_KT2440_WT3      0.0      0.0"
      ]
     },
     "execution_count": 16,
     "metadata": {},
     "output_type": "execute_result"
    }
   ],
   "source": [
    "#set objective\n",
    "\n",
    "model.objective = \"MRt1\"\n",
    "\n",
    "#Begin inspecting flux variability of biomass at 100% optimality\n",
    "\n",
    "cobra.flux_analysis.flux_variability_analysis(\n",
    "    model, model.reactions.BIOMASS_KT2440_WT3, fraction_of_optimum=1)"
   ]
  },
  {
   "cell_type": "code",
   "execution_count": 17,
   "id": "6add3182-4438-4870-bfa5-b018af7fee9f",
   "metadata": {},
   "outputs": [
    {
     "data": {
      "text/html": [
       "<div>\n",
       "<style scoped>\n",
       "    .dataframe tbody tr th:only-of-type {\n",
       "        vertical-align: middle;\n",
       "    }\n",
       "\n",
       "    .dataframe tbody tr th {\n",
       "        vertical-align: top;\n",
       "    }\n",
       "\n",
       "    .dataframe thead th {\n",
       "        text-align: right;\n",
       "    }\n",
       "</style>\n",
       "<table border=\"1\" class=\"dataframe\">\n",
       "  <thead>\n",
       "    <tr style=\"text-align: right;\">\n",
       "      <th></th>\n",
       "      <th>minimum</th>\n",
       "      <th>maximum</th>\n",
       "    </tr>\n",
       "  </thead>\n",
       "  <tbody>\n",
       "    <tr>\n",
       "      <th>BIOMASS_KT2440_WT3</th>\n",
       "      <td>0.0</td>\n",
       "      <td>0.094133</td>\n",
       "    </tr>\n",
       "  </tbody>\n",
       "</table>\n",
       "</div>"
      ],
      "text/plain": [
       "                    minimum   maximum\n",
       "BIOMASS_KT2440_WT3      0.0  0.094133"
      ]
     },
     "execution_count": 17,
     "metadata": {},
     "output_type": "execute_result"
    }
   ],
   "source": [
    "#90% optimality\n",
    "cobra.flux_analysis.flux_variability_analysis(\n",
    "    model, model.reactions.BIOMASS_KT2440_WT3, fraction_of_optimum=0.9)"
   ]
  },
  {
   "cell_type": "code",
   "execution_count": 18,
   "id": "df91f864-65f6-4d0c-8129-b28523622c87",
   "metadata": {},
   "outputs": [
    {
     "data": {
      "text/html": [
       "<div>\n",
       "<style scoped>\n",
       "    .dataframe tbody tr th:only-of-type {\n",
       "        vertical-align: middle;\n",
       "    }\n",
       "\n",
       "    .dataframe tbody tr th {\n",
       "        vertical-align: top;\n",
       "    }\n",
       "\n",
       "    .dataframe thead th {\n",
       "        text-align: right;\n",
       "    }\n",
       "</style>\n",
       "<table border=\"1\" class=\"dataframe\">\n",
       "  <thead>\n",
       "    <tr style=\"text-align: right;\">\n",
       "      <th></th>\n",
       "      <th>minimum</th>\n",
       "      <th>maximum</th>\n",
       "    </tr>\n",
       "  </thead>\n",
       "  <tbody>\n",
       "    <tr>\n",
       "      <th>BIOMASS_KT2440_WT3</th>\n",
       "      <td>0.0</td>\n",
       "      <td>0.188266</td>\n",
       "    </tr>\n",
       "  </tbody>\n",
       "</table>\n",
       "</div>"
      ],
      "text/plain": [
       "                    minimum   maximum\n",
       "BIOMASS_KT2440_WT3      0.0  0.188266"
      ]
     },
     "execution_count": 18,
     "metadata": {},
     "output_type": "execute_result"
    }
   ],
   "source": [
    "#80% optimality\n",
    "cobra.flux_analysis.flux_variability_analysis(\n",
    "    model, model.reactions.BIOMASS_KT2440_WT3, fraction_of_optimum=0.8)"
   ]
  },
  {
   "cell_type": "code",
   "execution_count": 19,
   "id": "34779bff-a551-410f-84a4-48d7744bc51f",
   "metadata": {},
   "outputs": [
    {
     "data": {
      "text/html": [
       "<div>\n",
       "<style scoped>\n",
       "    .dataframe tbody tr th:only-of-type {\n",
       "        vertical-align: middle;\n",
       "    }\n",
       "\n",
       "    .dataframe tbody tr th {\n",
       "        vertical-align: top;\n",
       "    }\n",
       "\n",
       "    .dataframe thead th {\n",
       "        text-align: right;\n",
       "    }\n",
       "</style>\n",
       "<table border=\"1\" class=\"dataframe\">\n",
       "  <thead>\n",
       "    <tr style=\"text-align: right;\">\n",
       "      <th></th>\n",
       "      <th>minimum</th>\n",
       "      <th>maximum</th>\n",
       "    </tr>\n",
       "  </thead>\n",
       "  <tbody>\n",
       "    <tr>\n",
       "      <th>BIOMASS_KT2440_WT3</th>\n",
       "      <td>0.0</td>\n",
       "      <td>0.2824</td>\n",
       "    </tr>\n",
       "  </tbody>\n",
       "</table>\n",
       "</div>"
      ],
      "text/plain": [
       "                    minimum  maximum\n",
       "BIOMASS_KT2440_WT3      0.0   0.2824"
      ]
     },
     "execution_count": 19,
     "metadata": {},
     "output_type": "execute_result"
    }
   ],
   "source": [
    "#70% optimality\n",
    "cobra.flux_analysis.flux_variability_analysis(\n",
    "    model, model.reactions.BIOMASS_KT2440_WT3, fraction_of_optimum=0.7)"
   ]
  },
  {
   "cell_type": "code",
   "execution_count": 20,
   "id": "567e2fe9-6aed-4770-b187-550519b6caff",
   "metadata": {},
   "outputs": [
    {
     "data": {
      "text/html": [
       "<div>\n",
       "<style scoped>\n",
       "    .dataframe tbody tr th:only-of-type {\n",
       "        vertical-align: middle;\n",
       "    }\n",
       "\n",
       "    .dataframe tbody tr th {\n",
       "        vertical-align: top;\n",
       "    }\n",
       "\n",
       "    .dataframe thead th {\n",
       "        text-align: right;\n",
       "    }\n",
       "</style>\n",
       "<table border=\"1\" class=\"dataframe\">\n",
       "  <thead>\n",
       "    <tr style=\"text-align: right;\">\n",
       "      <th></th>\n",
       "      <th>minimum</th>\n",
       "      <th>maximum</th>\n",
       "    </tr>\n",
       "  </thead>\n",
       "  <tbody>\n",
       "    <tr>\n",
       "      <th>BIOMASS_KT2440_WT3</th>\n",
       "      <td>0.0</td>\n",
       "      <td>0.376533</td>\n",
       "    </tr>\n",
       "  </tbody>\n",
       "</table>\n",
       "</div>"
      ],
      "text/plain": [
       "                    minimum   maximum\n",
       "BIOMASS_KT2440_WT3      0.0  0.376533"
      ]
     },
     "execution_count": 20,
     "metadata": {},
     "output_type": "execute_result"
    }
   ],
   "source": [
    "#60% optimality\n",
    "cobra.flux_analysis.flux_variability_analysis(\n",
    "    model, model.reactions.BIOMASS_KT2440_WT3, fraction_of_optimum=0.6)"
   ]
  },
  {
   "cell_type": "code",
   "execution_count": 21,
   "id": "f91907f4-4fb0-4707-90c2-1b42f263cec8",
   "metadata": {},
   "outputs": [
    {
     "data": {
      "text/html": [
       "<div>\n",
       "<style scoped>\n",
       "    .dataframe tbody tr th:only-of-type {\n",
       "        vertical-align: middle;\n",
       "    }\n",
       "\n",
       "    .dataframe tbody tr th {\n",
       "        vertical-align: top;\n",
       "    }\n",
       "\n",
       "    .dataframe thead th {\n",
       "        text-align: right;\n",
       "    }\n",
       "</style>\n",
       "<table border=\"1\" class=\"dataframe\">\n",
       "  <thead>\n",
       "    <tr style=\"text-align: right;\">\n",
       "      <th></th>\n",
       "      <th>minimum</th>\n",
       "      <th>maximum</th>\n",
       "    </tr>\n",
       "  </thead>\n",
       "  <tbody>\n",
       "    <tr>\n",
       "      <th>BIOMASS_KT2440_WT3</th>\n",
       "      <td>0.0</td>\n",
       "      <td>0.453041</td>\n",
       "    </tr>\n",
       "  </tbody>\n",
       "</table>\n",
       "</div>"
      ],
      "text/plain": [
       "                    minimum   maximum\n",
       "BIOMASS_KT2440_WT3      0.0  0.453041"
      ]
     },
     "execution_count": 21,
     "metadata": {},
     "output_type": "execute_result"
    }
   ],
   "source": [
    "#50% optimality\n",
    "cobra.flux_analysis.flux_variability_analysis(\n",
    "    model, model.reactions.BIOMASS_KT2440_WT3, fraction_of_optimum=0.5)"
   ]
  },
  {
   "cell_type": "code",
   "execution_count": 22,
   "id": "7cbdac9f-c7fc-46c1-91f9-29ad207a9d73",
   "metadata": {},
   "outputs": [
    {
     "data": {
      "text/html": [
       "<div>\n",
       "<style scoped>\n",
       "    .dataframe tbody tr th:only-of-type {\n",
       "        vertical-align: middle;\n",
       "    }\n",
       "\n",
       "    .dataframe tbody tr th {\n",
       "        vertical-align: top;\n",
       "    }\n",
       "\n",
       "    .dataframe thead th {\n",
       "        text-align: right;\n",
       "    }\n",
       "</style>\n",
       "<table border=\"1\" class=\"dataframe\">\n",
       "  <thead>\n",
       "    <tr style=\"text-align: right;\">\n",
       "      <th></th>\n",
       "      <th>minimum</th>\n",
       "      <th>maximum</th>\n",
       "    </tr>\n",
       "  </thead>\n",
       "  <tbody>\n",
       "    <tr>\n",
       "      <th>BIOMASS_KT2440_WT3</th>\n",
       "      <td>0.0</td>\n",
       "      <td>0.499415</td>\n",
       "    </tr>\n",
       "  </tbody>\n",
       "</table>\n",
       "</div>"
      ],
      "text/plain": [
       "                    minimum   maximum\n",
       "BIOMASS_KT2440_WT3      0.0  0.499415"
      ]
     },
     "execution_count": 22,
     "metadata": {},
     "output_type": "execute_result"
    }
   ],
   "source": [
    "#40% optimality\n",
    "cobra.flux_analysis.flux_variability_analysis(\n",
    "    model, model.reactions.BIOMASS_KT2440_WT3, fraction_of_optimum=0.4)"
   ]
  },
  {
   "cell_type": "code",
   "execution_count": 23,
   "id": "4c70e785-359b-4b36-9cc5-9d09d0b3e078",
   "metadata": {},
   "outputs": [
    {
     "data": {
      "text/html": [
       "<div>\n",
       "<style scoped>\n",
       "    .dataframe tbody tr th:only-of-type {\n",
       "        vertical-align: middle;\n",
       "    }\n",
       "\n",
       "    .dataframe tbody tr th {\n",
       "        vertical-align: top;\n",
       "    }\n",
       "\n",
       "    .dataframe thead th {\n",
       "        text-align: right;\n",
       "    }\n",
       "</style>\n",
       "<table border=\"1\" class=\"dataframe\">\n",
       "  <thead>\n",
       "    <tr style=\"text-align: right;\">\n",
       "      <th></th>\n",
       "      <th>minimum</th>\n",
       "      <th>maximum</th>\n",
       "    </tr>\n",
       "  </thead>\n",
       "  <tbody>\n",
       "    <tr>\n",
       "      <th>BIOMASS_KT2440_WT3</th>\n",
       "      <td>0.0</td>\n",
       "      <td>0.541683</td>\n",
       "    </tr>\n",
       "  </tbody>\n",
       "</table>\n",
       "</div>"
      ],
      "text/plain": [
       "                    minimum   maximum\n",
       "BIOMASS_KT2440_WT3      0.0  0.541683"
      ]
     },
     "execution_count": 23,
     "metadata": {},
     "output_type": "execute_result"
    }
   ],
   "source": [
    "#30% optimality\n",
    "cobra.flux_analysis.flux_variability_analysis(\n",
    "    model, model.reactions.BIOMASS_KT2440_WT3, fraction_of_optimum=0.3)"
   ]
  },
  {
   "cell_type": "code",
   "execution_count": 24,
   "id": "f9de6729-bff1-4e04-96cd-4ff3afd524f2",
   "metadata": {},
   "outputs": [
    {
     "data": {
      "text/html": [
       "<div>\n",
       "<style scoped>\n",
       "    .dataframe tbody tr th:only-of-type {\n",
       "        vertical-align: middle;\n",
       "    }\n",
       "\n",
       "    .dataframe tbody tr th {\n",
       "        vertical-align: top;\n",
       "    }\n",
       "\n",
       "    .dataframe thead th {\n",
       "        text-align: right;\n",
       "    }\n",
       "</style>\n",
       "<table border=\"1\" class=\"dataframe\">\n",
       "  <thead>\n",
       "    <tr style=\"text-align: right;\">\n",
       "      <th></th>\n",
       "      <th>minimum</th>\n",
       "      <th>maximum</th>\n",
       "    </tr>\n",
       "  </thead>\n",
       "  <tbody>\n",
       "    <tr>\n",
       "      <th>BIOMASS_KT2440_WT3</th>\n",
       "      <td>0.0</td>\n",
       "      <td>0.58395</td>\n",
       "    </tr>\n",
       "  </tbody>\n",
       "</table>\n",
       "</div>"
      ],
      "text/plain": [
       "                    minimum  maximum\n",
       "BIOMASS_KT2440_WT3      0.0  0.58395"
      ]
     },
     "execution_count": 24,
     "metadata": {},
     "output_type": "execute_result"
    }
   ],
   "source": [
    "#20% optimality\n",
    "cobra.flux_analysis.flux_variability_analysis(\n",
    "    model, model.reactions.BIOMASS_KT2440_WT3, fraction_of_optimum=0.2)"
   ]
  },
  {
   "cell_type": "code",
   "execution_count": 25,
   "id": "1b7ae0ff-0576-4c95-824e-0845a2930d4e",
   "metadata": {},
   "outputs": [
    {
     "data": {
      "text/html": [
       "<div>\n",
       "<style scoped>\n",
       "    .dataframe tbody tr th:only-of-type {\n",
       "        vertical-align: middle;\n",
       "    }\n",
       "\n",
       "    .dataframe tbody tr th {\n",
       "        vertical-align: top;\n",
       "    }\n",
       "\n",
       "    .dataframe thead th {\n",
       "        text-align: right;\n",
       "    }\n",
       "</style>\n",
       "<table border=\"1\" class=\"dataframe\">\n",
       "  <thead>\n",
       "    <tr style=\"text-align: right;\">\n",
       "      <th></th>\n",
       "      <th>minimum</th>\n",
       "      <th>maximum</th>\n",
       "    </tr>\n",
       "  </thead>\n",
       "  <tbody>\n",
       "    <tr>\n",
       "      <th>BIOMASS_KT2440_WT3</th>\n",
       "      <td>0.0</td>\n",
       "      <td>0.597625</td>\n",
       "    </tr>\n",
       "  </tbody>\n",
       "</table>\n",
       "</div>"
      ],
      "text/plain": [
       "                    minimum   maximum\n",
       "BIOMASS_KT2440_WT3      0.0  0.597625"
      ]
     },
     "execution_count": 25,
     "metadata": {},
     "output_type": "execute_result"
    }
   ],
   "source": [
    "#10% optimality\n",
    "cobra.flux_analysis.flux_variability_analysis(\n",
    "    model, model.reactions.BIOMASS_KT2440_WT3, fraction_of_optimum=0.1)"
   ]
  },
  {
   "cell_type": "code",
   "execution_count": 26,
   "id": "22165adc-8be7-42d0-ae4a-9f218aedb684",
   "metadata": {},
   "outputs": [
    {
     "data": {
      "text/html": [
       "<div>\n",
       "<style scoped>\n",
       "    .dataframe tbody tr th:only-of-type {\n",
       "        vertical-align: middle;\n",
       "    }\n",
       "\n",
       "    .dataframe tbody tr th {\n",
       "        vertical-align: top;\n",
       "    }\n",
       "\n",
       "    .dataframe thead th {\n",
       "        text-align: right;\n",
       "    }\n",
       "</style>\n",
       "<table border=\"1\" class=\"dataframe\">\n",
       "  <thead>\n",
       "    <tr style=\"text-align: right;\">\n",
       "      <th></th>\n",
       "      <th>minimum</th>\n",
       "      <th>maximum</th>\n",
       "    </tr>\n",
       "  </thead>\n",
       "  <tbody>\n",
       "    <tr>\n",
       "      <th>BIOMASS_KT2440_WT3</th>\n",
       "      <td>0.0</td>\n",
       "      <td>0.597625</td>\n",
       "    </tr>\n",
       "  </tbody>\n",
       "</table>\n",
       "</div>"
      ],
      "text/plain": [
       "                    minimum   maximum\n",
       "BIOMASS_KT2440_WT3      0.0  0.597625"
      ]
     },
     "execution_count": 26,
     "metadata": {},
     "output_type": "execute_result"
    }
   ],
   "source": [
    "#0% optimality\n",
    "cobra.flux_analysis.flux_variability_analysis(\n",
    "    model, model.reactions.BIOMASS_KT2440_WT3, fraction_of_optimum=0.0)"
   ]
  }
 ],
 "metadata": {
  "kernelspec": {
   "display_name": "me21",
   "language": "python",
   "name": "me21"
  },
  "language_info": {
   "codemirror_mode": {
    "name": "ipython",
    "version": 3
   },
   "file_extension": ".py",
   "mimetype": "text/x-python",
   "name": "python",
   "nbconvert_exporter": "python",
   "pygments_lexer": "ipython3",
   "version": "3.8.13"
  }
 },
 "nbformat": 4,
 "nbformat_minor": 5
}
